{
 "cells": [
  {
   "cell_type": "markdown",
   "source": [
    "# Model Selection\n",
    "\n",
    "The plan for this notebook is to select both model class and hyperparameters to move forward with. From the baseline model notebook it was shown that logistic regression and random forest performed best based on the following metrics:\n",
    "\n",
    "- Average Precision\n",
    "- F1 Score\n",
    "- ROC AUC\n",
    "- Precision\n",
    "- Recall\n",
    "- Log Loss\n",
    "- Train time\n",
    "- Score time\n",
    "- etc.\n",
    "\n",
    "Given there are so many metrics being used, it can be difficult to pin down the best model. But in this notebook there will be a focus on threshold free metrics, such as average precision and ROC AUC. Once a model is selected it will be fine-tuned and the\n",
    "\n",
    "Gradient boosted trees (GBT) performed poorly mostly due to poor precision and execution time. But given there widespread use throughout ML problems, it will still be included as a contender in this model selection process, as the assumption is that the baseline model had very poor hyperparameters or overfitting which caused the poor performance.\n",
    "\n",
    "Feature engineering has already been conducted and no further engineering will be done in this notebook, although in reality further engineering would be done in an attempt to improve the model after the model selection."
   ],
   "metadata": {
    "collapsed": false
   }
  },
  {
   "cell_type": "code",
   "execution_count": null,
   "outputs": [],
   "source": [
    "import numpy as np\n",
    "import pandas as pd\n",
    "import random\n",
    "import seaborn as sns\n",
    "import matplotlib.pyplot as plt\n",
    "import datetime\n",
    "import time\n",
    "\n",
    "pd.options.display.float_format = \"{:.3f}\".format"
   ],
   "metadata": {
    "collapsed": false
   }
  },
  {
   "cell_type": "markdown",
   "source": [
    "## Define functions to run pipelines"
   ],
   "metadata": {
    "collapsed": false
   }
  },
  {
   "cell_type": "code",
   "execution_count": null,
   "outputs": [],
   "source": [
    "# model performance\n",
    "## hold-out validation\n",
    "## consider repeated hold-out validation to get validation error\n",
    "# saving and retrieving"
   ],
   "metadata": {
    "collapsed": false
   }
  },
  {
   "cell_type": "markdown",
   "source": [
    "## Run for different model classes"
   ],
   "metadata": {
    "collapsed": false
   }
  },
  {
   "cell_type": "markdown",
   "source": [
    "### Logistic regression\n",
    "Logistic regression needs some extra effort given the features should be independent"
   ],
   "metadata": {
    "collapsed": false
   }
  },
  {
   "cell_type": "markdown",
   "source": [
    "#### Feature selection\n",
    "\n",
    "- Remove features that are heavily correlated to reduce multicolinearity"
   ],
   "metadata": {
    "collapsed": false
   }
  },
  {
   "cell_type": "markdown",
   "source": [
    "#### Run logistic regression"
   ],
   "metadata": {
    "collapsed": false
   }
  },
  {
   "cell_type": "markdown",
   "source": [
    "### Random forest"
   ],
   "metadata": {
    "collapsed": false
   }
  },
  {
   "cell_type": "markdown",
   "source": [
    "### Gradient boosted trees"
   ],
   "metadata": {
    "collapsed": false
   }
  },
  {
   "cell_type": "markdown",
   "source": [
    "## Model choice and justification\n",
    "\n",
    "Compare all models based on Average Precision and ROC AUC."
   ],
   "metadata": {
    "collapsed": false
   }
  },
  {
   "cell_type": "markdown",
   "source": [
    "# Learnings\n",
    "TODO\n",
    "- Other evaluation metrics that could be included\n",
    "- Other model classes that could be tested\n",
    "\n",
    "Next steps are to check if special treatment is needed due to the imbalanced dataset"
   ],
   "metadata": {
    "collapsed": false
   }
  },
  {
   "cell_type": "code",
   "execution_count": null,
   "outputs": [],
   "source": [],
   "metadata": {
    "collapsed": false
   }
  }
 ],
 "metadata": {
  "kernelspec": {
   "display_name": "Python 3",
   "language": "python",
   "name": "python3"
  },
  "language_info": {
   "codemirror_mode": {
    "name": "ipython",
    "version": 2
   },
   "file_extension": ".py",
   "mimetype": "text/x-python",
   "name": "python",
   "nbconvert_exporter": "python",
   "pygments_lexer": "ipython2",
   "version": "2.7.6"
  }
 },
 "nbformat": 4,
 "nbformat_minor": 0
}
