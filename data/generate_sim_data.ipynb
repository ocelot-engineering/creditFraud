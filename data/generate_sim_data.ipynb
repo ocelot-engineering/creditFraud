{
 "cells": [
  {
   "cell_type": "markdown",
   "source": [
    "# Simulate a fraud dataset.\n",
    "\n",
    "**NOTE: This following code is copied from:** [Fraud Detection Handbook](https://fraud-detection-handbook.github.io/fraud-detection-handbook/Chapter_3_GettingStarted/SimulatedDataset.html)\n",
    "\n",
    "Why simulate a dataset rather than use an already available one? This is because not many credit fraud datasets are available given the sensitivity of the data."
   ],
   "metadata": {
    "collapsed": false
   }
  },
  {
   "cell_type": "code",
   "execution_count": 6,
   "outputs": [],
   "source": [
    "import os\n",
    "import numpy as np\n",
    "import pandas as pd\n",
    "import datetime\n",
    "import time\n",
    "import random"
   ],
   "metadata": {
    "collapsed": false
   }
  },
  {
   "cell_type": "markdown",
   "source": [
    "### Customer profiles"
   ],
   "metadata": {
    "collapsed": false
   }
  },
  {
   "cell_type": "code",
   "execution_count": 12,
   "outputs": [],
   "source": [
    "def generate_customer_profiles_table(n_customers, random_state=0):\n",
    "\n",
    "    np.random.seed(random_state)\n",
    "\n",
    "    customer_id_properties=[]\n",
    "\n",
    "    # Generate customer properties from random distributions\n",
    "    for customer_id in range(n_customers):\n",
    "\n",
    "        x_customer_id = np.random.uniform(0,100)\n",
    "        y_customer_id = np.random.uniform(0,100)\n",
    "\n",
    "        mean_amount = np.random.uniform(5,100) # Arbitrary (but sensible) value\n",
    "        std_amount = mean_amount/2 # Arbitrary (but sensible) value\n",
    "\n",
    "        mean_nb_tx_per_day = np.random.uniform(0,4) # Arbitrary (but sensible) value\n",
    "\n",
    "        customer_id_properties.append([customer_id,\n",
    "                                      x_customer_id, y_customer_id,\n",
    "                                      mean_amount, std_amount,\n",
    "                                      mean_nb_tx_per_day])\n",
    "\n",
    "    customer_profiles_table = pd.DataFrame(customer_id_properties, columns=['CUSTOMER_ID',\n",
    "                                                                      'x_customer_id', 'y_customer_id',\n",
    "                                                                      'mean_amount', 'std_amount',\n",
    "                                                                      'mean_nb_tx_per_day'])\n",
    "\n",
    "    return customer_profiles_table"
   ],
   "metadata": {
    "collapsed": false
   }
  },
  {
   "cell_type": "code",
   "execution_count": 11,
   "outputs": [
    {
     "data": {
      "text/plain": "   CUSTOMER_ID  x_customer_id  y_customer_id  mean_amount  std_amount  \\\n0            0      54.881350      71.518937    62.262521   31.131260   \n1            1      42.365480      64.589411    46.570785   23.285393   \n2            2      96.366276      38.344152    80.213879   40.106939   \n3            3      56.804456      92.559664    11.748426    5.874213   \n4            4       2.021840      83.261985    78.924891   39.462446   \n\n   mean_nb_tx_per_day  \n0            2.179533  \n1            3.567092  \n2            2.115580  \n3            0.348517  \n4            3.480049  ",
      "text/html": "<div>\n<style scoped>\n    .dataframe tbody tr th:only-of-type {\n        vertical-align: middle;\n    }\n\n    .dataframe tbody tr th {\n        vertical-align: top;\n    }\n\n    .dataframe thead th {\n        text-align: right;\n    }\n</style>\n<table border=\"1\" class=\"dataframe\">\n  <thead>\n    <tr style=\"text-align: right;\">\n      <th></th>\n      <th>CUSTOMER_ID</th>\n      <th>x_customer_id</th>\n      <th>y_customer_id</th>\n      <th>mean_amount</th>\n      <th>std_amount</th>\n      <th>mean_nb_tx_per_day</th>\n    </tr>\n  </thead>\n  <tbody>\n    <tr>\n      <th>0</th>\n      <td>0</td>\n      <td>54.881350</td>\n      <td>71.518937</td>\n      <td>62.262521</td>\n      <td>31.131260</td>\n      <td>2.179533</td>\n    </tr>\n    <tr>\n      <th>1</th>\n      <td>1</td>\n      <td>42.365480</td>\n      <td>64.589411</td>\n      <td>46.570785</td>\n      <td>23.285393</td>\n      <td>3.567092</td>\n    </tr>\n    <tr>\n      <th>2</th>\n      <td>2</td>\n      <td>96.366276</td>\n      <td>38.344152</td>\n      <td>80.213879</td>\n      <td>40.106939</td>\n      <td>2.115580</td>\n    </tr>\n    <tr>\n      <th>3</th>\n      <td>3</td>\n      <td>56.804456</td>\n      <td>92.559664</td>\n      <td>11.748426</td>\n      <td>5.874213</td>\n      <td>0.348517</td>\n    </tr>\n    <tr>\n      <th>4</th>\n      <td>4</td>\n      <td>2.021840</td>\n      <td>83.261985</td>\n      <td>78.924891</td>\n      <td>39.462446</td>\n      <td>3.480049</td>\n    </tr>\n  </tbody>\n</table>\n</div>"
     },
     "execution_count": 11,
     "metadata": {},
     "output_type": "execute_result"
    }
   ],
   "source": [
    "n_customers = 5\n",
    "customer_profiles_table = generate_customer_profiles_table(n_customers, random_state = 0)\n",
    "customer_profiles_table"
   ],
   "metadata": {
    "collapsed": false
   }
  },
  {
   "cell_type": "markdown",
   "source": [
    "### Terminal profiles"
   ],
   "metadata": {
    "collapsed": false
   }
  },
  {
   "cell_type": "code",
   "execution_count": 13,
   "outputs": [],
   "source": [
    "def generate_terminal_profiles_table(n_terminals, random_state=0):\n",
    "\n",
    "    np.random.seed(random_state)\n",
    "\n",
    "    terminal_id_properties=[]\n",
    "\n",
    "    # Generate terminal properties from random distributions\n",
    "    for terminal_id in range(n_terminals):\n",
    "\n",
    "        x_terminal_id = np.random.uniform(0,100)\n",
    "        y_terminal_id = np.random.uniform(0,100)\n",
    "\n",
    "        terminal_id_properties.append([terminal_id,\n",
    "                                      x_terminal_id, y_terminal_id])\n",
    "\n",
    "    terminal_profiles_table = pd.DataFrame(terminal_id_properties, columns=['TERMINAL_ID',\n",
    "                                                                      'x_terminal_id', 'y_terminal_id'])\n",
    "\n",
    "    return terminal_profiles_table"
   ],
   "metadata": {
    "collapsed": false
   }
  },
  {
   "cell_type": "code",
   "execution_count": 14,
   "outputs": [
    {
     "data": {
      "text/plain": "   TERMINAL_ID  x_terminal_id  y_terminal_id\n0            0      54.881350      71.518937\n1            1      60.276338      54.488318\n2            2      42.365480      64.589411\n3            3      43.758721      89.177300\n4            4      96.366276      38.344152",
      "text/html": "<div>\n<style scoped>\n    .dataframe tbody tr th:only-of-type {\n        vertical-align: middle;\n    }\n\n    .dataframe tbody tr th {\n        vertical-align: top;\n    }\n\n    .dataframe thead th {\n        text-align: right;\n    }\n</style>\n<table border=\"1\" class=\"dataframe\">\n  <thead>\n    <tr style=\"text-align: right;\">\n      <th></th>\n      <th>TERMINAL_ID</th>\n      <th>x_terminal_id</th>\n      <th>y_terminal_id</th>\n    </tr>\n  </thead>\n  <tbody>\n    <tr>\n      <th>0</th>\n      <td>0</td>\n      <td>54.881350</td>\n      <td>71.518937</td>\n    </tr>\n    <tr>\n      <th>1</th>\n      <td>1</td>\n      <td>60.276338</td>\n      <td>54.488318</td>\n    </tr>\n    <tr>\n      <th>2</th>\n      <td>2</td>\n      <td>42.365480</td>\n      <td>64.589411</td>\n    </tr>\n    <tr>\n      <th>3</th>\n      <td>3</td>\n      <td>43.758721</td>\n      <td>89.177300</td>\n    </tr>\n    <tr>\n      <th>4</th>\n      <td>4</td>\n      <td>96.366276</td>\n      <td>38.344152</td>\n    </tr>\n  </tbody>\n</table>\n</div>"
     },
     "execution_count": 14,
     "metadata": {},
     "output_type": "execute_result"
    }
   ],
   "source": [
    "n_terminals = 5\n",
    "terminal_profiles_table = generate_terminal_profiles_table(n_terminals, random_state = 0)\n",
    "terminal_profiles_table"
   ],
   "metadata": {
    "collapsed": false
   }
  },
  {
   "cell_type": "code",
   "execution_count": 15,
   "outputs": [],
   "source": [
    "def get_list_terminals_within_radius(customer_profile, x_y_terminals, r):\n",
    "\n",
    "    # Use numpy arrays in the following to speed up computations\n",
    "\n",
    "    # Location (x,y) of customer as numpy array\n",
    "    x_y_customer = customer_profile[['x_customer_id','y_customer_id']].values.astype(float)\n",
    "\n",
    "    # Squared difference in coordinates between customer and terminal locations\n",
    "    squared_diff_x_y = np.square(x_y_customer - x_y_terminals)\n",
    "\n",
    "    # Sum along rows and compute suared root to get distance\n",
    "    dist_x_y = np.sqrt(np.sum(squared_diff_x_y, axis=1))\n",
    "\n",
    "    # Get the indices of terminals which are at a distance less than r\n",
    "    available_terminals = list(np.where(dist_x_y<r)[0])\n",
    "\n",
    "    # Return the list of terminal IDs\n",
    "    return available_terminals"
   ],
   "metadata": {
    "collapsed": false
   }
  },
  {
   "cell_type": "code",
   "execution_count": 16,
   "outputs": [
    {
     "data": {
      "text/plain": "[2, 3]"
     },
     "execution_count": 16,
     "metadata": {},
     "output_type": "execute_result"
    }
   ],
   "source": [
    "# Check for 1 customer\n",
    "# We first get the geographical locations of all terminals as a numpy array\n",
    "x_y_terminals = terminal_profiles_table[['x_terminal_id','y_terminal_id']].values.astype(float)\n",
    "# And get the list of terminals within radius of $50$ for the last customer\n",
    "get_list_terminals_within_radius(customer_profiles_table.iloc[4], x_y_terminals=x_y_terminals, r=50)"
   ],
   "metadata": {
    "collapsed": false
   }
  },
  {
   "cell_type": "code",
   "execution_count": 17,
   "outputs": [
    {
     "data": {
      "text/plain": "   CUSTOMER_ID  x_customer_id  y_customer_id  mean_amount  std_amount  \\\n0            0      54.881350      71.518937    62.262521   31.131260   \n1            1      42.365480      64.589411    46.570785   23.285393   \n2            2      96.366276      38.344152    80.213879   40.106939   \n3            3      56.804456      92.559664    11.748426    5.874213   \n4            4       2.021840      83.261985    78.924891   39.462446   \n\n   mean_nb_tx_per_day available_terminals  \n0            2.179533        [0, 1, 2, 3]  \n1            3.567092        [0, 1, 2, 3]  \n2            2.115580              [1, 4]  \n3            0.348517        [0, 1, 2, 3]  \n4            3.480049              [2, 3]  ",
      "text/html": "<div>\n<style scoped>\n    .dataframe tbody tr th:only-of-type {\n        vertical-align: middle;\n    }\n\n    .dataframe tbody tr th {\n        vertical-align: top;\n    }\n\n    .dataframe thead th {\n        text-align: right;\n    }\n</style>\n<table border=\"1\" class=\"dataframe\">\n  <thead>\n    <tr style=\"text-align: right;\">\n      <th></th>\n      <th>CUSTOMER_ID</th>\n      <th>x_customer_id</th>\n      <th>y_customer_id</th>\n      <th>mean_amount</th>\n      <th>std_amount</th>\n      <th>mean_nb_tx_per_day</th>\n      <th>available_terminals</th>\n    </tr>\n  </thead>\n  <tbody>\n    <tr>\n      <th>0</th>\n      <td>0</td>\n      <td>54.881350</td>\n      <td>71.518937</td>\n      <td>62.262521</td>\n      <td>31.131260</td>\n      <td>2.179533</td>\n      <td>[0, 1, 2, 3]</td>\n    </tr>\n    <tr>\n      <th>1</th>\n      <td>1</td>\n      <td>42.365480</td>\n      <td>64.589411</td>\n      <td>46.570785</td>\n      <td>23.285393</td>\n      <td>3.567092</td>\n      <td>[0, 1, 2, 3]</td>\n    </tr>\n    <tr>\n      <th>2</th>\n      <td>2</td>\n      <td>96.366276</td>\n      <td>38.344152</td>\n      <td>80.213879</td>\n      <td>40.106939</td>\n      <td>2.115580</td>\n      <td>[1, 4]</td>\n    </tr>\n    <tr>\n      <th>3</th>\n      <td>3</td>\n      <td>56.804456</td>\n      <td>92.559664</td>\n      <td>11.748426</td>\n      <td>5.874213</td>\n      <td>0.348517</td>\n      <td>[0, 1, 2, 3]</td>\n    </tr>\n    <tr>\n      <th>4</th>\n      <td>4</td>\n      <td>2.021840</td>\n      <td>83.261985</td>\n      <td>78.924891</td>\n      <td>39.462446</td>\n      <td>3.480049</td>\n      <td>[2, 3]</td>\n    </tr>\n  </tbody>\n</table>\n</div>"
     },
     "execution_count": 17,
     "metadata": {},
     "output_type": "execute_result"
    }
   ],
   "source": [
    "customer_profiles_table['available_terminals']=customer_profiles_table.apply(lambda x : get_list_terminals_within_radius(x, x_y_terminals=x_y_terminals, r=50), axis=1)\n",
    "customer_profiles_table"
   ],
   "metadata": {
    "collapsed": false
   }
  },
  {
   "cell_type": "markdown",
   "source": [
    "### Transactions"
   ],
   "metadata": {
    "collapsed": false
   }
  },
  {
   "cell_type": "code",
   "execution_count": 18,
   "outputs": [],
   "source": [
    "def generate_transactions_table(customer_profile, start_date = \"2018-04-01\", nb_days = 10):\n",
    "\n",
    "    customer_transactions = []\n",
    "\n",
    "    random.seed(int(customer_profile.CUSTOMER_ID))\n",
    "    np.random.seed(int(customer_profile.CUSTOMER_ID))\n",
    "\n",
    "    # For all days\n",
    "    for day in range(nb_days):\n",
    "\n",
    "        # Random number of transactions for that day\n",
    "        nb_tx = np.random.poisson(customer_profile.mean_nb_tx_per_day)\n",
    "\n",
    "        # If nb_tx positive, let us generate transactions\n",
    "        if nb_tx>0:\n",
    "\n",
    "            for tx in range(nb_tx):\n",
    "\n",
    "                # Time of transaction: Around noon, std 20000 seconds. This choice aims at simulating the fact that\n",
    "                # most transactions occur during the day.\n",
    "                time_tx = int(np.random.normal(86400/2, 20000))\n",
    "\n",
    "                # If transaction time between 0 and 86400, let us keep it, otherwise, let us discard it\n",
    "                if (time_tx>0) and (time_tx<86400):\n",
    "\n",
    "                    # Amount is drawn from a normal distribution\n",
    "                    amount = np.random.normal(customer_profile.mean_amount, customer_profile.std_amount)\n",
    "\n",
    "                    # If amount negative, draw from a uniform distribution\n",
    "                    if amount<0:\n",
    "                        amount = np.random.uniform(0,customer_profile.mean_amount*2)\n",
    "\n",
    "                    amount=np.round(amount,decimals=2)\n",
    "\n",
    "                    if len(customer_profile.available_terminals)>0:\n",
    "\n",
    "                        terminal_id = random.choice(customer_profile.available_terminals)\n",
    "\n",
    "                        customer_transactions.append([time_tx+day*86400, day,\n",
    "                                                      customer_profile.CUSTOMER_ID,\n",
    "                                                      terminal_id, amount])\n",
    "\n",
    "    customer_transactions = pd.DataFrame(customer_transactions, columns=['TX_TIME_SECONDS', 'TX_TIME_DAYS', 'CUSTOMER_ID', 'TERMINAL_ID', 'TX_AMOUNT'])\n",
    "\n",
    "    if len(customer_transactions)>0:\n",
    "        customer_transactions['TX_DATETIME'] = pd.to_datetime(customer_transactions[\"TX_TIME_SECONDS\"], unit='s', origin=start_date)\n",
    "        customer_transactions=customer_transactions[['TX_DATETIME','CUSTOMER_ID', 'TERMINAL_ID', 'TX_AMOUNT','TX_TIME_SECONDS', 'TX_TIME_DAYS']]\n",
    "\n",
    "    return customer_transactions"
   ],
   "metadata": {
    "collapsed": false
   }
  },
  {
   "cell_type": "code",
   "execution_count": 19,
   "outputs": [
    {
     "data": {
      "text/plain": "           TX_DATETIME  CUSTOMER_ID  TERMINAL_ID  TX_AMOUNT  TX_TIME_SECONDS  \\\n0  2018-04-01 07:19:05            0            3     123.59            26345   \n1  2018-04-01 19:02:02            0            3      46.51            68522   \n2  2018-04-01 18:00:16            0            0      77.34            64816   \n3  2018-04-02 15:13:02            0            2      32.35           141182   \n4  2018-04-02 14:05:38            0            3      63.30           137138   \n5  2018-04-02 15:46:51            0            3      13.59           143211   \n6  2018-04-02 08:51:06            0            2      54.72           118266   \n7  2018-04-02 20:24:47            0            3      51.89           159887   \n8  2018-04-03 12:15:47            0            2     117.91           216947   \n9  2018-04-03 08:50:09            0            1      67.72           204609   \n10 2018-04-03 09:25:49            0            1      28.46           206749   \n11 2018-04-03 15:33:14            0            2      50.25           228794   \n12 2018-04-03 07:41:24            0            1      93.26           200484   \n13 2018-04-04 01:15:35            0            0      46.40           263735   \n14 2018-04-04 09:33:58            0            2      23.26           293638   \n15 2018-04-05 16:19:09            0            1      71.96           404349   \n16 2018-04-05 07:41:19            0            2      52.69           373279   \n\n    TX_TIME_DAYS  \n0              0  \n1              0  \n2              0  \n3              1  \n4              1  \n5              1  \n6              1  \n7              1  \n8              2  \n9              2  \n10             2  \n11             2  \n12             2  \n13             3  \n14             3  \n15             4  \n16             4  ",
      "text/html": "<div>\n<style scoped>\n    .dataframe tbody tr th:only-of-type {\n        vertical-align: middle;\n    }\n\n    .dataframe tbody tr th {\n        vertical-align: top;\n    }\n\n    .dataframe thead th {\n        text-align: right;\n    }\n</style>\n<table border=\"1\" class=\"dataframe\">\n  <thead>\n    <tr style=\"text-align: right;\">\n      <th></th>\n      <th>TX_DATETIME</th>\n      <th>CUSTOMER_ID</th>\n      <th>TERMINAL_ID</th>\n      <th>TX_AMOUNT</th>\n      <th>TX_TIME_SECONDS</th>\n      <th>TX_TIME_DAYS</th>\n    </tr>\n  </thead>\n  <tbody>\n    <tr>\n      <th>0</th>\n      <td>2018-04-01 07:19:05</td>\n      <td>0</td>\n      <td>3</td>\n      <td>123.59</td>\n      <td>26345</td>\n      <td>0</td>\n    </tr>\n    <tr>\n      <th>1</th>\n      <td>2018-04-01 19:02:02</td>\n      <td>0</td>\n      <td>3</td>\n      <td>46.51</td>\n      <td>68522</td>\n      <td>0</td>\n    </tr>\n    <tr>\n      <th>2</th>\n      <td>2018-04-01 18:00:16</td>\n      <td>0</td>\n      <td>0</td>\n      <td>77.34</td>\n      <td>64816</td>\n      <td>0</td>\n    </tr>\n    <tr>\n      <th>3</th>\n      <td>2018-04-02 15:13:02</td>\n      <td>0</td>\n      <td>2</td>\n      <td>32.35</td>\n      <td>141182</td>\n      <td>1</td>\n    </tr>\n    <tr>\n      <th>4</th>\n      <td>2018-04-02 14:05:38</td>\n      <td>0</td>\n      <td>3</td>\n      <td>63.30</td>\n      <td>137138</td>\n      <td>1</td>\n    </tr>\n    <tr>\n      <th>5</th>\n      <td>2018-04-02 15:46:51</td>\n      <td>0</td>\n      <td>3</td>\n      <td>13.59</td>\n      <td>143211</td>\n      <td>1</td>\n    </tr>\n    <tr>\n      <th>6</th>\n      <td>2018-04-02 08:51:06</td>\n      <td>0</td>\n      <td>2</td>\n      <td>54.72</td>\n      <td>118266</td>\n      <td>1</td>\n    </tr>\n    <tr>\n      <th>7</th>\n      <td>2018-04-02 20:24:47</td>\n      <td>0</td>\n      <td>3</td>\n      <td>51.89</td>\n      <td>159887</td>\n      <td>1</td>\n    </tr>\n    <tr>\n      <th>8</th>\n      <td>2018-04-03 12:15:47</td>\n      <td>0</td>\n      <td>2</td>\n      <td>117.91</td>\n      <td>216947</td>\n      <td>2</td>\n    </tr>\n    <tr>\n      <th>9</th>\n      <td>2018-04-03 08:50:09</td>\n      <td>0</td>\n      <td>1</td>\n      <td>67.72</td>\n      <td>204609</td>\n      <td>2</td>\n    </tr>\n    <tr>\n      <th>10</th>\n      <td>2018-04-03 09:25:49</td>\n      <td>0</td>\n      <td>1</td>\n      <td>28.46</td>\n      <td>206749</td>\n      <td>2</td>\n    </tr>\n    <tr>\n      <th>11</th>\n      <td>2018-04-03 15:33:14</td>\n      <td>0</td>\n      <td>2</td>\n      <td>50.25</td>\n      <td>228794</td>\n      <td>2</td>\n    </tr>\n    <tr>\n      <th>12</th>\n      <td>2018-04-03 07:41:24</td>\n      <td>0</td>\n      <td>1</td>\n      <td>93.26</td>\n      <td>200484</td>\n      <td>2</td>\n    </tr>\n    <tr>\n      <th>13</th>\n      <td>2018-04-04 01:15:35</td>\n      <td>0</td>\n      <td>0</td>\n      <td>46.40</td>\n      <td>263735</td>\n      <td>3</td>\n    </tr>\n    <tr>\n      <th>14</th>\n      <td>2018-04-04 09:33:58</td>\n      <td>0</td>\n      <td>2</td>\n      <td>23.26</td>\n      <td>293638</td>\n      <td>3</td>\n    </tr>\n    <tr>\n      <th>15</th>\n      <td>2018-04-05 16:19:09</td>\n      <td>0</td>\n      <td>1</td>\n      <td>71.96</td>\n      <td>404349</td>\n      <td>4</td>\n    </tr>\n    <tr>\n      <th>16</th>\n      <td>2018-04-05 07:41:19</td>\n      <td>0</td>\n      <td>2</td>\n      <td>52.69</td>\n      <td>373279</td>\n      <td>4</td>\n    </tr>\n  </tbody>\n</table>\n</div>"
     },
     "execution_count": 19,
     "metadata": {},
     "output_type": "execute_result"
    }
   ],
   "source": [
    "# Generate for 1 customer\n",
    "transaction_table_customer_0=generate_transactions_table(customer_profiles_table.iloc[0],\n",
    "                                                         start_date = \"2018-04-01\",\n",
    "                                                         nb_days = 5)\n",
    "transaction_table_customer_0"
   ],
   "metadata": {
    "collapsed": false
   }
  },
  {
   "cell_type": "code",
   "execution_count": 20,
   "outputs": [
    {
     "data": {
      "text/plain": "           TX_DATETIME  CUSTOMER_ID  TERMINAL_ID  TX_AMOUNT  TX_TIME_SECONDS  \\\n0  2018-04-01 07:19:05            0            3     123.59            26345   \n1  2018-04-01 19:02:02            0            3      46.51            68522   \n2  2018-04-01 18:00:16            0            0      77.34            64816   \n3  2018-04-02 15:13:02            0            2      32.35           141182   \n4  2018-04-02 14:05:38            0            3      63.30           137138   \n..                 ...          ...          ...        ...              ...   \n60 2018-04-05 07:41:19            4            2     111.38           373279   \n61 2018-04-05 06:59:59            4            3      80.36           370799   \n62 2018-04-05 17:23:34            4            2      53.25           408214   \n63 2018-04-05 12:51:38            4            2      36.44           391898   \n64 2018-04-05 12:38:46            4            3      17.53           391126   \n\n    TX_TIME_DAYS  \n0              0  \n1              0  \n2              0  \n3              1  \n4              1  \n..           ...  \n60             4  \n61             4  \n62             4  \n63             4  \n64             4  \n\n[65 rows x 6 columns]",
      "text/html": "<div>\n<style scoped>\n    .dataframe tbody tr th:only-of-type {\n        vertical-align: middle;\n    }\n\n    .dataframe tbody tr th {\n        vertical-align: top;\n    }\n\n    .dataframe thead th {\n        text-align: right;\n    }\n</style>\n<table border=\"1\" class=\"dataframe\">\n  <thead>\n    <tr style=\"text-align: right;\">\n      <th></th>\n      <th>TX_DATETIME</th>\n      <th>CUSTOMER_ID</th>\n      <th>TERMINAL_ID</th>\n      <th>TX_AMOUNT</th>\n      <th>TX_TIME_SECONDS</th>\n      <th>TX_TIME_DAYS</th>\n    </tr>\n  </thead>\n  <tbody>\n    <tr>\n      <th>0</th>\n      <td>2018-04-01 07:19:05</td>\n      <td>0</td>\n      <td>3</td>\n      <td>123.59</td>\n      <td>26345</td>\n      <td>0</td>\n    </tr>\n    <tr>\n      <th>1</th>\n      <td>2018-04-01 19:02:02</td>\n      <td>0</td>\n      <td>3</td>\n      <td>46.51</td>\n      <td>68522</td>\n      <td>0</td>\n    </tr>\n    <tr>\n      <th>2</th>\n      <td>2018-04-01 18:00:16</td>\n      <td>0</td>\n      <td>0</td>\n      <td>77.34</td>\n      <td>64816</td>\n      <td>0</td>\n    </tr>\n    <tr>\n      <th>3</th>\n      <td>2018-04-02 15:13:02</td>\n      <td>0</td>\n      <td>2</td>\n      <td>32.35</td>\n      <td>141182</td>\n      <td>1</td>\n    </tr>\n    <tr>\n      <th>4</th>\n      <td>2018-04-02 14:05:38</td>\n      <td>0</td>\n      <td>3</td>\n      <td>63.30</td>\n      <td>137138</td>\n      <td>1</td>\n    </tr>\n    <tr>\n      <th>...</th>\n      <td>...</td>\n      <td>...</td>\n      <td>...</td>\n      <td>...</td>\n      <td>...</td>\n      <td>...</td>\n    </tr>\n    <tr>\n      <th>60</th>\n      <td>2018-04-05 07:41:19</td>\n      <td>4</td>\n      <td>2</td>\n      <td>111.38</td>\n      <td>373279</td>\n      <td>4</td>\n    </tr>\n    <tr>\n      <th>61</th>\n      <td>2018-04-05 06:59:59</td>\n      <td>4</td>\n      <td>3</td>\n      <td>80.36</td>\n      <td>370799</td>\n      <td>4</td>\n    </tr>\n    <tr>\n      <th>62</th>\n      <td>2018-04-05 17:23:34</td>\n      <td>4</td>\n      <td>2</td>\n      <td>53.25</td>\n      <td>408214</td>\n      <td>4</td>\n    </tr>\n    <tr>\n      <th>63</th>\n      <td>2018-04-05 12:51:38</td>\n      <td>4</td>\n      <td>2</td>\n      <td>36.44</td>\n      <td>391898</td>\n      <td>4</td>\n    </tr>\n    <tr>\n      <th>64</th>\n      <td>2018-04-05 12:38:46</td>\n      <td>4</td>\n      <td>3</td>\n      <td>17.53</td>\n      <td>391126</td>\n      <td>4</td>\n    </tr>\n  </tbody>\n</table>\n<p>65 rows × 6 columns</p>\n</div>"
     },
     "execution_count": 20,
     "metadata": {},
     "output_type": "execute_result"
    }
   ],
   "source": [
    "# Generate for all customers\n",
    "transactions_df=customer_profiles_table.groupby('CUSTOMER_ID').apply(lambda x : generate_transactions_table(x.iloc[0], nb_days=5)).reset_index(drop=True)\n",
    "transactions_df"
   ],
   "metadata": {
    "collapsed": false
   }
  },
  {
   "cell_type": "markdown",
   "source": [
    "### Generate a large dataset"
   ],
   "metadata": {
    "collapsed": false
   }
  },
  {
   "cell_type": "code",
   "execution_count": 21,
   "outputs": [],
   "source": [
    "def generate_dataset(n_customers = 10000, n_terminals = 1000000, nb_days=90, start_date=\"2018-04-01\", r=5):\n",
    "\n",
    "    start_time=time.time()\n",
    "    customer_profiles_table = generate_customer_profiles_table(n_customers, random_state = 0)\n",
    "    print(\"Time to generate customer profiles table: {0:.2}s\".format(time.time()-start_time))\n",
    "\n",
    "    start_time=time.time()\n",
    "    terminal_profiles_table = generate_terminal_profiles_table(n_terminals, random_state = 1)\n",
    "    print(\"Time to generate terminal profiles table: {0:.2}s\".format(time.time()-start_time))\n",
    "\n",
    "    start_time=time.time()\n",
    "    x_y_terminals = terminal_profiles_table[['x_terminal_id','y_terminal_id']].values.astype(float)\n",
    "    customer_profiles_table['available_terminals'] = customer_profiles_table.apply(lambda x : get_list_terminals_within_radius(x, x_y_terminals=x_y_terminals, r=r), axis=1)\n",
    "    # With Pandarallel\n",
    "    #customer_profiles_table['available_terminals'] = customer_profiles_table.parallel_apply(lambda x : get_list_closest_terminals(x, x_y_terminals=x_y_terminals, r=r), axis=1)\n",
    "    customer_profiles_table['nb_terminals']=customer_profiles_table.available_terminals.apply(len)\n",
    "    print(\"Time to associate terminals to customers: {0:.2}s\".format(time.time()-start_time))\n",
    "\n",
    "    start_time=time.time()\n",
    "    transactions_df=customer_profiles_table.groupby('CUSTOMER_ID').apply(lambda x : generate_transactions_table(x.iloc[0], nb_days=nb_days)).reset_index(drop=True)\n",
    "    # With Pandarallel\n",
    "    #transactions_df=customer_profiles_table.groupby('CUSTOMER_ID').parallel_apply(lambda x : generate_transactions_table(x.iloc[0], nb_days=nb_days)).reset_index(drop=True)\n",
    "    print(\"Time to generate transactions: {0:.2}s\".format(time.time()-start_time))\n",
    "\n",
    "    # Sort transactions chronologically\n",
    "    transactions_df=transactions_df.sort_values('TX_DATETIME')\n",
    "    # Reset indices, starting from 0\n",
    "    transactions_df.reset_index(inplace=True,drop=True)\n",
    "    transactions_df.reset_index(inplace=True)\n",
    "    # TRANSACTION_ID are the dataframe indices, starting from 0\n",
    "    transactions_df.rename(columns = {'index':'TRANSACTION_ID'}, inplace = True)\n",
    "\n",
    "    return (customer_profiles_table, terminal_profiles_table, transactions_df)\n"
   ],
   "metadata": {
    "collapsed": false
   }
  },
  {
   "cell_type": "code",
   "execution_count": 22,
   "outputs": [
    {
     "name": "stdout",
     "output_type": "stream",
     "text": [
      "Time to generate customer profiles table: 0.053s\n",
      "Time to generate terminal profiles table: 0.053s\n",
      "Time to associate terminals to customers: 3.2s\n",
      "Time to generate transactions: 1.4e+02s\n"
     ]
    }
   ],
   "source": [
    "(customer_profiles_table, terminal_profiles_table, transactions_df)=\\\n",
    "    generate_dataset(n_customers = 5000,\n",
    "                     n_terminals = 10000,\n",
    "                     nb_days=183,\n",
    "                     start_date=\"2018-04-01\",\n",
    "                     r=5)"
   ],
   "metadata": {
    "collapsed": false
   }
  },
  {
   "cell_type": "markdown",
   "source": [
    "### Add frauds"
   ],
   "metadata": {
    "collapsed": false
   }
  },
  {
   "cell_type": "code",
   "execution_count": 23,
   "outputs": [],
   "source": [
    "def add_frauds(customer_profiles_table, terminal_profiles_table, transactions_df):\n",
    "\n",
    "    # By default, all transactions are genuine\n",
    "    transactions_df['TX_FRAUD']=0\n",
    "    transactions_df['TX_FRAUD_SCENARIO']=0\n",
    "\n",
    "    # Scenario 1\n",
    "    transactions_df.loc[transactions_df.TX_AMOUNT>220, 'TX_FRAUD']=1\n",
    "    transactions_df.loc[transactions_df.TX_AMOUNT>220, 'TX_FRAUD_SCENARIO']=1\n",
    "    nb_frauds_scenario_1=transactions_df.TX_FRAUD.sum()\n",
    "    print(\"Number of frauds from scenario 1: \"+str(nb_frauds_scenario_1))\n",
    "\n",
    "    # Scenario 2\n",
    "    for day in range(transactions_df.TX_TIME_DAYS.max()):\n",
    "\n",
    "        compromised_terminals = terminal_profiles_table.TERMINAL_ID.sample(n=2, random_state=day)\n",
    "\n",
    "        compromised_transactions=transactions_df[(transactions_df.TX_TIME_DAYS>=day) &\n",
    "                                                    (transactions_df.TX_TIME_DAYS<day+28) &\n",
    "                                                    (transactions_df.TERMINAL_ID.isin(compromised_terminals))]\n",
    "\n",
    "        transactions_df.loc[compromised_transactions.index,'TX_FRAUD']=1\n",
    "        transactions_df.loc[compromised_transactions.index,'TX_FRAUD_SCENARIO']=2\n",
    "\n",
    "    nb_frauds_scenario_2=transactions_df.TX_FRAUD.sum()-nb_frauds_scenario_1\n",
    "    print(\"Number of frauds from scenario 2: \"+str(nb_frauds_scenario_2))\n",
    "\n",
    "    # Scenario 3\n",
    "    for day in range(transactions_df.TX_TIME_DAYS.max()):\n",
    "\n",
    "        compromised_customers = customer_profiles_table.CUSTOMER_ID.sample(n=3, random_state=day).values\n",
    "\n",
    "        compromised_transactions=transactions_df[(transactions_df.TX_TIME_DAYS>=day) &\n",
    "                                                    (transactions_df.TX_TIME_DAYS<day+14) &\n",
    "                                                    (transactions_df.CUSTOMER_ID.isin(compromised_customers))]\n",
    "\n",
    "        nb_compromised_transactions=len(compromised_transactions)\n",
    "\n",
    "\n",
    "        random.seed(day)\n",
    "        index_fauds = random.sample(list(compromised_transactions.index.values),k=int(nb_compromised_transactions/3))\n",
    "\n",
    "        transactions_df.loc[index_fauds,'TX_AMOUNT']=transactions_df.loc[index_fauds,'TX_AMOUNT']*5\n",
    "        transactions_df.loc[index_fauds,'TX_FRAUD']=1\n",
    "        transactions_df.loc[index_fauds,'TX_FRAUD_SCENARIO']=3\n",
    "\n",
    "\n",
    "    nb_frauds_scenario_3=transactions_df.TX_FRAUD.sum()-nb_frauds_scenario_2-nb_frauds_scenario_1\n",
    "    print(\"Number of frauds from scenario 3: \"+str(nb_frauds_scenario_3))\n",
    "\n",
    "    return transactions_df"
   ],
   "metadata": {
    "collapsed": false
   }
  },
  {
   "cell_type": "code",
   "execution_count": 24,
   "outputs": [
    {
     "name": "stdout",
     "output_type": "stream",
     "text": [
      "Number of frauds from scenario 1: 978\n",
      "Number of frauds from scenario 2: 9099\n",
      "Number of frauds from scenario 3: 4604\n",
      "CPU times: user 2min 1s, sys: 864 ms, total: 2min 2s\n",
      "Wall time: 2min 5s\n"
     ]
    }
   ],
   "source": [
    "%time transactions_df = add_frauds(customer_profiles_table, terminal_profiles_table, transactions_df)"
   ],
   "metadata": {
    "collapsed": false
   }
  },
  {
   "cell_type": "code",
   "execution_count": null,
   "outputs": [],
   "source": [
    "print(\"% of frauds: \" + transactions_df.TX_FRAUD.mean())\n",
    "print(\"number of frauds: \" + transactions_df.TX_FRAUD.sum())"
   ],
   "metadata": {
    "collapsed": false
   }
  },
  {
   "cell_type": "code",
   "execution_count": 26,
   "outputs": [
    {
     "data": {
      "text/plain": "         TRANSACTION_ID         TX_DATETIME CUSTOMER_ID TERMINAL_ID  \\\n0                     0 2018-04-01 00:00:31         596        3156   \n1                     1 2018-04-01 00:02:10        4961        3412   \n2                     2 2018-04-01 00:07:56           2        1365   \n3                     3 2018-04-01 00:09:29        4128        8737   \n4                     4 2018-04-01 00:10:34         927        9906   \n...                 ...                 ...         ...         ...   \n1754150         1754150 2018-09-30 23:56:36         161         655   \n1754151         1754151 2018-09-30 23:57:38        4342        6181   \n1754152         1754152 2018-09-30 23:58:21         618        1502   \n1754153         1754153 2018-09-30 23:59:52        4056        3067   \n1754154         1754154 2018-09-30 23:59:57        3542        9849   \n\n         TX_AMOUNT TX_TIME_SECONDS TX_TIME_DAYS  TX_FRAUD  TX_FRAUD_SCENARIO  \n0            57.16              31            0         0                  0  \n1            81.51             130            0         0                  0  \n2           146.00             476            0         0                  0  \n3            64.49             569            0         0                  0  \n4            50.99             634            0         0                  0  \n...            ...             ...          ...       ...                ...  \n1754150      54.24        15810996          182         0                  0  \n1754151       1.23        15811058          182         0                  0  \n1754152       6.62        15811101          182         0                  0  \n1754153      55.40        15811192          182         0                  0  \n1754154      23.59        15811197          182         0                  0  \n\n[1754155 rows x 9 columns]",
      "text/html": "<div>\n<style scoped>\n    .dataframe tbody tr th:only-of-type {\n        vertical-align: middle;\n    }\n\n    .dataframe tbody tr th {\n        vertical-align: top;\n    }\n\n    .dataframe thead th {\n        text-align: right;\n    }\n</style>\n<table border=\"1\" class=\"dataframe\">\n  <thead>\n    <tr style=\"text-align: right;\">\n      <th></th>\n      <th>TRANSACTION_ID</th>\n      <th>TX_DATETIME</th>\n      <th>CUSTOMER_ID</th>\n      <th>TERMINAL_ID</th>\n      <th>TX_AMOUNT</th>\n      <th>TX_TIME_SECONDS</th>\n      <th>TX_TIME_DAYS</th>\n      <th>TX_FRAUD</th>\n      <th>TX_FRAUD_SCENARIO</th>\n    </tr>\n  </thead>\n  <tbody>\n    <tr>\n      <th>0</th>\n      <td>0</td>\n      <td>2018-04-01 00:00:31</td>\n      <td>596</td>\n      <td>3156</td>\n      <td>57.16</td>\n      <td>31</td>\n      <td>0</td>\n      <td>0</td>\n      <td>0</td>\n    </tr>\n    <tr>\n      <th>1</th>\n      <td>1</td>\n      <td>2018-04-01 00:02:10</td>\n      <td>4961</td>\n      <td>3412</td>\n      <td>81.51</td>\n      <td>130</td>\n      <td>0</td>\n      <td>0</td>\n      <td>0</td>\n    </tr>\n    <tr>\n      <th>2</th>\n      <td>2</td>\n      <td>2018-04-01 00:07:56</td>\n      <td>2</td>\n      <td>1365</td>\n      <td>146.00</td>\n      <td>476</td>\n      <td>0</td>\n      <td>0</td>\n      <td>0</td>\n    </tr>\n    <tr>\n      <th>3</th>\n      <td>3</td>\n      <td>2018-04-01 00:09:29</td>\n      <td>4128</td>\n      <td>8737</td>\n      <td>64.49</td>\n      <td>569</td>\n      <td>0</td>\n      <td>0</td>\n      <td>0</td>\n    </tr>\n    <tr>\n      <th>4</th>\n      <td>4</td>\n      <td>2018-04-01 00:10:34</td>\n      <td>927</td>\n      <td>9906</td>\n      <td>50.99</td>\n      <td>634</td>\n      <td>0</td>\n      <td>0</td>\n      <td>0</td>\n    </tr>\n    <tr>\n      <th>...</th>\n      <td>...</td>\n      <td>...</td>\n      <td>...</td>\n      <td>...</td>\n      <td>...</td>\n      <td>...</td>\n      <td>...</td>\n      <td>...</td>\n      <td>...</td>\n    </tr>\n    <tr>\n      <th>1754150</th>\n      <td>1754150</td>\n      <td>2018-09-30 23:56:36</td>\n      <td>161</td>\n      <td>655</td>\n      <td>54.24</td>\n      <td>15810996</td>\n      <td>182</td>\n      <td>0</td>\n      <td>0</td>\n    </tr>\n    <tr>\n      <th>1754151</th>\n      <td>1754151</td>\n      <td>2018-09-30 23:57:38</td>\n      <td>4342</td>\n      <td>6181</td>\n      <td>1.23</td>\n      <td>15811058</td>\n      <td>182</td>\n      <td>0</td>\n      <td>0</td>\n    </tr>\n    <tr>\n      <th>1754152</th>\n      <td>1754152</td>\n      <td>2018-09-30 23:58:21</td>\n      <td>618</td>\n      <td>1502</td>\n      <td>6.62</td>\n      <td>15811101</td>\n      <td>182</td>\n      <td>0</td>\n      <td>0</td>\n    </tr>\n    <tr>\n      <th>1754153</th>\n      <td>1754153</td>\n      <td>2018-09-30 23:59:52</td>\n      <td>4056</td>\n      <td>3067</td>\n      <td>55.40</td>\n      <td>15811192</td>\n      <td>182</td>\n      <td>0</td>\n      <td>0</td>\n    </tr>\n    <tr>\n      <th>1754154</th>\n      <td>1754154</td>\n      <td>2018-09-30 23:59:57</td>\n      <td>3542</td>\n      <td>9849</td>\n      <td>23.59</td>\n      <td>15811197</td>\n      <td>182</td>\n      <td>0</td>\n      <td>0</td>\n    </tr>\n  </tbody>\n</table>\n<p>1754155 rows × 9 columns</p>\n</div>"
     },
     "execution_count": 26,
     "metadata": {},
     "output_type": "execute_result"
    }
   ],
   "source": [
    "transactions_df"
   ],
   "metadata": {
    "collapsed": false
   }
  },
  {
   "cell_type": "markdown",
   "source": [
    "### Saving dataset\n",
    "Save as pickle paritioned by date"
   ],
   "metadata": {
    "collapsed": false
   }
  },
  {
   "cell_type": "code",
   "execution_count": 59,
   "outputs": [],
   "source": [
    "transactions_df['TX_DATE'] = pd.to_datetime(transactions_df['TX_DATETIME'].dt.date)"
   ],
   "metadata": {
    "collapsed": false
   }
  },
  {
   "cell_type": "code",
   "execution_count": 61,
   "outputs": [
    {
     "data": {
      "text/plain": "TRANSACTION_ID                int64\nTX_DATETIME          datetime64[ns]\nCUSTOMER_ID                  object\nTERMINAL_ID                  object\nTX_AMOUNT                   float64\nTX_TIME_SECONDS              object\nTX_TIME_DAYS                 object\nTX_FRAUD                      int64\nTX_FRAUD_SCENARIO             int64\nTX_DATE              datetime64[ns]\ndtype: object"
     },
     "execution_count": 61,
     "metadata": {},
     "output_type": "execute_result"
    }
   ],
   "source": [
    "transactions_df.dtypes\n"
   ],
   "metadata": {
    "collapsed": false
   }
  },
  {
   "cell_type": "code",
   "execution_count": 63,
   "outputs": [],
   "source": [
    "import pyarrow\n",
    "transactions_df.to_parquet('./simulated/transactions.parquet')"
   ],
   "metadata": {
    "collapsed": false
   }
  },
  {
   "cell_type": "code",
   "execution_count": 53,
   "outputs": [],
   "source": [
    "customer_profiles_table.to_parquet('./simulated/customers.parquet')"
   ],
   "metadata": {
    "collapsed": false
   }
  },
  {
   "cell_type": "code",
   "execution_count": 55,
   "outputs": [],
   "source": [
    "terminal_profiles_table.to_parquet('./simulated/terminals.parquet')"
   ],
   "metadata": {
    "collapsed": false
   }
  }
 ],
 "metadata": {
  "kernelspec": {
   "display_name": "Python 3",
   "language": "python",
   "name": "python3"
  },
  "language_info": {
   "codemirror_mode": {
    "name": "ipython",
    "version": 2
   },
   "file_extension": ".py",
   "mimetype": "text/x-python",
   "name": "python",
   "nbconvert_exporter": "python",
   "pygments_lexer": "ipython2",
   "version": "2.7.6"
  }
 },
 "nbformat": 4,
 "nbformat_minor": 0
}
