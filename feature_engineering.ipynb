{
 "cells": [
  {
   "cell_type": "markdown",
   "source": [
    "# Feature engineering for the simulated dataset"
   ],
   "metadata": {
    "collapsed": false
   }
  },
  {
   "cell_type": "code",
   "execution_count": 1,
   "outputs": [],
   "source": [
    "import numpy as np\n",
    "import pandas as pd\n",
    "import random\n",
    "import seaborn as sns\n",
    "import matplotlib.pyplot as plt\n",
    "\n",
    "pd.options.display.float_format = \"{:.1f}\".format"
   ],
   "metadata": {
    "collapsed": false
   }
  },
  {
   "cell_type": "code",
   "execution_count": 2,
   "outputs": [],
   "source": [
    "from data.load_sim_data import load_all_sim_data\n",
    "transactions_df, customers_df, terminals_df = load_all_sim_data()"
   ],
   "metadata": {
    "collapsed": false
   }
  },
  {
   "cell_type": "code",
   "execution_count": 3,
   "outputs": [],
   "source": [
    "small_dataset = False\n",
    "if small_dataset:\n",
    "    START_DATE = \"2018-04-01\"\n",
    "    END_DATE = \"2018-04-30\"\n",
    "    transactions_df = transactions_df[transactions_df['TX_DATETIME'].between(START_DATE, END_DATE, inclusive='both')]"
   ],
   "metadata": {
    "collapsed": false
   }
  },
  {
   "cell_type": "code",
   "execution_count": 4,
   "outputs": [
    {
     "data": {
      "text/plain": "(1754155, 10)"
     },
     "execution_count": 4,
     "metadata": {},
     "output_type": "execute_result"
    }
   ],
   "source": [
    "transactions_df.shape"
   ],
   "metadata": {
    "collapsed": false
   }
  },
  {
   "cell_type": "markdown",
   "source": [
    "## Baseline features\n",
    "The following features will be used to build the baseline model. With each model iteration more complex features can be added. But these baseline features can be deemed as the bare minimum."
   ],
   "metadata": {
    "collapsed": false
   }
  },
  {
   "cell_type": "markdown",
   "source": [
    "#### Weekend and weekday"
   ],
   "metadata": {
    "collapsed": false
   }
  },
  {
   "cell_type": "code",
   "execution_count": 5,
   "outputs": [],
   "source": [
    "def is_weekend(tx_datetime_series):\n",
    "    dow_is_weekend = tx_datetime_series.weekday() >= 5 # 0 Monday, 6 Sunday\n",
    "    return int(dow_is_weekend)"
   ],
   "metadata": {
    "collapsed": false
   }
  },
  {
   "cell_type": "code",
   "execution_count": 6,
   "outputs": [],
   "source": [
    "transactions_df['TX_ON_WEEKEND'] = transactions_df.TX_DATETIME.apply(is_weekend)"
   ],
   "metadata": {
    "collapsed": false
   }
  },
  {
   "cell_type": "code",
   "execution_count": 7,
   "outputs": [],
   "source": [
    "# quick checks\n",
    "# 1st April is a Sunday\n",
    "# 2nd April is a Monday\n",
    "# 14th April is a Saturday\n",
    "def check_weekend_flag(transactions_df, check_dates={'2018-04-01':1, '2018-04-02':0, '2018-04-14': 1}):\n",
    "    for check_date, expected_flag in check_dates.items():\n",
    "        flag_val = transactions_df[transactions_df['TX_DATE'] == check_date]['TX_ON_WEEKEND'].unique()\n",
    "        assert flag_val == expected_flag, \"Weekend flag not correct for: \" + str(check_date) + \". Expected \" + str(expected_flag) + \" but got \" + str(flag_val)\n",
    "    return None"
   ],
   "metadata": {
    "collapsed": false
   }
  },
  {
   "cell_type": "code",
   "execution_count": 8,
   "outputs": [
    {
     "data": {
      "text/plain": "            TX_ON_WEEKEND\nTX_DATE                  \n2018-04-01              1\n2018-04-02              0\n2018-04-03              0\n2018-04-04              0\n2018-04-05              0\n2018-04-06              0\n2018-04-07              1\n2018-04-08              1\n2018-04-09              0\n2018-04-10              0",
      "text/html": "<div>\n<style scoped>\n    .dataframe tbody tr th:only-of-type {\n        vertical-align: middle;\n    }\n\n    .dataframe tbody tr th {\n        vertical-align: top;\n    }\n\n    .dataframe thead th {\n        text-align: right;\n    }\n</style>\n<table border=\"1\" class=\"dataframe\">\n  <thead>\n    <tr style=\"text-align: right;\">\n      <th></th>\n      <th>TX_ON_WEEKEND</th>\n    </tr>\n    <tr>\n      <th>TX_DATE</th>\n      <th></th>\n    </tr>\n  </thead>\n  <tbody>\n    <tr>\n      <th>2018-04-01</th>\n      <td>1</td>\n    </tr>\n    <tr>\n      <th>2018-04-02</th>\n      <td>0</td>\n    </tr>\n    <tr>\n      <th>2018-04-03</th>\n      <td>0</td>\n    </tr>\n    <tr>\n      <th>2018-04-04</th>\n      <td>0</td>\n    </tr>\n    <tr>\n      <th>2018-04-05</th>\n      <td>0</td>\n    </tr>\n    <tr>\n      <th>2018-04-06</th>\n      <td>0</td>\n    </tr>\n    <tr>\n      <th>2018-04-07</th>\n      <td>1</td>\n    </tr>\n    <tr>\n      <th>2018-04-08</th>\n      <td>1</td>\n    </tr>\n    <tr>\n      <th>2018-04-09</th>\n      <td>0</td>\n    </tr>\n    <tr>\n      <th>2018-04-10</th>\n      <td>0</td>\n    </tr>\n  </tbody>\n</table>\n</div>"
     },
     "execution_count": 8,
     "metadata": {},
     "output_type": "execute_result"
    }
   ],
   "source": [
    "check_weekend_flag(transactions_df, check_dates={'2018-04-01':1, '2018-04-02':0, '2018-04-14': 1})\n",
    "transactions_df[['TX_DATE', 'TX_ON_WEEKEND']].groupby('TX_DATE').max('').head(10)"
   ],
   "metadata": {
    "collapsed": false
   }
  },
  {
   "cell_type": "markdown",
   "source": [
    "#### At night or day"
   ],
   "metadata": {
    "collapsed": false
   }
  },
  {
   "cell_type": "code",
   "execution_count": 9,
   "outputs": [],
   "source": [
    "def is_night(tx_datetime_series):\n",
    "    # between 12am and 6am we consider night\n",
    "    txn_at_night = tx_datetime_series.hour < 6\n",
    "    return int(txn_at_night)"
   ],
   "metadata": {
    "collapsed": false
   }
  },
  {
   "cell_type": "code",
   "execution_count": 10,
   "outputs": [],
   "source": [
    "transactions_df['TX_AT_NIGHT'] = transactions_df.TX_DATETIME.apply(is_night)"
   ],
   "metadata": {
    "collapsed": false
   }
  },
  {
   "cell_type": "code",
   "execution_count": 11,
   "outputs": [
    {
     "data": {
      "text/plain": "                TX_DATETIME  TX_ON_WEEKEND  TX_AT_NIGHT\n1084909 2018-07-23 06:24:22              0            0\n630587  2018-06-05 15:34:21              0            0\n251908  2018-04-27 08:25:23              0            0",
      "text/html": "<div>\n<style scoped>\n    .dataframe tbody tr th:only-of-type {\n        vertical-align: middle;\n    }\n\n    .dataframe tbody tr th {\n        vertical-align: top;\n    }\n\n    .dataframe thead th {\n        text-align: right;\n    }\n</style>\n<table border=\"1\" class=\"dataframe\">\n  <thead>\n    <tr style=\"text-align: right;\">\n      <th></th>\n      <th>TX_DATETIME</th>\n      <th>TX_ON_WEEKEND</th>\n      <th>TX_AT_NIGHT</th>\n    </tr>\n  </thead>\n  <tbody>\n    <tr>\n      <th>1084909</th>\n      <td>2018-07-23 06:24:22</td>\n      <td>0</td>\n      <td>0</td>\n    </tr>\n    <tr>\n      <th>630587</th>\n      <td>2018-06-05 15:34:21</td>\n      <td>0</td>\n      <td>0</td>\n    </tr>\n    <tr>\n      <th>251908</th>\n      <td>2018-04-27 08:25:23</td>\n      <td>0</td>\n      <td>0</td>\n    </tr>\n  </tbody>\n</table>\n</div>"
     },
     "execution_count": 11,
     "metadata": {},
     "output_type": "execute_result"
    }
   ],
   "source": [
    "# Quick checks\n",
    "transactions_df.sample(3, random_state=12)[['TX_DATETIME','TX_ON_WEEKEND', 'TX_AT_NIGHT']]"
   ],
   "metadata": {
    "collapsed": false
   }
  },
  {
   "cell_type": "markdown",
   "source": [
    "### Customer features\n",
    "These features will be RFM - Recency, Frequency and Monetary value. These types of features are also commonly used in retail customer analytics."
   ],
   "metadata": {
    "collapsed": false
   }
  },
  {
   "cell_type": "code",
   "execution_count": 12,
   "outputs": [
    {
     "data": {
      "text/plain": "       TRANSACTION_ID         TX_DATETIME  CUSTOMER_ID  TERMINAL_ID  \\\n1758             1758 2018-04-01 07:19:05            0         6076   \n8275             8275 2018-04-01 18:00:16            0          858   \n8640             8640 2018-04-01 19:02:02            0         6698   \n12169           12169 2018-04-02 08:51:06            0         6569   \n15764           15764 2018-04-02 14:05:38            0         7707   \n\n       TX_AMOUNT  TX_TIME_SECONDS  TX_TIME_DAYS  TX_FRAUD  TX_FRAUD_SCENARIO  \\\n1758       123.6            26345             0         0                  0   \n8275        77.3            64816             0         0                  0   \n8640        46.5            68522             0         0                  0   \n12169       54.7           118266             1         0                  0   \n15764       63.3           137138             1         0                  0   \n\n         TX_DATE  TX_ON_WEEKEND  TX_AT_NIGHT  \n1758  2018-04-01              1            0  \n8275  2018-04-01              1            0  \n8640  2018-04-01              1            0  \n12169 2018-04-02              0            0  \n15764 2018-04-02              0            0  ",
      "text/html": "<div>\n<style scoped>\n    .dataframe tbody tr th:only-of-type {\n        vertical-align: middle;\n    }\n\n    .dataframe tbody tr th {\n        vertical-align: top;\n    }\n\n    .dataframe thead th {\n        text-align: right;\n    }\n</style>\n<table border=\"1\" class=\"dataframe\">\n  <thead>\n    <tr style=\"text-align: right;\">\n      <th></th>\n      <th>TRANSACTION_ID</th>\n      <th>TX_DATETIME</th>\n      <th>CUSTOMER_ID</th>\n      <th>TERMINAL_ID</th>\n      <th>TX_AMOUNT</th>\n      <th>TX_TIME_SECONDS</th>\n      <th>TX_TIME_DAYS</th>\n      <th>TX_FRAUD</th>\n      <th>TX_FRAUD_SCENARIO</th>\n      <th>TX_DATE</th>\n      <th>TX_ON_WEEKEND</th>\n      <th>TX_AT_NIGHT</th>\n    </tr>\n  </thead>\n  <tbody>\n    <tr>\n      <th>1758</th>\n      <td>1758</td>\n      <td>2018-04-01 07:19:05</td>\n      <td>0</td>\n      <td>6076</td>\n      <td>123.6</td>\n      <td>26345</td>\n      <td>0</td>\n      <td>0</td>\n      <td>0</td>\n      <td>2018-04-01</td>\n      <td>1</td>\n      <td>0</td>\n    </tr>\n    <tr>\n      <th>8275</th>\n      <td>8275</td>\n      <td>2018-04-01 18:00:16</td>\n      <td>0</td>\n      <td>858</td>\n      <td>77.3</td>\n      <td>64816</td>\n      <td>0</td>\n      <td>0</td>\n      <td>0</td>\n      <td>2018-04-01</td>\n      <td>1</td>\n      <td>0</td>\n    </tr>\n    <tr>\n      <th>8640</th>\n      <td>8640</td>\n      <td>2018-04-01 19:02:02</td>\n      <td>0</td>\n      <td>6698</td>\n      <td>46.5</td>\n      <td>68522</td>\n      <td>0</td>\n      <td>0</td>\n      <td>0</td>\n      <td>2018-04-01</td>\n      <td>1</td>\n      <td>0</td>\n    </tr>\n    <tr>\n      <th>12169</th>\n      <td>12169</td>\n      <td>2018-04-02 08:51:06</td>\n      <td>0</td>\n      <td>6569</td>\n      <td>54.7</td>\n      <td>118266</td>\n      <td>1</td>\n      <td>0</td>\n      <td>0</td>\n      <td>2018-04-02</td>\n      <td>0</td>\n      <td>0</td>\n    </tr>\n    <tr>\n      <th>15764</th>\n      <td>15764</td>\n      <td>2018-04-02 14:05:38</td>\n      <td>0</td>\n      <td>7707</td>\n      <td>63.3</td>\n      <td>137138</td>\n      <td>1</td>\n      <td>0</td>\n      <td>0</td>\n      <td>2018-04-02</td>\n      <td>0</td>\n      <td>0</td>\n    </tr>\n  </tbody>\n</table>\n</div>"
     },
     "execution_count": 12,
     "metadata": {},
     "output_type": "execute_result"
    }
   ],
   "source": [
    "# Start by building for 1 customer\n",
    "customer_txns = transactions_df[transactions_df['CUSTOMER_ID'] == 0]\n",
    "customer_txns.head()"
   ],
   "metadata": {
    "collapsed": false
   }
  },
  {
   "cell_type": "code",
   "execution_count": 13,
   "outputs": [],
   "source": [
    "def generate_customer_rfm(customer_txns, window_sizes=(1, 7, 30)):\n",
    "    customer_txns = customer_txns.sort_values(\"TX_DATETIME\")\n",
    "    customer_txns.index = customer_txns.TX_DATETIME # allows us to use rolling functions\n",
    "\n",
    "    # Window features such as transaction sum amount, average amount and count\n",
    "    for window in window_sizes:\n",
    "        SUB_TX_AMOUNT = customer_txns['TX_AMOUNT'].rolling(str(window) + 'd').sum()\n",
    "        SUB_TX_COUNT = customer_txns['TX_AMOUNT'].rolling(str(window) + 'd').count()\n",
    "        SUB_TX_AVG_AMOUNT = SUB_TX_AMOUNT/SUB_TX_COUNT # note that average at start of the data is missing past days so would only have a few days of data.\n",
    "\n",
    "        customer_txns['CUSTOMER_ID_' + str(window) + '_DAY_WINDOW_SUM_AMOUNT'] = SUB_TX_AMOUNT\n",
    "        customer_txns['CUSTOMER_ID_' + str(window) + '_DAY_WINDOW_COUNT'] = SUB_TX_COUNT\n",
    "        customer_txns['CUSTOMER_ID_' + str(window) + '_DAY_WINDOW_AVG_AMOUNT'] = SUB_TX_AVG_AMOUNT\n",
    "\n",
    "    # Recency feature\n",
    "    customer_txns['CUSTOMER_ID_DAYS_SINCE_LAST_TXN'] = customer_txns['TX_DATETIME'].diff().dt.days.fillna(0).astype(int)\n",
    "\n",
    "    # drop index according\n",
    "    customer_txns.reset_index(drop=True, inplace=True)\n",
    "\n",
    "    return customer_txns"
   ],
   "metadata": {
    "collapsed": false
   }
  },
  {
   "cell_type": "code",
   "execution_count": 14,
   "outputs": [
    {
     "data": {
      "text/plain": "   TRANSACTION_ID         TX_DATETIME  CUSTOMER_ID  TERMINAL_ID  TX_AMOUNT  \\\n0            1758 2018-04-01 07:19:05            0         6076      123.6   \n1            8275 2018-04-01 18:00:16            0          858       77.3   \n2            8640 2018-04-01 19:02:02            0         6698       46.5   \n3           12169 2018-04-02 08:51:06            0         6569       54.7   \n4           15764 2018-04-02 14:05:38            0         7707       63.3   \n\n   TX_TIME_SECONDS  TX_TIME_DAYS  TX_FRAUD  TX_FRAUD_SCENARIO    TX_DATE  ...  \\\n0            26345             0         0                  0 2018-04-01  ...   \n1            64816             0         0                  0 2018-04-01  ...   \n2            68522             0         0                  0 2018-04-01  ...   \n3           118266             1         0                  0 2018-04-02  ...   \n4           137138             1         0                  0 2018-04-02  ...   \n\n   CUSTOMER_ID_1_DAY_WINDOW_SUM_AMOUNT  CUSTOMER_ID_1_DAY_WINDOW_COUNT  \\\n0                                123.6                             1.0   \n1                                200.9                             2.0   \n2                                247.4                             3.0   \n3                                178.6                             3.0   \n4                                241.9                             4.0   \n\n   CUSTOMER_ID_1_DAY_WINDOW_AVG_AMOUNT  CUSTOMER_ID_7_DAY_WINDOW_SUM_AMOUNT  \\\n0                                123.6                                123.6   \n1                                100.5                                200.9   \n2                                 82.5                                247.4   \n3                                 59.5                                302.2   \n4                                 60.5                                365.5   \n\n   CUSTOMER_ID_7_DAY_WINDOW_COUNT  CUSTOMER_ID_7_DAY_WINDOW_AVG_AMOUNT  \\\n0                             1.0                                123.6   \n1                             2.0                                100.5   \n2                             3.0                                 82.5   \n3                             4.0                                 75.5   \n4                             5.0                                 73.1   \n\n   CUSTOMER_ID_30_DAY_WINDOW_SUM_AMOUNT  CUSTOMER_ID_30_DAY_WINDOW_COUNT  \\\n0                                 123.6                              1.0   \n1                                 200.9                              2.0   \n2                                 247.4                              3.0   \n3                                 302.2                              4.0   \n4                                 365.5                              5.0   \n\n   CUSTOMER_ID_30_DAY_WINDOW_AVG_AMOUNT  CUSTOMER_ID_DAYS_SINCE_LAST_TXN  \n0                                 123.6                                0  \n1                                 100.5                                0  \n2                                  82.5                                0  \n3                                  75.5                                0  \n4                                  73.1                                0  \n\n[5 rows x 22 columns]",
      "text/html": "<div>\n<style scoped>\n    .dataframe tbody tr th:only-of-type {\n        vertical-align: middle;\n    }\n\n    .dataframe tbody tr th {\n        vertical-align: top;\n    }\n\n    .dataframe thead th {\n        text-align: right;\n    }\n</style>\n<table border=\"1\" class=\"dataframe\">\n  <thead>\n    <tr style=\"text-align: right;\">\n      <th></th>\n      <th>TRANSACTION_ID</th>\n      <th>TX_DATETIME</th>\n      <th>CUSTOMER_ID</th>\n      <th>TERMINAL_ID</th>\n      <th>TX_AMOUNT</th>\n      <th>TX_TIME_SECONDS</th>\n      <th>TX_TIME_DAYS</th>\n      <th>TX_FRAUD</th>\n      <th>TX_FRAUD_SCENARIO</th>\n      <th>TX_DATE</th>\n      <th>...</th>\n      <th>CUSTOMER_ID_1_DAY_WINDOW_SUM_AMOUNT</th>\n      <th>CUSTOMER_ID_1_DAY_WINDOW_COUNT</th>\n      <th>CUSTOMER_ID_1_DAY_WINDOW_AVG_AMOUNT</th>\n      <th>CUSTOMER_ID_7_DAY_WINDOW_SUM_AMOUNT</th>\n      <th>CUSTOMER_ID_7_DAY_WINDOW_COUNT</th>\n      <th>CUSTOMER_ID_7_DAY_WINDOW_AVG_AMOUNT</th>\n      <th>CUSTOMER_ID_30_DAY_WINDOW_SUM_AMOUNT</th>\n      <th>CUSTOMER_ID_30_DAY_WINDOW_COUNT</th>\n      <th>CUSTOMER_ID_30_DAY_WINDOW_AVG_AMOUNT</th>\n      <th>CUSTOMER_ID_DAYS_SINCE_LAST_TXN</th>\n    </tr>\n  </thead>\n  <tbody>\n    <tr>\n      <th>0</th>\n      <td>1758</td>\n      <td>2018-04-01 07:19:05</td>\n      <td>0</td>\n      <td>6076</td>\n      <td>123.6</td>\n      <td>26345</td>\n      <td>0</td>\n      <td>0</td>\n      <td>0</td>\n      <td>2018-04-01</td>\n      <td>...</td>\n      <td>123.6</td>\n      <td>1.0</td>\n      <td>123.6</td>\n      <td>123.6</td>\n      <td>1.0</td>\n      <td>123.6</td>\n      <td>123.6</td>\n      <td>1.0</td>\n      <td>123.6</td>\n      <td>0</td>\n    </tr>\n    <tr>\n      <th>1</th>\n      <td>8275</td>\n      <td>2018-04-01 18:00:16</td>\n      <td>0</td>\n      <td>858</td>\n      <td>77.3</td>\n      <td>64816</td>\n      <td>0</td>\n      <td>0</td>\n      <td>0</td>\n      <td>2018-04-01</td>\n      <td>...</td>\n      <td>200.9</td>\n      <td>2.0</td>\n      <td>100.5</td>\n      <td>200.9</td>\n      <td>2.0</td>\n      <td>100.5</td>\n      <td>200.9</td>\n      <td>2.0</td>\n      <td>100.5</td>\n      <td>0</td>\n    </tr>\n    <tr>\n      <th>2</th>\n      <td>8640</td>\n      <td>2018-04-01 19:02:02</td>\n      <td>0</td>\n      <td>6698</td>\n      <td>46.5</td>\n      <td>68522</td>\n      <td>0</td>\n      <td>0</td>\n      <td>0</td>\n      <td>2018-04-01</td>\n      <td>...</td>\n      <td>247.4</td>\n      <td>3.0</td>\n      <td>82.5</td>\n      <td>247.4</td>\n      <td>3.0</td>\n      <td>82.5</td>\n      <td>247.4</td>\n      <td>3.0</td>\n      <td>82.5</td>\n      <td>0</td>\n    </tr>\n    <tr>\n      <th>3</th>\n      <td>12169</td>\n      <td>2018-04-02 08:51:06</td>\n      <td>0</td>\n      <td>6569</td>\n      <td>54.7</td>\n      <td>118266</td>\n      <td>1</td>\n      <td>0</td>\n      <td>0</td>\n      <td>2018-04-02</td>\n      <td>...</td>\n      <td>178.6</td>\n      <td>3.0</td>\n      <td>59.5</td>\n      <td>302.2</td>\n      <td>4.0</td>\n      <td>75.5</td>\n      <td>302.2</td>\n      <td>4.0</td>\n      <td>75.5</td>\n      <td>0</td>\n    </tr>\n    <tr>\n      <th>4</th>\n      <td>15764</td>\n      <td>2018-04-02 14:05:38</td>\n      <td>0</td>\n      <td>7707</td>\n      <td>63.3</td>\n      <td>137138</td>\n      <td>1</td>\n      <td>0</td>\n      <td>0</td>\n      <td>2018-04-02</td>\n      <td>...</td>\n      <td>241.9</td>\n      <td>4.0</td>\n      <td>60.5</td>\n      <td>365.5</td>\n      <td>5.0</td>\n      <td>73.1</td>\n      <td>365.5</td>\n      <td>5.0</td>\n      <td>73.1</td>\n      <td>0</td>\n    </tr>\n  </tbody>\n</table>\n<p>5 rows × 22 columns</p>\n</div>"
     },
     "execution_count": 14,
     "metadata": {},
     "output_type": "execute_result"
    }
   ],
   "source": [
    "customer_txns_with_rfm = generate_customer_rfm(customer_txns)\n",
    "customer_txns_with_rfm.head()"
   ],
   "metadata": {
    "collapsed": false
   }
  },
  {
   "cell_type": "code",
   "execution_count": 15,
   "outputs": [],
   "source": [
    "transactions_df = transactions_df.groupby('CUSTOMER_ID').apply(generate_customer_rfm)"
   ],
   "metadata": {
    "collapsed": false
   }
  },
  {
   "cell_type": "code",
   "execution_count": 16,
   "outputs": [],
   "source": [
    "transactions_df = transactions_df.sort_values('TX_DATETIME').reset_index(drop=True)\n",
    "transactions_df.index = transactions_df['TRANSACTION_ID']"
   ],
   "metadata": {
    "collapsed": false
   }
  },
  {
   "cell_type": "code",
   "execution_count": 17,
   "outputs": [
    {
     "data": {
      "text/plain": "                TRANSACTION_ID         TX_DATETIME  CUSTOMER_ID  TERMINAL_ID  \\\nTRANSACTION_ID                                                                 \n0                            0 2018-04-01 00:00:31          596         3156   \n1                            1 2018-04-01 00:02:10         4961         3412   \n2                            2 2018-04-01 00:07:56            2         1365   \n3                            3 2018-04-01 00:09:29         4128         8737   \n4                            4 2018-04-01 00:10:34          927         9906   \n\n                TX_AMOUNT  TX_TIME_SECONDS  TX_TIME_DAYS  TX_FRAUD  \\\nTRANSACTION_ID                                                       \n0                    57.2               31             0         0   \n1                    81.5              130             0         0   \n2                   146.0              476             0         0   \n3                    64.5              569             0         0   \n4                    51.0              634             0         0   \n\n                TX_FRAUD_SCENARIO    TX_DATE  ...  \\\nTRANSACTION_ID                                ...   \n0                               0 2018-04-01  ...   \n1                               0 2018-04-01  ...   \n2                               0 2018-04-01  ...   \n3                               0 2018-04-01  ...   \n4                               0 2018-04-01  ...   \n\n                CUSTOMER_ID_1_DAY_WINDOW_SUM_AMOUNT  \\\nTRANSACTION_ID                                        \n0                                              57.2   \n1                                              81.5   \n2                                             146.0   \n3                                              64.5   \n4                                              51.0   \n\n                CUSTOMER_ID_1_DAY_WINDOW_COUNT  \\\nTRANSACTION_ID                                   \n0                                          1.0   \n1                                          1.0   \n2                                          1.0   \n3                                          1.0   \n4                                          1.0   \n\n                CUSTOMER_ID_1_DAY_WINDOW_AVG_AMOUNT  \\\nTRANSACTION_ID                                        \n0                                              57.2   \n1                                              81.5   \n2                                             146.0   \n3                                              64.5   \n4                                              51.0   \n\n                CUSTOMER_ID_7_DAY_WINDOW_SUM_AMOUNT  \\\nTRANSACTION_ID                                        \n0                                              57.2   \n1                                              81.5   \n2                                             146.0   \n3                                              64.5   \n4                                              51.0   \n\n                CUSTOMER_ID_7_DAY_WINDOW_COUNT  \\\nTRANSACTION_ID                                   \n0                                          1.0   \n1                                          1.0   \n2                                          1.0   \n3                                          1.0   \n4                                          1.0   \n\n                CUSTOMER_ID_7_DAY_WINDOW_AVG_AMOUNT  \\\nTRANSACTION_ID                                        \n0                                              57.2   \n1                                              81.5   \n2                                             146.0   \n3                                              64.5   \n4                                              51.0   \n\n                CUSTOMER_ID_30_DAY_WINDOW_SUM_AMOUNT  \\\nTRANSACTION_ID                                         \n0                                               57.2   \n1                                               81.5   \n2                                              146.0   \n3                                               64.5   \n4                                               51.0   \n\n                CUSTOMER_ID_30_DAY_WINDOW_COUNT  \\\nTRANSACTION_ID                                    \n0                                           1.0   \n1                                           1.0   \n2                                           1.0   \n3                                           1.0   \n4                                           1.0   \n\n                CUSTOMER_ID_30_DAY_WINDOW_AVG_AMOUNT  \\\nTRANSACTION_ID                                         \n0                                               57.2   \n1                                               81.5   \n2                                              146.0   \n3                                               64.5   \n4                                               51.0   \n\n                CUSTOMER_ID_DAYS_SINCE_LAST_TXN  \nTRANSACTION_ID                                   \n0                                             0  \n1                                             0  \n2                                             0  \n3                                             0  \n4                                             0  \n\n[5 rows x 22 columns]",
      "text/html": "<div>\n<style scoped>\n    .dataframe tbody tr th:only-of-type {\n        vertical-align: middle;\n    }\n\n    .dataframe tbody tr th {\n        vertical-align: top;\n    }\n\n    .dataframe thead th {\n        text-align: right;\n    }\n</style>\n<table border=\"1\" class=\"dataframe\">\n  <thead>\n    <tr style=\"text-align: right;\">\n      <th></th>\n      <th>TRANSACTION_ID</th>\n      <th>TX_DATETIME</th>\n      <th>CUSTOMER_ID</th>\n      <th>TERMINAL_ID</th>\n      <th>TX_AMOUNT</th>\n      <th>TX_TIME_SECONDS</th>\n      <th>TX_TIME_DAYS</th>\n      <th>TX_FRAUD</th>\n      <th>TX_FRAUD_SCENARIO</th>\n      <th>TX_DATE</th>\n      <th>...</th>\n      <th>CUSTOMER_ID_1_DAY_WINDOW_SUM_AMOUNT</th>\n      <th>CUSTOMER_ID_1_DAY_WINDOW_COUNT</th>\n      <th>CUSTOMER_ID_1_DAY_WINDOW_AVG_AMOUNT</th>\n      <th>CUSTOMER_ID_7_DAY_WINDOW_SUM_AMOUNT</th>\n      <th>CUSTOMER_ID_7_DAY_WINDOW_COUNT</th>\n      <th>CUSTOMER_ID_7_DAY_WINDOW_AVG_AMOUNT</th>\n      <th>CUSTOMER_ID_30_DAY_WINDOW_SUM_AMOUNT</th>\n      <th>CUSTOMER_ID_30_DAY_WINDOW_COUNT</th>\n      <th>CUSTOMER_ID_30_DAY_WINDOW_AVG_AMOUNT</th>\n      <th>CUSTOMER_ID_DAYS_SINCE_LAST_TXN</th>\n    </tr>\n    <tr>\n      <th>TRANSACTION_ID</th>\n      <th></th>\n      <th></th>\n      <th></th>\n      <th></th>\n      <th></th>\n      <th></th>\n      <th></th>\n      <th></th>\n      <th></th>\n      <th></th>\n      <th></th>\n      <th></th>\n      <th></th>\n      <th></th>\n      <th></th>\n      <th></th>\n      <th></th>\n      <th></th>\n      <th></th>\n      <th></th>\n      <th></th>\n    </tr>\n  </thead>\n  <tbody>\n    <tr>\n      <th>0</th>\n      <td>0</td>\n      <td>2018-04-01 00:00:31</td>\n      <td>596</td>\n      <td>3156</td>\n      <td>57.2</td>\n      <td>31</td>\n      <td>0</td>\n      <td>0</td>\n      <td>0</td>\n      <td>2018-04-01</td>\n      <td>...</td>\n      <td>57.2</td>\n      <td>1.0</td>\n      <td>57.2</td>\n      <td>57.2</td>\n      <td>1.0</td>\n      <td>57.2</td>\n      <td>57.2</td>\n      <td>1.0</td>\n      <td>57.2</td>\n      <td>0</td>\n    </tr>\n    <tr>\n      <th>1</th>\n      <td>1</td>\n      <td>2018-04-01 00:02:10</td>\n      <td>4961</td>\n      <td>3412</td>\n      <td>81.5</td>\n      <td>130</td>\n      <td>0</td>\n      <td>0</td>\n      <td>0</td>\n      <td>2018-04-01</td>\n      <td>...</td>\n      <td>81.5</td>\n      <td>1.0</td>\n      <td>81.5</td>\n      <td>81.5</td>\n      <td>1.0</td>\n      <td>81.5</td>\n      <td>81.5</td>\n      <td>1.0</td>\n      <td>81.5</td>\n      <td>0</td>\n    </tr>\n    <tr>\n      <th>2</th>\n      <td>2</td>\n      <td>2018-04-01 00:07:56</td>\n      <td>2</td>\n      <td>1365</td>\n      <td>146.0</td>\n      <td>476</td>\n      <td>0</td>\n      <td>0</td>\n      <td>0</td>\n      <td>2018-04-01</td>\n      <td>...</td>\n      <td>146.0</td>\n      <td>1.0</td>\n      <td>146.0</td>\n      <td>146.0</td>\n      <td>1.0</td>\n      <td>146.0</td>\n      <td>146.0</td>\n      <td>1.0</td>\n      <td>146.0</td>\n      <td>0</td>\n    </tr>\n    <tr>\n      <th>3</th>\n      <td>3</td>\n      <td>2018-04-01 00:09:29</td>\n      <td>4128</td>\n      <td>8737</td>\n      <td>64.5</td>\n      <td>569</td>\n      <td>0</td>\n      <td>0</td>\n      <td>0</td>\n      <td>2018-04-01</td>\n      <td>...</td>\n      <td>64.5</td>\n      <td>1.0</td>\n      <td>64.5</td>\n      <td>64.5</td>\n      <td>1.0</td>\n      <td>64.5</td>\n      <td>64.5</td>\n      <td>1.0</td>\n      <td>64.5</td>\n      <td>0</td>\n    </tr>\n    <tr>\n      <th>4</th>\n      <td>4</td>\n      <td>2018-04-01 00:10:34</td>\n      <td>927</td>\n      <td>9906</td>\n      <td>51.0</td>\n      <td>634</td>\n      <td>0</td>\n      <td>0</td>\n      <td>0</td>\n      <td>2018-04-01</td>\n      <td>...</td>\n      <td>51.0</td>\n      <td>1.0</td>\n      <td>51.0</td>\n      <td>51.0</td>\n      <td>1.0</td>\n      <td>51.0</td>\n      <td>51.0</td>\n      <td>1.0</td>\n      <td>51.0</td>\n      <td>0</td>\n    </tr>\n  </tbody>\n</table>\n<p>5 rows × 22 columns</p>\n</div>"
     },
     "execution_count": 17,
     "metadata": {},
     "output_type": "execute_result"
    }
   ],
   "source": [
    "transactions_df.head()"
   ],
   "metadata": {
    "collapsed": false
   }
  },
  {
   "cell_type": "code",
   "execution_count": 18,
   "outputs": [
    {
     "data": {
      "text/plain": "2188"
     },
     "execution_count": 18,
     "metadata": {},
     "output_type": "execute_result"
    }
   ],
   "source": [
    "# Quick check - using human eyes, and stopping short of recalculating the cols\n",
    "random_cust_id = transactions_df['CUSTOMER_ID'].sample(1, random_state=11).values[0]\n",
    "random_cust_id"
   ],
   "metadata": {
    "collapsed": false
   }
  },
  {
   "cell_type": "code",
   "execution_count": 19,
   "outputs": [
    {
     "data": {
      "text/plain": "                  TX_DATE  CUSTOMER_ID_1_DAY_WINDOW_COUNT  \\\nTRANSACTION_ID                                              \n2454           2018-04-01                             1.0   \n10021          2018-04-02                             2.0   \n15922          2018-04-02                             2.0   \n16561          2018-04-02                             3.0   \n30637          2018-04-04                             1.0   \n...                   ...                             ...   \n1743557        2018-09-29                             4.0   \n1743699        2018-09-29                             5.0   \n1745322        2018-09-30                             6.0   \n1751660        2018-09-30                             6.0   \n1752123        2018-09-30                             7.0   \n\n                CUSTOMER_ID_1_DAY_WINDOW_SUM_AMOUNT  \\\nTRANSACTION_ID                                        \n2454                                          102.4   \n10021                                         242.3   \n15922                                         228.8   \n16561                                         309.4   \n30637                                          26.7   \n...                                             ...   \n1743557                                       318.1   \n1743699                                       404.0   \n1745322                                       471.8   \n1751660                                       445.6   \n1752123                                       604.7   \n\n                CUSTOMER_ID_1_DAY_WINDOW_AVG_AMOUNT  \nTRANSACTION_ID                                       \n2454                                          102.4  \n10021                                         121.1  \n15922                                         114.4  \n16561                                         103.1  \n30637                                          26.7  \n...                                             ...  \n1743557                                        79.5  \n1743699                                        80.8  \n1745322                                        78.6  \n1751660                                        74.3  \n1752123                                        86.4  \n\n[385 rows x 4 columns]",
      "text/html": "<div>\n<style scoped>\n    .dataframe tbody tr th:only-of-type {\n        vertical-align: middle;\n    }\n\n    .dataframe tbody tr th {\n        vertical-align: top;\n    }\n\n    .dataframe thead th {\n        text-align: right;\n    }\n</style>\n<table border=\"1\" class=\"dataframe\">\n  <thead>\n    <tr style=\"text-align: right;\">\n      <th></th>\n      <th>TX_DATE</th>\n      <th>CUSTOMER_ID_1_DAY_WINDOW_COUNT</th>\n      <th>CUSTOMER_ID_1_DAY_WINDOW_SUM_AMOUNT</th>\n      <th>CUSTOMER_ID_1_DAY_WINDOW_AVG_AMOUNT</th>\n    </tr>\n    <tr>\n      <th>TRANSACTION_ID</th>\n      <th></th>\n      <th></th>\n      <th></th>\n      <th></th>\n    </tr>\n  </thead>\n  <tbody>\n    <tr>\n      <th>2454</th>\n      <td>2018-04-01</td>\n      <td>1.0</td>\n      <td>102.4</td>\n      <td>102.4</td>\n    </tr>\n    <tr>\n      <th>10021</th>\n      <td>2018-04-02</td>\n      <td>2.0</td>\n      <td>242.3</td>\n      <td>121.1</td>\n    </tr>\n    <tr>\n      <th>15922</th>\n      <td>2018-04-02</td>\n      <td>2.0</td>\n      <td>228.8</td>\n      <td>114.4</td>\n    </tr>\n    <tr>\n      <th>16561</th>\n      <td>2018-04-02</td>\n      <td>3.0</td>\n      <td>309.4</td>\n      <td>103.1</td>\n    </tr>\n    <tr>\n      <th>30637</th>\n      <td>2018-04-04</td>\n      <td>1.0</td>\n      <td>26.7</td>\n      <td>26.7</td>\n    </tr>\n    <tr>\n      <th>...</th>\n      <td>...</td>\n      <td>...</td>\n      <td>...</td>\n      <td>...</td>\n    </tr>\n    <tr>\n      <th>1743557</th>\n      <td>2018-09-29</td>\n      <td>4.0</td>\n      <td>318.1</td>\n      <td>79.5</td>\n    </tr>\n    <tr>\n      <th>1743699</th>\n      <td>2018-09-29</td>\n      <td>5.0</td>\n      <td>404.0</td>\n      <td>80.8</td>\n    </tr>\n    <tr>\n      <th>1745322</th>\n      <td>2018-09-30</td>\n      <td>6.0</td>\n      <td>471.8</td>\n      <td>78.6</td>\n    </tr>\n    <tr>\n      <th>1751660</th>\n      <td>2018-09-30</td>\n      <td>6.0</td>\n      <td>445.6</td>\n      <td>74.3</td>\n    </tr>\n    <tr>\n      <th>1752123</th>\n      <td>2018-09-30</td>\n      <td>7.0</td>\n      <td>604.7</td>\n      <td>86.4</td>\n    </tr>\n  </tbody>\n</table>\n<p>385 rows × 4 columns</p>\n</div>"
     },
     "execution_count": 19,
     "metadata": {},
     "output_type": "execute_result"
    }
   ],
   "source": [
    "transactions_df[transactions_df['CUSTOMER_ID'] == random_cust_id][['TX_DATE', 'CUSTOMER_ID_1_DAY_WINDOW_COUNT', 'CUSTOMER_ID_1_DAY_WINDOW_SUM_AMOUNT', 'CUSTOMER_ID_1_DAY_WINDOW_AVG_AMOUNT']]"
   ],
   "metadata": {
    "collapsed": false
   }
  },
  {
   "cell_type": "code",
   "execution_count": 20,
   "outputs": [
    {
     "data": {
      "text/plain": "                  TX_DATE  CUSTOMER_ID_7_DAY_WINDOW_COUNT  \\\nTRANSACTION_ID                                              \n2454           2018-04-01                             1.0   \n10021          2018-04-02                             2.0   \n15922          2018-04-02                             3.0   \n16561          2018-04-02                             4.0   \n30637          2018-04-04                             5.0   \n...                   ...                             ...   \n1743557        2018-09-29                            15.0   \n1743699        2018-09-29                            16.0   \n1745322        2018-09-30                            17.0   \n1751660        2018-09-30                            15.0   \n1752123        2018-09-30                            16.0   \n\n                CUSTOMER_ID_7_DAY_WINDOW_SUM_AMOUNT  \\\nTRANSACTION_ID                                        \n2454                                          102.4   \n10021                                         242.3   \n15922                                         331.2   \n16561                                         411.8   \n30637                                         438.5   \n...                                             ...   \n1743557                                      1214.7   \n1743699                                      1300.6   \n1745322                                      1368.3   \n1751660                                      1279.2   \n1752123                                      1438.4   \n\n                CUSTOMER_ID_7_DAY_WINDOW_AVG_AMOUNT  \nTRANSACTION_ID                                       \n2454                                          102.4  \n10021                                         121.1  \n15922                                         110.4  \n16561                                         103.0  \n30637                                          87.7  \n...                                             ...  \n1743557                                        81.0  \n1743699                                        81.3  \n1745322                                        80.5  \n1751660                                        85.3  \n1752123                                        89.9  \n\n[385 rows x 4 columns]",
      "text/html": "<div>\n<style scoped>\n    .dataframe tbody tr th:only-of-type {\n        vertical-align: middle;\n    }\n\n    .dataframe tbody tr th {\n        vertical-align: top;\n    }\n\n    .dataframe thead th {\n        text-align: right;\n    }\n</style>\n<table border=\"1\" class=\"dataframe\">\n  <thead>\n    <tr style=\"text-align: right;\">\n      <th></th>\n      <th>TX_DATE</th>\n      <th>CUSTOMER_ID_7_DAY_WINDOW_COUNT</th>\n      <th>CUSTOMER_ID_7_DAY_WINDOW_SUM_AMOUNT</th>\n      <th>CUSTOMER_ID_7_DAY_WINDOW_AVG_AMOUNT</th>\n    </tr>\n    <tr>\n      <th>TRANSACTION_ID</th>\n      <th></th>\n      <th></th>\n      <th></th>\n      <th></th>\n    </tr>\n  </thead>\n  <tbody>\n    <tr>\n      <th>2454</th>\n      <td>2018-04-01</td>\n      <td>1.0</td>\n      <td>102.4</td>\n      <td>102.4</td>\n    </tr>\n    <tr>\n      <th>10021</th>\n      <td>2018-04-02</td>\n      <td>2.0</td>\n      <td>242.3</td>\n      <td>121.1</td>\n    </tr>\n    <tr>\n      <th>15922</th>\n      <td>2018-04-02</td>\n      <td>3.0</td>\n      <td>331.2</td>\n      <td>110.4</td>\n    </tr>\n    <tr>\n      <th>16561</th>\n      <td>2018-04-02</td>\n      <td>4.0</td>\n      <td>411.8</td>\n      <td>103.0</td>\n    </tr>\n    <tr>\n      <th>30637</th>\n      <td>2018-04-04</td>\n      <td>5.0</td>\n      <td>438.5</td>\n      <td>87.7</td>\n    </tr>\n    <tr>\n      <th>...</th>\n      <td>...</td>\n      <td>...</td>\n      <td>...</td>\n      <td>...</td>\n    </tr>\n    <tr>\n      <th>1743557</th>\n      <td>2018-09-29</td>\n      <td>15.0</td>\n      <td>1214.7</td>\n      <td>81.0</td>\n    </tr>\n    <tr>\n      <th>1743699</th>\n      <td>2018-09-29</td>\n      <td>16.0</td>\n      <td>1300.6</td>\n      <td>81.3</td>\n    </tr>\n    <tr>\n      <th>1745322</th>\n      <td>2018-09-30</td>\n      <td>17.0</td>\n      <td>1368.3</td>\n      <td>80.5</td>\n    </tr>\n    <tr>\n      <th>1751660</th>\n      <td>2018-09-30</td>\n      <td>15.0</td>\n      <td>1279.2</td>\n      <td>85.3</td>\n    </tr>\n    <tr>\n      <th>1752123</th>\n      <td>2018-09-30</td>\n      <td>16.0</td>\n      <td>1438.4</td>\n      <td>89.9</td>\n    </tr>\n  </tbody>\n</table>\n<p>385 rows × 4 columns</p>\n</div>"
     },
     "execution_count": 20,
     "metadata": {},
     "output_type": "execute_result"
    }
   ],
   "source": [
    "transactions_df[transactions_df['CUSTOMER_ID'] == random_cust_id][['TX_DATE', 'CUSTOMER_ID_7_DAY_WINDOW_COUNT', 'CUSTOMER_ID_7_DAY_WINDOW_SUM_AMOUNT', 'CUSTOMER_ID_7_DAY_WINDOW_AVG_AMOUNT']]"
   ],
   "metadata": {
    "collapsed": false
   }
  },
  {
   "cell_type": "code",
   "execution_count": 21,
   "outputs": [
    {
     "data": {
      "text/plain": "                  TX_DATE  CUSTOMER_ID_30_DAY_WINDOW_COUNT  \\\nTRANSACTION_ID                                               \n2454           2018-04-01                              1.0   \n10021          2018-04-02                              2.0   \n15922          2018-04-02                              3.0   \n16561          2018-04-02                              4.0   \n30637          2018-04-04                              5.0   \n...                   ...                              ...   \n1743557        2018-09-29                             73.0   \n1743699        2018-09-29                             74.0   \n1745322        2018-09-30                             74.0   \n1751660        2018-09-30                             73.0   \n1752123        2018-09-30                             74.0   \n\n                CUSTOMER_ID_30_DAY_WINDOW_SUM_AMOUNT  \\\nTRANSACTION_ID                                         \n2454                                           102.4   \n10021                                          242.3   \n15922                                          331.2   \n16561                                          411.8   \n30637                                          438.5   \n...                                              ...   \n1743557                                       6901.0   \n1743699                                       6986.9   \n1745322                                       6960.6   \n1751660                                       6884.8   \n1752123                                       7043.9   \n\n                CUSTOMER_ID_30_DAY_WINDOW_AVG_AMOUNT  \nTRANSACTION_ID                                        \n2454                                           102.4  \n10021                                          121.1  \n15922                                          110.4  \n16561                                          103.0  \n30637                                           87.7  \n...                                              ...  \n1743557                                         94.5  \n1743699                                         94.4  \n1745322                                         94.1  \n1751660                                         94.3  \n1752123                                         95.2  \n\n[385 rows x 4 columns]",
      "text/html": "<div>\n<style scoped>\n    .dataframe tbody tr th:only-of-type {\n        vertical-align: middle;\n    }\n\n    .dataframe tbody tr th {\n        vertical-align: top;\n    }\n\n    .dataframe thead th {\n        text-align: right;\n    }\n</style>\n<table border=\"1\" class=\"dataframe\">\n  <thead>\n    <tr style=\"text-align: right;\">\n      <th></th>\n      <th>TX_DATE</th>\n      <th>CUSTOMER_ID_30_DAY_WINDOW_COUNT</th>\n      <th>CUSTOMER_ID_30_DAY_WINDOW_SUM_AMOUNT</th>\n      <th>CUSTOMER_ID_30_DAY_WINDOW_AVG_AMOUNT</th>\n    </tr>\n    <tr>\n      <th>TRANSACTION_ID</th>\n      <th></th>\n      <th></th>\n      <th></th>\n      <th></th>\n    </tr>\n  </thead>\n  <tbody>\n    <tr>\n      <th>2454</th>\n      <td>2018-04-01</td>\n      <td>1.0</td>\n      <td>102.4</td>\n      <td>102.4</td>\n    </tr>\n    <tr>\n      <th>10021</th>\n      <td>2018-04-02</td>\n      <td>2.0</td>\n      <td>242.3</td>\n      <td>121.1</td>\n    </tr>\n    <tr>\n      <th>15922</th>\n      <td>2018-04-02</td>\n      <td>3.0</td>\n      <td>331.2</td>\n      <td>110.4</td>\n    </tr>\n    <tr>\n      <th>16561</th>\n      <td>2018-04-02</td>\n      <td>4.0</td>\n      <td>411.8</td>\n      <td>103.0</td>\n    </tr>\n    <tr>\n      <th>30637</th>\n      <td>2018-04-04</td>\n      <td>5.0</td>\n      <td>438.5</td>\n      <td>87.7</td>\n    </tr>\n    <tr>\n      <th>...</th>\n      <td>...</td>\n      <td>...</td>\n      <td>...</td>\n      <td>...</td>\n    </tr>\n    <tr>\n      <th>1743557</th>\n      <td>2018-09-29</td>\n      <td>73.0</td>\n      <td>6901.0</td>\n      <td>94.5</td>\n    </tr>\n    <tr>\n      <th>1743699</th>\n      <td>2018-09-29</td>\n      <td>74.0</td>\n      <td>6986.9</td>\n      <td>94.4</td>\n    </tr>\n    <tr>\n      <th>1745322</th>\n      <td>2018-09-30</td>\n      <td>74.0</td>\n      <td>6960.6</td>\n      <td>94.1</td>\n    </tr>\n    <tr>\n      <th>1751660</th>\n      <td>2018-09-30</td>\n      <td>73.0</td>\n      <td>6884.8</td>\n      <td>94.3</td>\n    </tr>\n    <tr>\n      <th>1752123</th>\n      <td>2018-09-30</td>\n      <td>74.0</td>\n      <td>7043.9</td>\n      <td>95.2</td>\n    </tr>\n  </tbody>\n</table>\n<p>385 rows × 4 columns</p>\n</div>"
     },
     "execution_count": 21,
     "metadata": {},
     "output_type": "execute_result"
    }
   ],
   "source": [
    "transactions_df[transactions_df['CUSTOMER_ID'] == random_cust_id][['TX_DATE', 'CUSTOMER_ID_30_DAY_WINDOW_COUNT', 'CUSTOMER_ID_30_DAY_WINDOW_SUM_AMOUNT', 'CUSTOMER_ID_30_DAY_WINDOW_AVG_AMOUNT']]"
   ],
   "metadata": {
    "collapsed": false
   }
  },
  {
   "cell_type": "code",
   "execution_count": 22,
   "outputs": [
    {
     "data": {
      "text/plain": "                       TX_DATETIME  CUSTOMER_ID_DAYS_SINCE_LAST_TXN\nTRANSACTION_ID                                                     \n2454           2018-04-01 08:34:18                                0\n10021          2018-04-02 03:47:02                                0\n15922          2018-04-02 14:21:00                                0\n16561          2018-04-02 15:22:39                                0\n30637          2018-04-04 07:16:33                                1\n...                            ...                              ...\n1743557        2018-09-29 18:48:15                                0\n1743699        2018-09-29 19:15:51                                0\n1745322        2018-09-30 04:52:26                                0\n1751660        2018-09-30 15:32:01                                0\n1752123        2018-09-30 16:21:50                                0\n\n[385 rows x 2 columns]",
      "text/html": "<div>\n<style scoped>\n    .dataframe tbody tr th:only-of-type {\n        vertical-align: middle;\n    }\n\n    .dataframe tbody tr th {\n        vertical-align: top;\n    }\n\n    .dataframe thead th {\n        text-align: right;\n    }\n</style>\n<table border=\"1\" class=\"dataframe\">\n  <thead>\n    <tr style=\"text-align: right;\">\n      <th></th>\n      <th>TX_DATETIME</th>\n      <th>CUSTOMER_ID_DAYS_SINCE_LAST_TXN</th>\n    </tr>\n    <tr>\n      <th>TRANSACTION_ID</th>\n      <th></th>\n      <th></th>\n    </tr>\n  </thead>\n  <tbody>\n    <tr>\n      <th>2454</th>\n      <td>2018-04-01 08:34:18</td>\n      <td>0</td>\n    </tr>\n    <tr>\n      <th>10021</th>\n      <td>2018-04-02 03:47:02</td>\n      <td>0</td>\n    </tr>\n    <tr>\n      <th>15922</th>\n      <td>2018-04-02 14:21:00</td>\n      <td>0</td>\n    </tr>\n    <tr>\n      <th>16561</th>\n      <td>2018-04-02 15:22:39</td>\n      <td>0</td>\n    </tr>\n    <tr>\n      <th>30637</th>\n      <td>2018-04-04 07:16:33</td>\n      <td>1</td>\n    </tr>\n    <tr>\n      <th>...</th>\n      <td>...</td>\n      <td>...</td>\n    </tr>\n    <tr>\n      <th>1743557</th>\n      <td>2018-09-29 18:48:15</td>\n      <td>0</td>\n    </tr>\n    <tr>\n      <th>1743699</th>\n      <td>2018-09-29 19:15:51</td>\n      <td>0</td>\n    </tr>\n    <tr>\n      <th>1745322</th>\n      <td>2018-09-30 04:52:26</td>\n      <td>0</td>\n    </tr>\n    <tr>\n      <th>1751660</th>\n      <td>2018-09-30 15:32:01</td>\n      <td>0</td>\n    </tr>\n    <tr>\n      <th>1752123</th>\n      <td>2018-09-30 16:21:50</td>\n      <td>0</td>\n    </tr>\n  </tbody>\n</table>\n<p>385 rows × 2 columns</p>\n</div>"
     },
     "execution_count": 22,
     "metadata": {},
     "output_type": "execute_result"
    }
   ],
   "source": [
    "transactions_df[transactions_df['CUSTOMER_ID'] == random_cust_id][['TX_DATETIME', 'CUSTOMER_ID_DAYS_SINCE_LAST_TXN']]"
   ],
   "metadata": {
    "collapsed": false
   }
  },
  {
   "cell_type": "markdown",
   "source": [
    "### Terminal features\n",
    "\n",
    "Determine a risk score for each terminal.\n",
    "\n",
    "We will include a delay period in this since the `TX_FRAUD` flag will likely not be known immediately. This will usually change once a customer has reported fraud for example.\n",
    "Therefore, we will set a delay period of 1w assuming that fraud will be reported within a week.\n",
    "\n",
    "`Risk = num of fraud txns / num of total txns, for a given period`."
   ],
   "metadata": {
    "collapsed": false
   }
  },
  {
   "cell_type": "code",
   "execution_count": 23,
   "outputs": [
    {
     "data": {
      "text/plain": "                TRANSACTION_ID         TX_DATETIME  CUSTOMER_ID  TERMINAL_ID  \\\nTRANSACTION_ID                                                                 \n0                            0 2018-04-01 00:00:31          596         3156   \n1                            1 2018-04-01 00:02:10         4961         3412   \n2                            2 2018-04-01 00:07:56            2         1365   \n3                            3 2018-04-01 00:09:29         4128         8737   \n4                            4 2018-04-01 00:10:34          927         9906   \n\n                TX_AMOUNT  TX_TIME_SECONDS  TX_TIME_DAYS  TX_FRAUD  \\\nTRANSACTION_ID                                                       \n0                    57.2               31             0         0   \n1                    81.5              130             0         0   \n2                   146.0              476             0         0   \n3                    64.5              569             0         0   \n4                    51.0              634             0         0   \n\n                TX_FRAUD_SCENARIO    TX_DATE  ...  \\\nTRANSACTION_ID                                ...   \n0                               0 2018-04-01  ...   \n1                               0 2018-04-01  ...   \n2                               0 2018-04-01  ...   \n3                               0 2018-04-01  ...   \n4                               0 2018-04-01  ...   \n\n                CUSTOMER_ID_1_DAY_WINDOW_SUM_AMOUNT  \\\nTRANSACTION_ID                                        \n0                                              57.2   \n1                                              81.5   \n2                                             146.0   \n3                                              64.5   \n4                                              51.0   \n\n                CUSTOMER_ID_1_DAY_WINDOW_COUNT  \\\nTRANSACTION_ID                                   \n0                                          1.0   \n1                                          1.0   \n2                                          1.0   \n3                                          1.0   \n4                                          1.0   \n\n                CUSTOMER_ID_1_DAY_WINDOW_AVG_AMOUNT  \\\nTRANSACTION_ID                                        \n0                                              57.2   \n1                                              81.5   \n2                                             146.0   \n3                                              64.5   \n4                                              51.0   \n\n                CUSTOMER_ID_7_DAY_WINDOW_SUM_AMOUNT  \\\nTRANSACTION_ID                                        \n0                                              57.2   \n1                                              81.5   \n2                                             146.0   \n3                                              64.5   \n4                                              51.0   \n\n                CUSTOMER_ID_7_DAY_WINDOW_COUNT  \\\nTRANSACTION_ID                                   \n0                                          1.0   \n1                                          1.0   \n2                                          1.0   \n3                                          1.0   \n4                                          1.0   \n\n                CUSTOMER_ID_7_DAY_WINDOW_AVG_AMOUNT  \\\nTRANSACTION_ID                                        \n0                                              57.2   \n1                                              81.5   \n2                                             146.0   \n3                                              64.5   \n4                                              51.0   \n\n                CUSTOMER_ID_30_DAY_WINDOW_SUM_AMOUNT  \\\nTRANSACTION_ID                                         \n0                                               57.2   \n1                                               81.5   \n2                                              146.0   \n3                                               64.5   \n4                                               51.0   \n\n                CUSTOMER_ID_30_DAY_WINDOW_COUNT  \\\nTRANSACTION_ID                                    \n0                                           1.0   \n1                                           1.0   \n2                                           1.0   \n3                                           1.0   \n4                                           1.0   \n\n                CUSTOMER_ID_30_DAY_WINDOW_AVG_AMOUNT  \\\nTRANSACTION_ID                                         \n0                                               57.2   \n1                                               81.5   \n2                                              146.0   \n3                                               64.5   \n4                                               51.0   \n\n                CUSTOMER_ID_DAYS_SINCE_LAST_TXN  \nTRANSACTION_ID                                   \n0                                             0  \n1                                             0  \n2                                             0  \n3                                             0  \n4                                             0  \n\n[5 rows x 22 columns]",
      "text/html": "<div>\n<style scoped>\n    .dataframe tbody tr th:only-of-type {\n        vertical-align: middle;\n    }\n\n    .dataframe tbody tr th {\n        vertical-align: top;\n    }\n\n    .dataframe thead th {\n        text-align: right;\n    }\n</style>\n<table border=\"1\" class=\"dataframe\">\n  <thead>\n    <tr style=\"text-align: right;\">\n      <th></th>\n      <th>TRANSACTION_ID</th>\n      <th>TX_DATETIME</th>\n      <th>CUSTOMER_ID</th>\n      <th>TERMINAL_ID</th>\n      <th>TX_AMOUNT</th>\n      <th>TX_TIME_SECONDS</th>\n      <th>TX_TIME_DAYS</th>\n      <th>TX_FRAUD</th>\n      <th>TX_FRAUD_SCENARIO</th>\n      <th>TX_DATE</th>\n      <th>...</th>\n      <th>CUSTOMER_ID_1_DAY_WINDOW_SUM_AMOUNT</th>\n      <th>CUSTOMER_ID_1_DAY_WINDOW_COUNT</th>\n      <th>CUSTOMER_ID_1_DAY_WINDOW_AVG_AMOUNT</th>\n      <th>CUSTOMER_ID_7_DAY_WINDOW_SUM_AMOUNT</th>\n      <th>CUSTOMER_ID_7_DAY_WINDOW_COUNT</th>\n      <th>CUSTOMER_ID_7_DAY_WINDOW_AVG_AMOUNT</th>\n      <th>CUSTOMER_ID_30_DAY_WINDOW_SUM_AMOUNT</th>\n      <th>CUSTOMER_ID_30_DAY_WINDOW_COUNT</th>\n      <th>CUSTOMER_ID_30_DAY_WINDOW_AVG_AMOUNT</th>\n      <th>CUSTOMER_ID_DAYS_SINCE_LAST_TXN</th>\n    </tr>\n    <tr>\n      <th>TRANSACTION_ID</th>\n      <th></th>\n      <th></th>\n      <th></th>\n      <th></th>\n      <th></th>\n      <th></th>\n      <th></th>\n      <th></th>\n      <th></th>\n      <th></th>\n      <th></th>\n      <th></th>\n      <th></th>\n      <th></th>\n      <th></th>\n      <th></th>\n      <th></th>\n      <th></th>\n      <th></th>\n      <th></th>\n      <th></th>\n    </tr>\n  </thead>\n  <tbody>\n    <tr>\n      <th>0</th>\n      <td>0</td>\n      <td>2018-04-01 00:00:31</td>\n      <td>596</td>\n      <td>3156</td>\n      <td>57.2</td>\n      <td>31</td>\n      <td>0</td>\n      <td>0</td>\n      <td>0</td>\n      <td>2018-04-01</td>\n      <td>...</td>\n      <td>57.2</td>\n      <td>1.0</td>\n      <td>57.2</td>\n      <td>57.2</td>\n      <td>1.0</td>\n      <td>57.2</td>\n      <td>57.2</td>\n      <td>1.0</td>\n      <td>57.2</td>\n      <td>0</td>\n    </tr>\n    <tr>\n      <th>1</th>\n      <td>1</td>\n      <td>2018-04-01 00:02:10</td>\n      <td>4961</td>\n      <td>3412</td>\n      <td>81.5</td>\n      <td>130</td>\n      <td>0</td>\n      <td>0</td>\n      <td>0</td>\n      <td>2018-04-01</td>\n      <td>...</td>\n      <td>81.5</td>\n      <td>1.0</td>\n      <td>81.5</td>\n      <td>81.5</td>\n      <td>1.0</td>\n      <td>81.5</td>\n      <td>81.5</td>\n      <td>1.0</td>\n      <td>81.5</td>\n      <td>0</td>\n    </tr>\n    <tr>\n      <th>2</th>\n      <td>2</td>\n      <td>2018-04-01 00:07:56</td>\n      <td>2</td>\n      <td>1365</td>\n      <td>146.0</td>\n      <td>476</td>\n      <td>0</td>\n      <td>0</td>\n      <td>0</td>\n      <td>2018-04-01</td>\n      <td>...</td>\n      <td>146.0</td>\n      <td>1.0</td>\n      <td>146.0</td>\n      <td>146.0</td>\n      <td>1.0</td>\n      <td>146.0</td>\n      <td>146.0</td>\n      <td>1.0</td>\n      <td>146.0</td>\n      <td>0</td>\n    </tr>\n    <tr>\n      <th>3</th>\n      <td>3</td>\n      <td>2018-04-01 00:09:29</td>\n      <td>4128</td>\n      <td>8737</td>\n      <td>64.5</td>\n      <td>569</td>\n      <td>0</td>\n      <td>0</td>\n      <td>0</td>\n      <td>2018-04-01</td>\n      <td>...</td>\n      <td>64.5</td>\n      <td>1.0</td>\n      <td>64.5</td>\n      <td>64.5</td>\n      <td>1.0</td>\n      <td>64.5</td>\n      <td>64.5</td>\n      <td>1.0</td>\n      <td>64.5</td>\n      <td>0</td>\n    </tr>\n    <tr>\n      <th>4</th>\n      <td>4</td>\n      <td>2018-04-01 00:10:34</td>\n      <td>927</td>\n      <td>9906</td>\n      <td>51.0</td>\n      <td>634</td>\n      <td>0</td>\n      <td>0</td>\n      <td>0</td>\n      <td>2018-04-01</td>\n      <td>...</td>\n      <td>51.0</td>\n      <td>1.0</td>\n      <td>51.0</td>\n      <td>51.0</td>\n      <td>1.0</td>\n      <td>51.0</td>\n      <td>51.0</td>\n      <td>1.0</td>\n      <td>51.0</td>\n      <td>0</td>\n    </tr>\n  </tbody>\n</table>\n<p>5 rows × 22 columns</p>\n</div>"
     },
     "execution_count": 23,
     "metadata": {},
     "output_type": "execute_result"
    }
   ],
   "source": [
    "transactions_df.head()"
   ],
   "metadata": {
    "collapsed": false
   }
  },
  {
   "cell_type": "code",
   "execution_count": 24,
   "outputs": [],
   "source": [
    "def generate_terminal_risk(terminal_txns, time_delay=7, window_sizes=(1, 7, 30)):\n",
    "\n",
    "    terminal_txns.index = terminal_txns['TX_DATETIME']\n",
    "    DELAY_FRAUD_TXN_COUNT = terminal_txns['TX_FRAUD'].rolling(str(time_delay) + 'd').sum('TX_FRAUD')\n",
    "    DELAY_ALL_TXN_COUNT = terminal_txns['TX_FRAUD'].rolling(str(time_delay) + 'd').sum('count')\n",
    "\n",
    "    for window in window_sizes:\n",
    "        FRAUD_TXN_COUNT_NODELAY = terminal_txns['TX_FRAUD'].rolling(str(time_delay + window) + 'd').sum('TX_FRAUD')\n",
    "        ALL_TXN_COUNT_NODELAY = terminal_txns['TX_FRAUD'].rolling(str(time_delay + window) + 'd').count()\n",
    "\n",
    "        FRAUD_TXN_COUNT = FRAUD_TXN_COUNT_NODELAY - DELAY_FRAUD_TXN_COUNT\n",
    "        ALL_TXN_COUNT = ALL_TXN_COUNT_NODELAY - DELAY_ALL_TXN_COUNT\n",
    "\n",
    "        RISK_PERC = FRAUD_TXN_COUNT / ALL_TXN_COUNT\n",
    "\n",
    "        terminal_txns['TERMINAL_ID_' + 'FRAUD_RISK_' + str(window) + '_DAY_WINDOW'] = RISK_PERC\n",
    "        terminal_txns['TERMINAL_ID_' + 'FRAUD_TXN_COUNT_' + str(window) + '_DAY_WINDOW'] = FRAUD_TXN_COUNT\n",
    "        terminal_txns['TERMINAL_ID_' + 'TXN_COUNT_' + str(window) + '_DAY_WINDOW'] = ALL_TXN_COUNT\n",
    "\n",
    "    terminal_txns.fillna(0, inplace=True)\n",
    "    terminal_txns.reset_index(drop=True, inplace=True)\n",
    "\n",
    "    return terminal_txns"
   ],
   "metadata": {
    "collapsed": false
   }
  },
  {
   "cell_type": "code",
   "execution_count": 25,
   "outputs": [
    {
     "data": {
      "text/plain": "     TRANSACTION_ID         TX_DATETIME  CUSTOMER_ID  TERMINAL_ID  TX_AMOUNT  \\\n0              9579 2018-04-02 01:00:01         3440            0       16.1   \n1             12806 2018-04-02 09:49:55         3302            0       67.8   \n2             24184 2018-04-03 12:14:41         3790            0       26.8   \n3             46284 2018-04-05 16:47:41         1125            0       40.5   \n4             58807 2018-04-07 06:05:21         1125            0       48.4   \n..              ...                 ...          ...          ...        ...   \n173         1731401 2018-09-28 13:41:40         2499            0        4.7   \n174         1734895 2018-09-28 22:05:28         3302            0       50.8   \n175         1736214 2018-09-29 05:49:27         1408            0      104.0   \n176         1739269 2018-09-29 11:12:46         1408            0       38.8   \n177         1745901 2018-09-30 06:29:54         3790            0       48.7   \n\n     TX_TIME_SECONDS  TX_TIME_DAYS  TX_FRAUD  TX_FRAUD_SCENARIO    TX_DATE  \\\n0              90001             1         0                  0 2018-04-02   \n1             121795             1         0                  0 2018-04-02   \n2             216881             2         0                  0 2018-04-03   \n3             406061             4         0                  0 2018-04-05   \n4             540321             6         0                  0 2018-04-07   \n..               ...           ...       ...                ...        ...   \n173         15601300           180         0                  0 2018-09-28   \n174         15631528           180         0                  0 2018-09-28   \n175         15659367           181         0                  0 2018-09-29   \n176         15678766           181         0                  0 2018-09-29   \n177         15748194           182         0                  0 2018-09-30   \n\n     ...  CUSTOMER_ID_DAYS_SINCE_LAST_TXN  \\\n0    ...                                0   \n1    ...                                0   \n2    ...                                0   \n3    ...                                0   \n4    ...                                0   \n..   ...                              ...   \n173  ...                                1   \n174  ...                                0   \n175  ...                                0   \n176  ...                                0   \n177  ...                                0   \n\n     TERMINAL_ID_FRAUD_RISK_1_DAY_WINDOW  \\\n0                                    0.0   \n1                                    0.0   \n2                                    0.0   \n3                                    0.0   \n4                                    0.0   \n..                                   ...   \n173                                  0.0   \n174                                  0.0   \n175                                  0.0   \n176                                  0.0   \n177                                  0.0   \n\n     TERMINAL_ID_FRAUD_TXN_COUNT_1_DAY_WINDOW  \\\n0                                         0.0   \n1                                         0.0   \n2                                         0.0   \n3                                         0.0   \n4                                         0.0   \n..                                        ...   \n173                                       0.0   \n174                                       0.0   \n175                                       0.0   \n176                                       0.0   \n177                                       0.0   \n\n     TERMINAL_ID_TXN_COUNT_1_DAY_WINDOW  TERMINAL_ID_FRAUD_RISK_7_DAY_WINDOW  \\\n0                                   1.0                                  0.0   \n1                                   2.0                                  0.0   \n2                                   3.0                                  0.0   \n3                                   4.0                                  0.0   \n4                                   5.0                                  0.0   \n..                                  ...                                  ...   \n173                                11.0                                  0.0   \n174                                11.0                                  0.0   \n175                                12.0                                  0.0   \n176                                13.0                                  0.0   \n177                                13.0                                  0.0   \n\n     TERMINAL_ID_FRAUD_TXN_COUNT_7_DAY_WINDOW  \\\n0                                         0.0   \n1                                         0.0   \n2                                         0.0   \n3                                         0.0   \n4                                         0.0   \n..                                        ...   \n173                                       0.0   \n174                                       0.0   \n175                                       0.0   \n176                                       0.0   \n177                                       0.0   \n\n     TERMINAL_ID_TXN_COUNT_7_DAY_WINDOW  TERMINAL_ID_FRAUD_RISK_30_DAY_WINDOW  \\\n0                                   1.0                                   0.0   \n1                                   2.0                                   0.0   \n2                                   3.0                                   0.0   \n3                                   4.0                                   0.0   \n4                                   5.0                                   0.0   \n..                                  ...                                   ...   \n173                                19.0                                   0.0   \n174                                19.0                                   0.0   \n175                                19.0                                   0.0   \n176                                20.0                                   0.0   \n177                                21.0                                   0.0   \n\n     TERMINAL_ID_FRAUD_TXN_COUNT_30_DAY_WINDOW  \\\n0                                          0.0   \n1                                          0.0   \n2                                          0.0   \n3                                          0.0   \n4                                          0.0   \n..                                         ...   \n173                                        0.0   \n174                                        0.0   \n175                                        0.0   \n176                                        0.0   \n177                                        0.0   \n\n     TERMINAL_ID_TXN_COUNT_30_DAY_WINDOW  \n0                                    1.0  \n1                                    2.0  \n2                                    3.0  \n3                                    4.0  \n4                                    5.0  \n..                                   ...  \n173                                 48.0  \n174                                 48.0  \n175                                 49.0  \n176                                 50.0  \n177                                 50.0  \n\n[178 rows x 31 columns]",
      "text/html": "<div>\n<style scoped>\n    .dataframe tbody tr th:only-of-type {\n        vertical-align: middle;\n    }\n\n    .dataframe tbody tr th {\n        vertical-align: top;\n    }\n\n    .dataframe thead th {\n        text-align: right;\n    }\n</style>\n<table border=\"1\" class=\"dataframe\">\n  <thead>\n    <tr style=\"text-align: right;\">\n      <th></th>\n      <th>TRANSACTION_ID</th>\n      <th>TX_DATETIME</th>\n      <th>CUSTOMER_ID</th>\n      <th>TERMINAL_ID</th>\n      <th>TX_AMOUNT</th>\n      <th>TX_TIME_SECONDS</th>\n      <th>TX_TIME_DAYS</th>\n      <th>TX_FRAUD</th>\n      <th>TX_FRAUD_SCENARIO</th>\n      <th>TX_DATE</th>\n      <th>...</th>\n      <th>CUSTOMER_ID_DAYS_SINCE_LAST_TXN</th>\n      <th>TERMINAL_ID_FRAUD_RISK_1_DAY_WINDOW</th>\n      <th>TERMINAL_ID_FRAUD_TXN_COUNT_1_DAY_WINDOW</th>\n      <th>TERMINAL_ID_TXN_COUNT_1_DAY_WINDOW</th>\n      <th>TERMINAL_ID_FRAUD_RISK_7_DAY_WINDOW</th>\n      <th>TERMINAL_ID_FRAUD_TXN_COUNT_7_DAY_WINDOW</th>\n      <th>TERMINAL_ID_TXN_COUNT_7_DAY_WINDOW</th>\n      <th>TERMINAL_ID_FRAUD_RISK_30_DAY_WINDOW</th>\n      <th>TERMINAL_ID_FRAUD_TXN_COUNT_30_DAY_WINDOW</th>\n      <th>TERMINAL_ID_TXN_COUNT_30_DAY_WINDOW</th>\n    </tr>\n  </thead>\n  <tbody>\n    <tr>\n      <th>0</th>\n      <td>9579</td>\n      <td>2018-04-02 01:00:01</td>\n      <td>3440</td>\n      <td>0</td>\n      <td>16.1</td>\n      <td>90001</td>\n      <td>1</td>\n      <td>0</td>\n      <td>0</td>\n      <td>2018-04-02</td>\n      <td>...</td>\n      <td>0</td>\n      <td>0.0</td>\n      <td>0.0</td>\n      <td>1.0</td>\n      <td>0.0</td>\n      <td>0.0</td>\n      <td>1.0</td>\n      <td>0.0</td>\n      <td>0.0</td>\n      <td>1.0</td>\n    </tr>\n    <tr>\n      <th>1</th>\n      <td>12806</td>\n      <td>2018-04-02 09:49:55</td>\n      <td>3302</td>\n      <td>0</td>\n      <td>67.8</td>\n      <td>121795</td>\n      <td>1</td>\n      <td>0</td>\n      <td>0</td>\n      <td>2018-04-02</td>\n      <td>...</td>\n      <td>0</td>\n      <td>0.0</td>\n      <td>0.0</td>\n      <td>2.0</td>\n      <td>0.0</td>\n      <td>0.0</td>\n      <td>2.0</td>\n      <td>0.0</td>\n      <td>0.0</td>\n      <td>2.0</td>\n    </tr>\n    <tr>\n      <th>2</th>\n      <td>24184</td>\n      <td>2018-04-03 12:14:41</td>\n      <td>3790</td>\n      <td>0</td>\n      <td>26.8</td>\n      <td>216881</td>\n      <td>2</td>\n      <td>0</td>\n      <td>0</td>\n      <td>2018-04-03</td>\n      <td>...</td>\n      <td>0</td>\n      <td>0.0</td>\n      <td>0.0</td>\n      <td>3.0</td>\n      <td>0.0</td>\n      <td>0.0</td>\n      <td>3.0</td>\n      <td>0.0</td>\n      <td>0.0</td>\n      <td>3.0</td>\n    </tr>\n    <tr>\n      <th>3</th>\n      <td>46284</td>\n      <td>2018-04-05 16:47:41</td>\n      <td>1125</td>\n      <td>0</td>\n      <td>40.5</td>\n      <td>406061</td>\n      <td>4</td>\n      <td>0</td>\n      <td>0</td>\n      <td>2018-04-05</td>\n      <td>...</td>\n      <td>0</td>\n      <td>0.0</td>\n      <td>0.0</td>\n      <td>4.0</td>\n      <td>0.0</td>\n      <td>0.0</td>\n      <td>4.0</td>\n      <td>0.0</td>\n      <td>0.0</td>\n      <td>4.0</td>\n    </tr>\n    <tr>\n      <th>4</th>\n      <td>58807</td>\n      <td>2018-04-07 06:05:21</td>\n      <td>1125</td>\n      <td>0</td>\n      <td>48.4</td>\n      <td>540321</td>\n      <td>6</td>\n      <td>0</td>\n      <td>0</td>\n      <td>2018-04-07</td>\n      <td>...</td>\n      <td>0</td>\n      <td>0.0</td>\n      <td>0.0</td>\n      <td>5.0</td>\n      <td>0.0</td>\n      <td>0.0</td>\n      <td>5.0</td>\n      <td>0.0</td>\n      <td>0.0</td>\n      <td>5.0</td>\n    </tr>\n    <tr>\n      <th>...</th>\n      <td>...</td>\n      <td>...</td>\n      <td>...</td>\n      <td>...</td>\n      <td>...</td>\n      <td>...</td>\n      <td>...</td>\n      <td>...</td>\n      <td>...</td>\n      <td>...</td>\n      <td>...</td>\n      <td>...</td>\n      <td>...</td>\n      <td>...</td>\n      <td>...</td>\n      <td>...</td>\n      <td>...</td>\n      <td>...</td>\n      <td>...</td>\n      <td>...</td>\n      <td>...</td>\n    </tr>\n    <tr>\n      <th>173</th>\n      <td>1731401</td>\n      <td>2018-09-28 13:41:40</td>\n      <td>2499</td>\n      <td>0</td>\n      <td>4.7</td>\n      <td>15601300</td>\n      <td>180</td>\n      <td>0</td>\n      <td>0</td>\n      <td>2018-09-28</td>\n      <td>...</td>\n      <td>1</td>\n      <td>0.0</td>\n      <td>0.0</td>\n      <td>11.0</td>\n      <td>0.0</td>\n      <td>0.0</td>\n      <td>19.0</td>\n      <td>0.0</td>\n      <td>0.0</td>\n      <td>48.0</td>\n    </tr>\n    <tr>\n      <th>174</th>\n      <td>1734895</td>\n      <td>2018-09-28 22:05:28</td>\n      <td>3302</td>\n      <td>0</td>\n      <td>50.8</td>\n      <td>15631528</td>\n      <td>180</td>\n      <td>0</td>\n      <td>0</td>\n      <td>2018-09-28</td>\n      <td>...</td>\n      <td>0</td>\n      <td>0.0</td>\n      <td>0.0</td>\n      <td>11.0</td>\n      <td>0.0</td>\n      <td>0.0</td>\n      <td>19.0</td>\n      <td>0.0</td>\n      <td>0.0</td>\n      <td>48.0</td>\n    </tr>\n    <tr>\n      <th>175</th>\n      <td>1736214</td>\n      <td>2018-09-29 05:49:27</td>\n      <td>1408</td>\n      <td>0</td>\n      <td>104.0</td>\n      <td>15659367</td>\n      <td>181</td>\n      <td>0</td>\n      <td>0</td>\n      <td>2018-09-29</td>\n      <td>...</td>\n      <td>0</td>\n      <td>0.0</td>\n      <td>0.0</td>\n      <td>12.0</td>\n      <td>0.0</td>\n      <td>0.0</td>\n      <td>19.0</td>\n      <td>0.0</td>\n      <td>0.0</td>\n      <td>49.0</td>\n    </tr>\n    <tr>\n      <th>176</th>\n      <td>1739269</td>\n      <td>2018-09-29 11:12:46</td>\n      <td>1408</td>\n      <td>0</td>\n      <td>38.8</td>\n      <td>15678766</td>\n      <td>181</td>\n      <td>0</td>\n      <td>0</td>\n      <td>2018-09-29</td>\n      <td>...</td>\n      <td>0</td>\n      <td>0.0</td>\n      <td>0.0</td>\n      <td>13.0</td>\n      <td>0.0</td>\n      <td>0.0</td>\n      <td>20.0</td>\n      <td>0.0</td>\n      <td>0.0</td>\n      <td>50.0</td>\n    </tr>\n    <tr>\n      <th>177</th>\n      <td>1745901</td>\n      <td>2018-09-30 06:29:54</td>\n      <td>3790</td>\n      <td>0</td>\n      <td>48.7</td>\n      <td>15748194</td>\n      <td>182</td>\n      <td>0</td>\n      <td>0</td>\n      <td>2018-09-30</td>\n      <td>...</td>\n      <td>0</td>\n      <td>0.0</td>\n      <td>0.0</td>\n      <td>13.0</td>\n      <td>0.0</td>\n      <td>0.0</td>\n      <td>21.0</td>\n      <td>0.0</td>\n      <td>0.0</td>\n      <td>50.0</td>\n    </tr>\n  </tbody>\n</table>\n<p>178 rows × 31 columns</p>\n</div>"
     },
     "execution_count": 25,
     "metadata": {},
     "output_type": "execute_result"
    }
   ],
   "source": [
    "terminal_txns = transactions_df[transactions_df['TERMINAL_ID'] == 0].copy()\n",
    "generate_terminal_risk(terminal_txns)"
   ],
   "metadata": {
    "collapsed": false
   }
  },
  {
   "cell_type": "code",
   "execution_count": 26,
   "outputs": [],
   "source": [
    "transactions_df = transactions_df.groupby('TERMINAL_ID').apply(generate_terminal_risk)"
   ],
   "metadata": {
    "collapsed": false
   }
  },
  {
   "cell_type": "code",
   "execution_count": 27,
   "outputs": [],
   "source": [
    "transactions_df = transactions_df.sort_values('TX_DATETIME').reset_index(drop=True)\n",
    "transactions_df.index = transactions_df['TRANSACTION_ID']"
   ],
   "metadata": {
    "collapsed": false
   }
  },
  {
   "cell_type": "code",
   "execution_count": 28,
   "outputs": [
    {
     "data": {
      "text/plain": "TRANSACTION_ID                                             96159\nTX_DATETIME                                  2018-04-11 03:02:54\nCUSTOMER_ID                                                 3493\nTERMINAL_ID                                                  898\nTX_AMOUNT                                                   25.0\nTX_TIME_SECONDS                                           874974\nTX_TIME_DAYS                                                  10\nTX_FRAUD                                                       1\nTX_FRAUD_SCENARIO                                              2\nTX_DATE                                      2018-04-11 00:00:00\nTX_ON_WEEKEND                                                  0\nTX_AT_NIGHT                                                    1\nCUSTOMER_ID_1_DAY_WINDOW_SUM_AMOUNT                         53.0\nCUSTOMER_ID_1_DAY_WINDOW_COUNT                               4.0\nCUSTOMER_ID_1_DAY_WINDOW_AVG_AMOUNT                         13.3\nCUSTOMER_ID_7_DAY_WINDOW_SUM_AMOUNT                        415.2\nCUSTOMER_ID_7_DAY_WINDOW_COUNT                              23.0\nCUSTOMER_ID_7_DAY_WINDOW_AVG_AMOUNT                         18.1\nCUSTOMER_ID_30_DAY_WINDOW_SUM_AMOUNT                       662.6\nCUSTOMER_ID_30_DAY_WINDOW_COUNT                             37.0\nCUSTOMER_ID_30_DAY_WINDOW_AVG_AMOUNT                        17.9\nCUSTOMER_ID_DAYS_SINCE_LAST_TXN                                0\nTERMINAL_ID_FRAUD_RISK_1_DAY_WINDOW                          0.0\nTERMINAL_ID_FRAUD_TXN_COUNT_1_DAY_WINDOW                     0.0\nTERMINAL_ID_TXN_COUNT_1_DAY_WINDOW                           0.0\nTERMINAL_ID_FRAUD_RISK_7_DAY_WINDOW                          1.0\nTERMINAL_ID_FRAUD_TXN_COUNT_7_DAY_WINDOW                     1.0\nTERMINAL_ID_TXN_COUNT_7_DAY_WINDOW                           1.0\nTERMINAL_ID_FRAUD_RISK_30_DAY_WINDOW                         1.0\nTERMINAL_ID_FRAUD_TXN_COUNT_30_DAY_WINDOW                    1.0\nTERMINAL_ID_TXN_COUNT_30_DAY_WINDOW                          1.0\nName: 96159, dtype: object"
     },
     "execution_count": 28,
     "metadata": {},
     "output_type": "execute_result"
    }
   ],
   "source": [
    "transactions_df.iloc[transactions_df['TERMINAL_ID_FRAUD_RISK_30_DAY_WINDOW'].idxmax()]"
   ],
   "metadata": {
    "collapsed": false
   }
  },
  {
   "cell_type": "code",
   "execution_count": 29,
   "outputs": [
    {
     "data": {
      "text/plain": "9488"
     },
     "execution_count": 29,
     "metadata": {},
     "output_type": "execute_result"
    }
   ],
   "source": [
    "# Quick check - using human eyes, and stopping short of recalculating the cols\n",
    "random_terminal_id = transactions_df[transactions_df['TERMINAL_ID_FRAUD_RISK_30_DAY_WINDOW'] > 0]['TERMINAL_ID'].sample(1, random_state=11).values[0]\n",
    "random_terminal_id"
   ],
   "metadata": {
    "collapsed": false
   }
  },
  {
   "cell_type": "code",
   "execution_count": 30,
   "outputs": [
    {
     "data": {
      "text/plain": "                TRANSACTION_ID         TX_DATETIME  CUSTOMER_ID  TERMINAL_ID  \\\nTRANSACTION_ID                                                                 \n99250                    99250 2018-04-11 09:58:26          245         9488   \n1124358                1124358 2018-07-27 08:42:48         1834         9488   \n1129117                1129117 2018-07-27 15:58:01         2558         9488   \n1187972                1187972 2018-08-02 18:50:48          600         9488   \n1200081                1200081 2018-08-04 07:00:53         1156         9488   \n1205893                1205893 2018-08-04 16:03:25         3435         9488   \n1206270                1206270 2018-08-04 16:43:55          671         9488   \n1233464                1233464 2018-08-07 14:19:21         3435         9488   \n1244654                1244654 2018-08-08 16:50:25          671         9488   \n1265075                1265075 2018-08-10 20:24:28         3719         9488   \n1297071                1297071 2018-08-14 09:14:51         3719         9488   \n1313721                1313721 2018-08-16 02:16:03         1503         9488   \n1321068                1321068 2018-08-16 16:41:00         2356         9488   \n1328222                1328222 2018-08-17 12:51:09         3769         9488   \n1340513                1340513 2018-08-18 17:30:47         4373         9488   \n1363632                1363632 2018-08-21 08:20:44         1162         9488   \n1368045                1368045 2018-08-21 14:55:42          638         9488   \n1370748                1370748 2018-08-21 23:06:55         1834         9488   \n1381438                1381438 2018-08-23 05:24:33         3769         9488   \n\n                TX_AMOUNT  TX_TIME_SECONDS  TX_TIME_DAYS  TX_FRAUD  \\\nTRANSACTION_ID                                                       \n99250               384.5           899906            10         1   \n1124358              66.9         10140168           117         1   \n1129117             110.6         10166281           117         1   \n1187972               5.7         10695048           123         1   \n1200081              68.1         10825253           125         1   \n1205893              25.6         10857805           125         1   \n1206270              35.8         10860235           125         1   \n1233464              36.8         11110761           128         1   \n1244654              17.9         11206225           129         1   \n1265075              65.7         11391868           131         1   \n1297071              95.5         11697291           135         1   \n1313721              34.9         11844963           137         1   \n1321068              65.0         11896860           137         1   \n1328222              74.5         11969469           138         1   \n1340513              34.5         12072647           139         1   \n1363632              11.8         12298844           142         1   \n1368045               6.6         12322542           142         1   \n1370748              68.0         12352015           142         1   \n1381438             100.7         12461073           144         1   \n\n                TX_FRAUD_SCENARIO    TX_DATE  ...  \\\nTRANSACTION_ID                                ...   \n99250                           3 2018-04-11  ...   \n1124358                         2 2018-07-27  ...   \n1129117                         2 2018-07-27  ...   \n1187972                         2 2018-08-02  ...   \n1200081                         2 2018-08-04  ...   \n1205893                         2 2018-08-04  ...   \n1206270                         2 2018-08-04  ...   \n1233464                         2 2018-08-07  ...   \n1244654                         2 2018-08-08  ...   \n1265075                         2 2018-08-10  ...   \n1297071                         2 2018-08-14  ...   \n1313721                         2 2018-08-16  ...   \n1321068                         2 2018-08-16  ...   \n1328222                         2 2018-08-17  ...   \n1340513                         2 2018-08-18  ...   \n1363632                         2 2018-08-21  ...   \n1368045                         2 2018-08-21  ...   \n1370748                         2 2018-08-21  ...   \n1381438                         2 2018-08-23  ...   \n\n                CUSTOMER_ID_DAYS_SINCE_LAST_TXN  \\\nTRANSACTION_ID                                    \n99250                                         0   \n1124358                                       0   \n1129117                                       0   \n1187972                                       0   \n1200081                                       2   \n1205893                                       1   \n1206270                                       0   \n1233464                                       1   \n1244654                                       0   \n1265075                                       0   \n1297071                                       0   \n1313721                                       0   \n1321068                                       2   \n1328222                                       0   \n1340513                                       0   \n1363632                                       0   \n1368045                                       0   \n1370748                                       0   \n1381438                                       0   \n\n                TERMINAL_ID_FRAUD_RISK_1_DAY_WINDOW  \\\nTRANSACTION_ID                                        \n99250                                           0.0   \n1124358                                         0.0   \n1129117                                         0.0   \n1187972                                         0.0   \n1200081                                         1.0   \n1205893                                         0.0   \n1206270                                         0.0   \n1233464                                         0.0   \n1244654                                         0.0   \n1265075                                         0.0   \n1297071                                         0.0   \n1313721                                         1.0   \n1321068                                         1.0   \n1328222                                         0.0   \n1340513                                         1.0   \n1363632                                         0.0   \n1368045                                         1.0   \n1370748                                         1.0   \n1381438                                         1.0   \n\n                TERMINAL_ID_FRAUD_TXN_COUNT_1_DAY_WINDOW  \\\nTRANSACTION_ID                                             \n99250                                                0.0   \n1124358                                              0.0   \n1129117                                              0.0   \n1187972                                              0.0   \n1200081                                              2.0   \n1205893                                              0.0   \n1206270                                              0.0   \n1233464                                              0.0   \n1244654                                              0.0   \n1265075                                              0.0   \n1297071                                              0.0   \n1313721                                              1.0   \n1321068                                              1.0   \n1328222                                              0.0   \n1340513                                              1.0   \n1363632                                              0.0   \n1368045                                              1.0   \n1370748                                              1.0   \n1381438                                              1.0   \n\n                TERMINAL_ID_TXN_COUNT_1_DAY_WINDOW  \\\nTRANSACTION_ID                                       \n99250                                          6.0   \n1124358                                        8.0   \n1129117                                        6.0   \n1187972                                        2.0   \n1200081                                        2.0   \n1205893                                        0.0   \n1206270                                        0.0   \n1233464                                        0.0   \n1244654                                        0.0   \n1265075                                        0.0   \n1297071                                        0.0   \n1313721                                        1.0   \n1321068                                        1.0   \n1328222                                        0.0   \n1340513                                        1.0   \n1363632                                        0.0   \n1368045                                        1.0   \n1370748                                        1.0   \n1381438                                        1.0   \n\n                TERMINAL_ID_FRAUD_RISK_7_DAY_WINDOW  \\\nTRANSACTION_ID                                        \n99250                                           0.0   \n1124358                                         0.0   \n1129117                                         0.0   \n1187972                                         0.0   \n1200081                                         0.3   \n1205893                                         0.3   \n1206270                                         0.3   \n1233464                                         0.4   \n1244654                                         0.5   \n1265075                                         1.0   \n1297071                                         1.0   \n1313721                                         1.0   \n1321068                                         1.0   \n1328222                                         1.0   \n1340513                                         1.0   \n1363632                                         1.0   \n1368045                                         1.0   \n1370748                                         1.0   \n1381438                                         1.0   \n\n                TERMINAL_ID_FRAUD_TXN_COUNT_7_DAY_WINDOW  \\\nTRANSACTION_ID                                             \n99250                                                0.0   \n1124358                                              0.0   \n1129117                                              0.0   \n1187972                                              0.0   \n1200081                                              2.0   \n1205893                                              2.0   \n1206270                                              2.0   \n1233464                                              2.0   \n1244654                                              2.0   \n1265075                                              1.0   \n1297071                                              4.0   \n1313721                                              6.0   \n1321068                                              6.0   \n1328222                                              5.0   \n1340513                                              3.0   \n1363632                                              3.0   \n1368045                                              3.0   \n1370748                                              3.0   \n1381438                                              3.0   \n\n                TERMINAL_ID_TXN_COUNT_7_DAY_WINDOW  \\\nTRANSACTION_ID                                       \n99250                                          6.0   \n1124358                                       11.0   \n1129117                                       11.0   \n1187972                                        5.0   \n1200081                                        7.0   \n1205893                                        7.0   \n1206270                                        7.0   \n1233464                                        5.0   \n1244654                                        4.0   \n1265075                                        1.0   \n1297071                                        4.0   \n1313721                                        6.0   \n1321068                                        6.0   \n1328222                                        5.0   \n1340513                                        3.0   \n1363632                                        3.0   \n1368045                                        3.0   \n1370748                                        3.0   \n1381438                                        3.0   \n\n                TERMINAL_ID_FRAUD_RISK_30_DAY_WINDOW  \\\nTRANSACTION_ID                                         \n99250                                            0.0   \n1124358                                          0.0   \n1129117                                          0.0   \n1187972                                          0.0   \n1200081                                          0.1   \n1205893                                          0.1   \n1206270                                          0.1   \n1233464                                          0.1   \n1244654                                          0.1   \n1265075                                          0.1   \n1297071                                          0.3   \n1313721                                          0.4   \n1321068                                          0.4   \n1328222                                          0.4   \n1340513                                          0.5   \n1363632                                          0.5   \n1368045                                          0.5   \n1370748                                          0.5   \n1381438                                          0.5   \n\n                TERMINAL_ID_FRAUD_TXN_COUNT_30_DAY_WINDOW  \\\nTRANSACTION_ID                                              \n99250                                                 0.0   \n1124358                                               0.0   \n1129117                                               0.0   \n1187972                                               0.0   \n1200081                                               2.0   \n1205893                                               2.0   \n1206270                                               2.0   \n1233464                                               2.0   \n1244654                                               2.0   \n1265075                                               3.0   \n1297071                                               6.0   \n1313721                                               8.0   \n1321068                                               8.0   \n1328222                                               8.0   \n1340513                                               9.0   \n1363632                                               9.0   \n1368045                                              10.0   \n1370748                                              10.0   \n1381438                                              11.0   \n\n                TERMINAL_ID_TXN_COUNT_30_DAY_WINDOW  \nTRANSACTION_ID                                       \n99250                                           6.0  \n1124358                                        37.0  \n1129117                                        37.0  \n1187972                                        33.0  \n1200081                                        35.0  \n1205893                                        35.0  \n1206270                                        35.0  \n1233464                                        30.0  \n1244654                                        29.0  \n1265075                                        29.0  \n1297071                                        19.0  \n1313721                                        20.0  \n1321068                                        20.0  \n1328222                                        19.0  \n1340513                                        20.0  \n1363632                                        20.0  \n1368045                                        20.0  \n1370748                                        20.0  \n1381438                                        21.0  \n\n[19 rows x 31 columns]",
      "text/html": "<div>\n<style scoped>\n    .dataframe tbody tr th:only-of-type {\n        vertical-align: middle;\n    }\n\n    .dataframe tbody tr th {\n        vertical-align: top;\n    }\n\n    .dataframe thead th {\n        text-align: right;\n    }\n</style>\n<table border=\"1\" class=\"dataframe\">\n  <thead>\n    <tr style=\"text-align: right;\">\n      <th></th>\n      <th>TRANSACTION_ID</th>\n      <th>TX_DATETIME</th>\n      <th>CUSTOMER_ID</th>\n      <th>TERMINAL_ID</th>\n      <th>TX_AMOUNT</th>\n      <th>TX_TIME_SECONDS</th>\n      <th>TX_TIME_DAYS</th>\n      <th>TX_FRAUD</th>\n      <th>TX_FRAUD_SCENARIO</th>\n      <th>TX_DATE</th>\n      <th>...</th>\n      <th>CUSTOMER_ID_DAYS_SINCE_LAST_TXN</th>\n      <th>TERMINAL_ID_FRAUD_RISK_1_DAY_WINDOW</th>\n      <th>TERMINAL_ID_FRAUD_TXN_COUNT_1_DAY_WINDOW</th>\n      <th>TERMINAL_ID_TXN_COUNT_1_DAY_WINDOW</th>\n      <th>TERMINAL_ID_FRAUD_RISK_7_DAY_WINDOW</th>\n      <th>TERMINAL_ID_FRAUD_TXN_COUNT_7_DAY_WINDOW</th>\n      <th>TERMINAL_ID_TXN_COUNT_7_DAY_WINDOW</th>\n      <th>TERMINAL_ID_FRAUD_RISK_30_DAY_WINDOW</th>\n      <th>TERMINAL_ID_FRAUD_TXN_COUNT_30_DAY_WINDOW</th>\n      <th>TERMINAL_ID_TXN_COUNT_30_DAY_WINDOW</th>\n    </tr>\n    <tr>\n      <th>TRANSACTION_ID</th>\n      <th></th>\n      <th></th>\n      <th></th>\n      <th></th>\n      <th></th>\n      <th></th>\n      <th></th>\n      <th></th>\n      <th></th>\n      <th></th>\n      <th></th>\n      <th></th>\n      <th></th>\n      <th></th>\n      <th></th>\n      <th></th>\n      <th></th>\n      <th></th>\n      <th></th>\n      <th></th>\n      <th></th>\n    </tr>\n  </thead>\n  <tbody>\n    <tr>\n      <th>99250</th>\n      <td>99250</td>\n      <td>2018-04-11 09:58:26</td>\n      <td>245</td>\n      <td>9488</td>\n      <td>384.5</td>\n      <td>899906</td>\n      <td>10</td>\n      <td>1</td>\n      <td>3</td>\n      <td>2018-04-11</td>\n      <td>...</td>\n      <td>0</td>\n      <td>0.0</td>\n      <td>0.0</td>\n      <td>6.0</td>\n      <td>0.0</td>\n      <td>0.0</td>\n      <td>6.0</td>\n      <td>0.0</td>\n      <td>0.0</td>\n      <td>6.0</td>\n    </tr>\n    <tr>\n      <th>1124358</th>\n      <td>1124358</td>\n      <td>2018-07-27 08:42:48</td>\n      <td>1834</td>\n      <td>9488</td>\n      <td>66.9</td>\n      <td>10140168</td>\n      <td>117</td>\n      <td>1</td>\n      <td>2</td>\n      <td>2018-07-27</td>\n      <td>...</td>\n      <td>0</td>\n      <td>0.0</td>\n      <td>0.0</td>\n      <td>8.0</td>\n      <td>0.0</td>\n      <td>0.0</td>\n      <td>11.0</td>\n      <td>0.0</td>\n      <td>0.0</td>\n      <td>37.0</td>\n    </tr>\n    <tr>\n      <th>1129117</th>\n      <td>1129117</td>\n      <td>2018-07-27 15:58:01</td>\n      <td>2558</td>\n      <td>9488</td>\n      <td>110.6</td>\n      <td>10166281</td>\n      <td>117</td>\n      <td>1</td>\n      <td>2</td>\n      <td>2018-07-27</td>\n      <td>...</td>\n      <td>0</td>\n      <td>0.0</td>\n      <td>0.0</td>\n      <td>6.0</td>\n      <td>0.0</td>\n      <td>0.0</td>\n      <td>11.0</td>\n      <td>0.0</td>\n      <td>0.0</td>\n      <td>37.0</td>\n    </tr>\n    <tr>\n      <th>1187972</th>\n      <td>1187972</td>\n      <td>2018-08-02 18:50:48</td>\n      <td>600</td>\n      <td>9488</td>\n      <td>5.7</td>\n      <td>10695048</td>\n      <td>123</td>\n      <td>1</td>\n      <td>2</td>\n      <td>2018-08-02</td>\n      <td>...</td>\n      <td>0</td>\n      <td>0.0</td>\n      <td>0.0</td>\n      <td>2.0</td>\n      <td>0.0</td>\n      <td>0.0</td>\n      <td>5.0</td>\n      <td>0.0</td>\n      <td>0.0</td>\n      <td>33.0</td>\n    </tr>\n    <tr>\n      <th>1200081</th>\n      <td>1200081</td>\n      <td>2018-08-04 07:00:53</td>\n      <td>1156</td>\n      <td>9488</td>\n      <td>68.1</td>\n      <td>10825253</td>\n      <td>125</td>\n      <td>1</td>\n      <td>2</td>\n      <td>2018-08-04</td>\n      <td>...</td>\n      <td>2</td>\n      <td>1.0</td>\n      <td>2.0</td>\n      <td>2.0</td>\n      <td>0.3</td>\n      <td>2.0</td>\n      <td>7.0</td>\n      <td>0.1</td>\n      <td>2.0</td>\n      <td>35.0</td>\n    </tr>\n    <tr>\n      <th>1205893</th>\n      <td>1205893</td>\n      <td>2018-08-04 16:03:25</td>\n      <td>3435</td>\n      <td>9488</td>\n      <td>25.6</td>\n      <td>10857805</td>\n      <td>125</td>\n      <td>1</td>\n      <td>2</td>\n      <td>2018-08-04</td>\n      <td>...</td>\n      <td>1</td>\n      <td>0.0</td>\n      <td>0.0</td>\n      <td>0.0</td>\n      <td>0.3</td>\n      <td>2.0</td>\n      <td>7.0</td>\n      <td>0.1</td>\n      <td>2.0</td>\n      <td>35.0</td>\n    </tr>\n    <tr>\n      <th>1206270</th>\n      <td>1206270</td>\n      <td>2018-08-04 16:43:55</td>\n      <td>671</td>\n      <td>9488</td>\n      <td>35.8</td>\n      <td>10860235</td>\n      <td>125</td>\n      <td>1</td>\n      <td>2</td>\n      <td>2018-08-04</td>\n      <td>...</td>\n      <td>0</td>\n      <td>0.0</td>\n      <td>0.0</td>\n      <td>0.0</td>\n      <td>0.3</td>\n      <td>2.0</td>\n      <td>7.0</td>\n      <td>0.1</td>\n      <td>2.0</td>\n      <td>35.0</td>\n    </tr>\n    <tr>\n      <th>1233464</th>\n      <td>1233464</td>\n      <td>2018-08-07 14:19:21</td>\n      <td>3435</td>\n      <td>9488</td>\n      <td>36.8</td>\n      <td>11110761</td>\n      <td>128</td>\n      <td>1</td>\n      <td>2</td>\n      <td>2018-08-07</td>\n      <td>...</td>\n      <td>1</td>\n      <td>0.0</td>\n      <td>0.0</td>\n      <td>0.0</td>\n      <td>0.4</td>\n      <td>2.0</td>\n      <td>5.0</td>\n      <td>0.1</td>\n      <td>2.0</td>\n      <td>30.0</td>\n    </tr>\n    <tr>\n      <th>1244654</th>\n      <td>1244654</td>\n      <td>2018-08-08 16:50:25</td>\n      <td>671</td>\n      <td>9488</td>\n      <td>17.9</td>\n      <td>11206225</td>\n      <td>129</td>\n      <td>1</td>\n      <td>2</td>\n      <td>2018-08-08</td>\n      <td>...</td>\n      <td>0</td>\n      <td>0.0</td>\n      <td>0.0</td>\n      <td>0.0</td>\n      <td>0.5</td>\n      <td>2.0</td>\n      <td>4.0</td>\n      <td>0.1</td>\n      <td>2.0</td>\n      <td>29.0</td>\n    </tr>\n    <tr>\n      <th>1265075</th>\n      <td>1265075</td>\n      <td>2018-08-10 20:24:28</td>\n      <td>3719</td>\n      <td>9488</td>\n      <td>65.7</td>\n      <td>11391868</td>\n      <td>131</td>\n      <td>1</td>\n      <td>2</td>\n      <td>2018-08-10</td>\n      <td>...</td>\n      <td>0</td>\n      <td>0.0</td>\n      <td>0.0</td>\n      <td>0.0</td>\n      <td>1.0</td>\n      <td>1.0</td>\n      <td>1.0</td>\n      <td>0.1</td>\n      <td>3.0</td>\n      <td>29.0</td>\n    </tr>\n    <tr>\n      <th>1297071</th>\n      <td>1297071</td>\n      <td>2018-08-14 09:14:51</td>\n      <td>3719</td>\n      <td>9488</td>\n      <td>95.5</td>\n      <td>11697291</td>\n      <td>135</td>\n      <td>1</td>\n      <td>2</td>\n      <td>2018-08-14</td>\n      <td>...</td>\n      <td>0</td>\n      <td>0.0</td>\n      <td>0.0</td>\n      <td>0.0</td>\n      <td>1.0</td>\n      <td>4.0</td>\n      <td>4.0</td>\n      <td>0.3</td>\n      <td>6.0</td>\n      <td>19.0</td>\n    </tr>\n    <tr>\n      <th>1313721</th>\n      <td>1313721</td>\n      <td>2018-08-16 02:16:03</td>\n      <td>1503</td>\n      <td>9488</td>\n      <td>34.9</td>\n      <td>11844963</td>\n      <td>137</td>\n      <td>1</td>\n      <td>2</td>\n      <td>2018-08-16</td>\n      <td>...</td>\n      <td>0</td>\n      <td>1.0</td>\n      <td>1.0</td>\n      <td>1.0</td>\n      <td>1.0</td>\n      <td>6.0</td>\n      <td>6.0</td>\n      <td>0.4</td>\n      <td>8.0</td>\n      <td>20.0</td>\n    </tr>\n    <tr>\n      <th>1321068</th>\n      <td>1321068</td>\n      <td>2018-08-16 16:41:00</td>\n      <td>2356</td>\n      <td>9488</td>\n      <td>65.0</td>\n      <td>11896860</td>\n      <td>137</td>\n      <td>1</td>\n      <td>2</td>\n      <td>2018-08-16</td>\n      <td>...</td>\n      <td>2</td>\n      <td>1.0</td>\n      <td>1.0</td>\n      <td>1.0</td>\n      <td>1.0</td>\n      <td>6.0</td>\n      <td>6.0</td>\n      <td>0.4</td>\n      <td>8.0</td>\n      <td>20.0</td>\n    </tr>\n    <tr>\n      <th>1328222</th>\n      <td>1328222</td>\n      <td>2018-08-17 12:51:09</td>\n      <td>3769</td>\n      <td>9488</td>\n      <td>74.5</td>\n      <td>11969469</td>\n      <td>138</td>\n      <td>1</td>\n      <td>2</td>\n      <td>2018-08-17</td>\n      <td>...</td>\n      <td>0</td>\n      <td>0.0</td>\n      <td>0.0</td>\n      <td>0.0</td>\n      <td>1.0</td>\n      <td>5.0</td>\n      <td>5.0</td>\n      <td>0.4</td>\n      <td>8.0</td>\n      <td>19.0</td>\n    </tr>\n    <tr>\n      <th>1340513</th>\n      <td>1340513</td>\n      <td>2018-08-18 17:30:47</td>\n      <td>4373</td>\n      <td>9488</td>\n      <td>34.5</td>\n      <td>12072647</td>\n      <td>139</td>\n      <td>1</td>\n      <td>2</td>\n      <td>2018-08-18</td>\n      <td>...</td>\n      <td>0</td>\n      <td>1.0</td>\n      <td>1.0</td>\n      <td>1.0</td>\n      <td>1.0</td>\n      <td>3.0</td>\n      <td>3.0</td>\n      <td>0.5</td>\n      <td>9.0</td>\n      <td>20.0</td>\n    </tr>\n    <tr>\n      <th>1363632</th>\n      <td>1363632</td>\n      <td>2018-08-21 08:20:44</td>\n      <td>1162</td>\n      <td>9488</td>\n      <td>11.8</td>\n      <td>12298844</td>\n      <td>142</td>\n      <td>1</td>\n      <td>2</td>\n      <td>2018-08-21</td>\n      <td>...</td>\n      <td>0</td>\n      <td>0.0</td>\n      <td>0.0</td>\n      <td>0.0</td>\n      <td>1.0</td>\n      <td>3.0</td>\n      <td>3.0</td>\n      <td>0.5</td>\n      <td>9.0</td>\n      <td>20.0</td>\n    </tr>\n    <tr>\n      <th>1368045</th>\n      <td>1368045</td>\n      <td>2018-08-21 14:55:42</td>\n      <td>638</td>\n      <td>9488</td>\n      <td>6.6</td>\n      <td>12322542</td>\n      <td>142</td>\n      <td>1</td>\n      <td>2</td>\n      <td>2018-08-21</td>\n      <td>...</td>\n      <td>0</td>\n      <td>1.0</td>\n      <td>1.0</td>\n      <td>1.0</td>\n      <td>1.0</td>\n      <td>3.0</td>\n      <td>3.0</td>\n      <td>0.5</td>\n      <td>10.0</td>\n      <td>20.0</td>\n    </tr>\n    <tr>\n      <th>1370748</th>\n      <td>1370748</td>\n      <td>2018-08-21 23:06:55</td>\n      <td>1834</td>\n      <td>9488</td>\n      <td>68.0</td>\n      <td>12352015</td>\n      <td>142</td>\n      <td>1</td>\n      <td>2</td>\n      <td>2018-08-21</td>\n      <td>...</td>\n      <td>0</td>\n      <td>1.0</td>\n      <td>1.0</td>\n      <td>1.0</td>\n      <td>1.0</td>\n      <td>3.0</td>\n      <td>3.0</td>\n      <td>0.5</td>\n      <td>10.0</td>\n      <td>20.0</td>\n    </tr>\n    <tr>\n      <th>1381438</th>\n      <td>1381438</td>\n      <td>2018-08-23 05:24:33</td>\n      <td>3769</td>\n      <td>9488</td>\n      <td>100.7</td>\n      <td>12461073</td>\n      <td>144</td>\n      <td>1</td>\n      <td>2</td>\n      <td>2018-08-23</td>\n      <td>...</td>\n      <td>0</td>\n      <td>1.0</td>\n      <td>1.0</td>\n      <td>1.0</td>\n      <td>1.0</td>\n      <td>3.0</td>\n      <td>3.0</td>\n      <td>0.5</td>\n      <td>11.0</td>\n      <td>21.0</td>\n    </tr>\n  </tbody>\n</table>\n<p>19 rows × 31 columns</p>\n</div>"
     },
     "execution_count": 30,
     "metadata": {},
     "output_type": "execute_result"
    }
   ],
   "source": [
    "transactions_df[(transactions_df['TERMINAL_ID'] == random_terminal_id) & (transactions_df['TX_FRAUD'] == 1)]\n",
    "# 4th April had a fraud txn of $103"
   ],
   "metadata": {
    "collapsed": false
   }
  },
  {
   "cell_type": "code",
   "execution_count": 31,
   "outputs": [
    {
     "data": {
      "text/plain": "                       TX_DATETIME  TERMINAL_ID_FRAUD_TXN_COUNT_1_DAY_WINDOW  \\\nTRANSACTION_ID                                                                 \n30686          2018-04-04 07:23:17                                       0.0   \n34395          2018-04-04 13:04:40                                       0.0   \n41647          2018-04-05 09:41:47                                       0.0   \n42835          2018-04-05 11:24:38                                       0.0   \n43224          2018-04-05 11:57:24                                       0.0   \n...                            ...                                       ...   \n1725313        2018-09-27 22:05:06                                       0.0   \n1732564        2018-09-28 15:32:22                                       0.0   \n1735365        2018-09-29 02:35:48                                       0.0   \n1739928        2018-09-29 12:09:13                                       0.0   \n1744475        2018-09-29 23:35:06                                       0.0   \n\n                TERMINAL_ID_TXN_COUNT_1_DAY_WINDOW  \\\nTRANSACTION_ID                                       \n30686                                          1.0   \n34395                                          2.0   \n41647                                          3.0   \n42835                                          4.0   \n43224                                          5.0   \n...                                            ...   \n1725313                                       12.0   \n1732564                                       13.0   \n1735365                                       14.0   \n1739928                                       15.0   \n1744475                                       15.0   \n\n                TERMINAL_ID_FRAUD_RISK_1_DAY_WINDOW  \nTRANSACTION_ID                                       \n30686                                           0.0  \n34395                                           0.0  \n41647                                           0.0  \n42835                                           0.0  \n43224                                           0.0  \n...                                             ...  \n1725313                                         0.0  \n1732564                                         0.0  \n1735365                                         0.0  \n1739928                                         0.0  \n1744475                                         0.0  \n\n[165 rows x 4 columns]",
      "text/html": "<div>\n<style scoped>\n    .dataframe tbody tr th:only-of-type {\n        vertical-align: middle;\n    }\n\n    .dataframe tbody tr th {\n        vertical-align: top;\n    }\n\n    .dataframe thead th {\n        text-align: right;\n    }\n</style>\n<table border=\"1\" class=\"dataframe\">\n  <thead>\n    <tr style=\"text-align: right;\">\n      <th></th>\n      <th>TX_DATETIME</th>\n      <th>TERMINAL_ID_FRAUD_TXN_COUNT_1_DAY_WINDOW</th>\n      <th>TERMINAL_ID_TXN_COUNT_1_DAY_WINDOW</th>\n      <th>TERMINAL_ID_FRAUD_RISK_1_DAY_WINDOW</th>\n    </tr>\n    <tr>\n      <th>TRANSACTION_ID</th>\n      <th></th>\n      <th></th>\n      <th></th>\n      <th></th>\n    </tr>\n  </thead>\n  <tbody>\n    <tr>\n      <th>30686</th>\n      <td>2018-04-04 07:23:17</td>\n      <td>0.0</td>\n      <td>1.0</td>\n      <td>0.0</td>\n    </tr>\n    <tr>\n      <th>34395</th>\n      <td>2018-04-04 13:04:40</td>\n      <td>0.0</td>\n      <td>2.0</td>\n      <td>0.0</td>\n    </tr>\n    <tr>\n      <th>41647</th>\n      <td>2018-04-05 09:41:47</td>\n      <td>0.0</td>\n      <td>3.0</td>\n      <td>0.0</td>\n    </tr>\n    <tr>\n      <th>42835</th>\n      <td>2018-04-05 11:24:38</td>\n      <td>0.0</td>\n      <td>4.0</td>\n      <td>0.0</td>\n    </tr>\n    <tr>\n      <th>43224</th>\n      <td>2018-04-05 11:57:24</td>\n      <td>0.0</td>\n      <td>5.0</td>\n      <td>0.0</td>\n    </tr>\n    <tr>\n      <th>...</th>\n      <td>...</td>\n      <td>...</td>\n      <td>...</td>\n      <td>...</td>\n    </tr>\n    <tr>\n      <th>1725313</th>\n      <td>2018-09-27 22:05:06</td>\n      <td>0.0</td>\n      <td>12.0</td>\n      <td>0.0</td>\n    </tr>\n    <tr>\n      <th>1732564</th>\n      <td>2018-09-28 15:32:22</td>\n      <td>0.0</td>\n      <td>13.0</td>\n      <td>0.0</td>\n    </tr>\n    <tr>\n      <th>1735365</th>\n      <td>2018-09-29 02:35:48</td>\n      <td>0.0</td>\n      <td>14.0</td>\n      <td>0.0</td>\n    </tr>\n    <tr>\n      <th>1739928</th>\n      <td>2018-09-29 12:09:13</td>\n      <td>0.0</td>\n      <td>15.0</td>\n      <td>0.0</td>\n    </tr>\n    <tr>\n      <th>1744475</th>\n      <td>2018-09-29 23:35:06</td>\n      <td>0.0</td>\n      <td>15.0</td>\n      <td>0.0</td>\n    </tr>\n  </tbody>\n</table>\n<p>165 rows × 4 columns</p>\n</div>"
     },
     "execution_count": 31,
     "metadata": {},
     "output_type": "execute_result"
    }
   ],
   "source": [
    "transactions_df[transactions_df['TERMINAL_ID'] == random_terminal_id][['TX_DATETIME', 'TERMINAL_ID_FRAUD_TXN_COUNT_1_DAY_WINDOW', 'TERMINAL_ID_TXN_COUNT_1_DAY_WINDOW', 'TERMINAL_ID_FRAUD_RISK_1_DAY_WINDOW']]"
   ],
   "metadata": {
    "collapsed": false
   }
  },
  {
   "cell_type": "code",
   "execution_count": 32,
   "outputs": [
    {
     "data": {
      "text/plain": "                       TX_DATETIME  TERMINAL_ID_FRAUD_TXN_COUNT_7_DAY_WINDOW  \\\nTRANSACTION_ID                                                                 \n30686          2018-04-04 07:23:17                                       0.0   \n34395          2018-04-04 13:04:40                                       0.0   \n41647          2018-04-05 09:41:47                                       0.0   \n42835          2018-04-05 11:24:38                                       0.0   \n43224          2018-04-05 11:57:24                                       0.0   \n...                            ...                                       ...   \n1725313        2018-09-27 22:05:06                                       0.0   \n1732564        2018-09-28 15:32:22                                       0.0   \n1735365        2018-09-29 02:35:48                                       0.0   \n1739928        2018-09-29 12:09:13                                       0.0   \n1744475        2018-09-29 23:35:06                                       0.0   \n\n                TERMINAL_ID_TXN_COUNT_7_DAY_WINDOW  \\\nTRANSACTION_ID                                       \n30686                                          1.0   \n34395                                          2.0   \n41647                                          3.0   \n42835                                          4.0   \n43224                                          5.0   \n...                                            ...   \n1725313                                       17.0   \n1732564                                       15.0   \n1735365                                       16.0   \n1739928                                       17.0   \n1744475                                       18.0   \n\n                TERMINAL_ID_FRAUD_RISK_7_DAY_WINDOW  \nTRANSACTION_ID                                       \n30686                                           0.0  \n34395                                           0.0  \n41647                                           0.0  \n42835                                           0.0  \n43224                                           0.0  \n...                                             ...  \n1725313                                         0.0  \n1732564                                         0.0  \n1735365                                         0.0  \n1739928                                         0.0  \n1744475                                         0.0  \n\n[165 rows x 4 columns]",
      "text/html": "<div>\n<style scoped>\n    .dataframe tbody tr th:only-of-type {\n        vertical-align: middle;\n    }\n\n    .dataframe tbody tr th {\n        vertical-align: top;\n    }\n\n    .dataframe thead th {\n        text-align: right;\n    }\n</style>\n<table border=\"1\" class=\"dataframe\">\n  <thead>\n    <tr style=\"text-align: right;\">\n      <th></th>\n      <th>TX_DATETIME</th>\n      <th>TERMINAL_ID_FRAUD_TXN_COUNT_7_DAY_WINDOW</th>\n      <th>TERMINAL_ID_TXN_COUNT_7_DAY_WINDOW</th>\n      <th>TERMINAL_ID_FRAUD_RISK_7_DAY_WINDOW</th>\n    </tr>\n    <tr>\n      <th>TRANSACTION_ID</th>\n      <th></th>\n      <th></th>\n      <th></th>\n      <th></th>\n    </tr>\n  </thead>\n  <tbody>\n    <tr>\n      <th>30686</th>\n      <td>2018-04-04 07:23:17</td>\n      <td>0.0</td>\n      <td>1.0</td>\n      <td>0.0</td>\n    </tr>\n    <tr>\n      <th>34395</th>\n      <td>2018-04-04 13:04:40</td>\n      <td>0.0</td>\n      <td>2.0</td>\n      <td>0.0</td>\n    </tr>\n    <tr>\n      <th>41647</th>\n      <td>2018-04-05 09:41:47</td>\n      <td>0.0</td>\n      <td>3.0</td>\n      <td>0.0</td>\n    </tr>\n    <tr>\n      <th>42835</th>\n      <td>2018-04-05 11:24:38</td>\n      <td>0.0</td>\n      <td>4.0</td>\n      <td>0.0</td>\n    </tr>\n    <tr>\n      <th>43224</th>\n      <td>2018-04-05 11:57:24</td>\n      <td>0.0</td>\n      <td>5.0</td>\n      <td>0.0</td>\n    </tr>\n    <tr>\n      <th>...</th>\n      <td>...</td>\n      <td>...</td>\n      <td>...</td>\n      <td>...</td>\n    </tr>\n    <tr>\n      <th>1725313</th>\n      <td>2018-09-27 22:05:06</td>\n      <td>0.0</td>\n      <td>17.0</td>\n      <td>0.0</td>\n    </tr>\n    <tr>\n      <th>1732564</th>\n      <td>2018-09-28 15:32:22</td>\n      <td>0.0</td>\n      <td>15.0</td>\n      <td>0.0</td>\n    </tr>\n    <tr>\n      <th>1735365</th>\n      <td>2018-09-29 02:35:48</td>\n      <td>0.0</td>\n      <td>16.0</td>\n      <td>0.0</td>\n    </tr>\n    <tr>\n      <th>1739928</th>\n      <td>2018-09-29 12:09:13</td>\n      <td>0.0</td>\n      <td>17.0</td>\n      <td>0.0</td>\n    </tr>\n    <tr>\n      <th>1744475</th>\n      <td>2018-09-29 23:35:06</td>\n      <td>0.0</td>\n      <td>18.0</td>\n      <td>0.0</td>\n    </tr>\n  </tbody>\n</table>\n<p>165 rows × 4 columns</p>\n</div>"
     },
     "execution_count": 32,
     "metadata": {},
     "output_type": "execute_result"
    }
   ],
   "source": [
    "transactions_df[transactions_df['TERMINAL_ID'] == random_terminal_id][['TX_DATETIME', 'TERMINAL_ID_FRAUD_TXN_COUNT_7_DAY_WINDOW', 'TERMINAL_ID_TXN_COUNT_7_DAY_WINDOW', 'TERMINAL_ID_FRAUD_RISK_7_DAY_WINDOW']]"
   ],
   "metadata": {
    "collapsed": false
   }
  },
  {
   "cell_type": "code",
   "execution_count": 33,
   "outputs": [
    {
     "data": {
      "text/plain": "                       TX_DATETIME  TERMINAL_ID_FRAUD_TXN_COUNT_30_DAY_WINDOW  \\\nTRANSACTION_ID                                                                  \n30686          2018-04-04 07:23:17                                        0.0   \n34395          2018-04-04 13:04:40                                        0.0   \n41647          2018-04-05 09:41:47                                        0.0   \n42835          2018-04-05 11:24:38                                        0.0   \n43224          2018-04-05 11:57:24                                        0.0   \n...                            ...                                        ...   \n1725313        2018-09-27 22:05:06                                        2.0   \n1732564        2018-09-28 15:32:22                                        1.0   \n1735365        2018-09-29 02:35:48                                        1.0   \n1739928        2018-09-29 12:09:13                                        0.0   \n1744475        2018-09-29 23:35:06                                        0.0   \n\n                TERMINAL_ID_TXN_COUNT_30_DAY_WINDOW  \\\nTRANSACTION_ID                                        \n30686                                           1.0   \n34395                                           2.0   \n41647                                           3.0   \n42835                                           4.0   \n43224                                           5.0   \n...                                             ...   \n1725313                                        37.0   \n1732564                                        37.0   \n1735365                                        38.0   \n1739928                                        38.0   \n1744475                                        39.0   \n\n                TERMINAL_ID_FRAUD_RISK_30_DAY_WINDOW  \nTRANSACTION_ID                                        \n30686                                            0.0  \n34395                                            0.0  \n41647                                            0.0  \n42835                                            0.0  \n43224                                            0.0  \n...                                              ...  \n1725313                                          0.1  \n1732564                                          0.0  \n1735365                                          0.0  \n1739928                                          0.0  \n1744475                                          0.0  \n\n[165 rows x 4 columns]",
      "text/html": "<div>\n<style scoped>\n    .dataframe tbody tr th:only-of-type {\n        vertical-align: middle;\n    }\n\n    .dataframe tbody tr th {\n        vertical-align: top;\n    }\n\n    .dataframe thead th {\n        text-align: right;\n    }\n</style>\n<table border=\"1\" class=\"dataframe\">\n  <thead>\n    <tr style=\"text-align: right;\">\n      <th></th>\n      <th>TX_DATETIME</th>\n      <th>TERMINAL_ID_FRAUD_TXN_COUNT_30_DAY_WINDOW</th>\n      <th>TERMINAL_ID_TXN_COUNT_30_DAY_WINDOW</th>\n      <th>TERMINAL_ID_FRAUD_RISK_30_DAY_WINDOW</th>\n    </tr>\n    <tr>\n      <th>TRANSACTION_ID</th>\n      <th></th>\n      <th></th>\n      <th></th>\n      <th></th>\n    </tr>\n  </thead>\n  <tbody>\n    <tr>\n      <th>30686</th>\n      <td>2018-04-04 07:23:17</td>\n      <td>0.0</td>\n      <td>1.0</td>\n      <td>0.0</td>\n    </tr>\n    <tr>\n      <th>34395</th>\n      <td>2018-04-04 13:04:40</td>\n      <td>0.0</td>\n      <td>2.0</td>\n      <td>0.0</td>\n    </tr>\n    <tr>\n      <th>41647</th>\n      <td>2018-04-05 09:41:47</td>\n      <td>0.0</td>\n      <td>3.0</td>\n      <td>0.0</td>\n    </tr>\n    <tr>\n      <th>42835</th>\n      <td>2018-04-05 11:24:38</td>\n      <td>0.0</td>\n      <td>4.0</td>\n      <td>0.0</td>\n    </tr>\n    <tr>\n      <th>43224</th>\n      <td>2018-04-05 11:57:24</td>\n      <td>0.0</td>\n      <td>5.0</td>\n      <td>0.0</td>\n    </tr>\n    <tr>\n      <th>...</th>\n      <td>...</td>\n      <td>...</td>\n      <td>...</td>\n      <td>...</td>\n    </tr>\n    <tr>\n      <th>1725313</th>\n      <td>2018-09-27 22:05:06</td>\n      <td>2.0</td>\n      <td>37.0</td>\n      <td>0.1</td>\n    </tr>\n    <tr>\n      <th>1732564</th>\n      <td>2018-09-28 15:32:22</td>\n      <td>1.0</td>\n      <td>37.0</td>\n      <td>0.0</td>\n    </tr>\n    <tr>\n      <th>1735365</th>\n      <td>2018-09-29 02:35:48</td>\n      <td>1.0</td>\n      <td>38.0</td>\n      <td>0.0</td>\n    </tr>\n    <tr>\n      <th>1739928</th>\n      <td>2018-09-29 12:09:13</td>\n      <td>0.0</td>\n      <td>38.0</td>\n      <td>0.0</td>\n    </tr>\n    <tr>\n      <th>1744475</th>\n      <td>2018-09-29 23:35:06</td>\n      <td>0.0</td>\n      <td>39.0</td>\n      <td>0.0</td>\n    </tr>\n  </tbody>\n</table>\n<p>165 rows × 4 columns</p>\n</div>"
     },
     "execution_count": 33,
     "metadata": {},
     "output_type": "execute_result"
    }
   ],
   "source": [
    "transactions_df[transactions_df['TERMINAL_ID'] == random_terminal_id][['TX_DATETIME', 'TERMINAL_ID_FRAUD_TXN_COUNT_30_DAY_WINDOW', 'TERMINAL_ID_TXN_COUNT_30_DAY_WINDOW', 'TERMINAL_ID_FRAUD_RISK_30_DAY_WINDOW']]"
   ],
   "metadata": {
    "collapsed": false
   }
  },
  {
   "cell_type": "markdown",
   "source": [
    "### Save features\n"
   ],
   "metadata": {
    "collapsed": false
   }
  },
  {
   "cell_type": "code",
   "execution_count": 34,
   "outputs": [],
   "source": [
    "# Saving as parquet makes it easier to pull a single column if needed.\n",
    "transactions_df.to_parquet('data/simulated/features.parquet')"
   ],
   "metadata": {
    "collapsed": false
   }
  },
  {
   "cell_type": "markdown",
   "source": [
    "# Learnings, comments and thoughts\n",
    "This feature engineering pipeline is ok for now, but in a real life scenario we'd make a function for to engineer each feature and put it into a pipeline.\n",
    "e.g.\n",
    "`see pseudo-code below`\n",
    "\n",
    "You would also do a lot more validation, logging, etc."
   ],
   "metadata": {
    "collapsed": false
   },
   "execution_count": 33
  },
  {
   "cell_type": "code",
   "execution_count": 35,
   "outputs": [],
   "source": [
    "def feature_eng_helper(data, feat_name, feat_eng_fn, validation_fn, dependencies, lineage_dict):\n",
    "    \"\"\"Helper function to build a single feature and validate the output\"\"\"\n",
    "    # Build feature\n",
    "    feature = feat_eng_fn(data[dependencies])\n",
    "    data[feat_name] = feature\n",
    "\n",
    "    # Validate new feature\n",
    "    validation_fn(data) # can stop or warn depending on issues found\n",
    "\n",
    "    # Update linage\n",
    "    lineage_dict[feat_name] = dependencies\n",
    "\n",
    "    return data, lineage_dict\n",
    "\n",
    "\n",
    "def feature_eng_pipeline(data):\n",
    "    \"\"\"Function to run the feature engineering pipeline for data passed in\"\"\"\n",
    "    lineage_dict = {} # initalise the lineage dictionary\n",
    "\n",
    "    data, lineage_dict = feature_eng_helper(data, 'TX_ON_WEEKEND', is_on_weekend, val_is_on_weekend, ['TX_DATETIME'], lineage_dict)\n",
    "    data, lineage_dict = feature_eng_helper(data, 'TX_AT_NIGHT', is_at_night, val_is_at_night, ['TX_DATETIME'], lineage_dict)\n",
    "\n",
    "    return data, lineage_dict"
   ],
   "metadata": {
    "collapsed": false
   }
  },
  {
   "cell_type": "markdown",
   "source": [
    "Even better we could create a feature engineer object that can contain the feature name, function, validation function and dependencies. Class would also include methods to log, etc."
   ],
   "metadata": {
    "collapsed": false
   }
  },
  {
   "cell_type": "code",
   "execution_count": 36,
   "outputs": [],
   "source": [
    "class FeatureEngineer:\n",
    "    def __init__(self, feat_name, feat_eng_fn, validation_fn, dependencies):\n",
    "        self.feat_name = feat_name\n",
    "        self.feat_eng_fn = feat_eng_fn\n",
    "        self.validation_fn = validation_fn\n",
    "        self.dependencies = dependencies\n",
    "\n",
    "    def build(self, data):\n",
    "        feature = self.feat_eng_fn(data[self.dependencies])\n",
    "        data[self.feat_name] = feature\n",
    "        return data\n",
    "\n",
    "    def validate(self, data):\n",
    "        self.validation_fn(data)"
   ],
   "metadata": {
    "collapsed": false
   }
  },
  {
   "cell_type": "code",
   "execution_count": 37,
   "outputs": [],
   "source": [
    "# f_weekend = FeatureEngineer(feat_name='TX_ON_WEEKEND',\n",
    "#                             feat_eng_fn=is_on_weekend,\n",
    "#                             validation_fn=val_is_on_weekend,\n",
    "#                             dependencies=['TX_DATETIME'])"
   ],
   "metadata": {
    "collapsed": false
   }
  },
  {
   "cell_type": "code",
   "execution_count": 38,
   "outputs": [],
   "source": [
    "# data = f_weekend.build(data)\n",
    "# f_weekend.validate(data)\n",
    "# Could create many then loop through sequentially (assuming no parallel is required)"
   ],
   "metadata": {
    "collapsed": false
   }
  }
 ],
 "metadata": {
  "kernelspec": {
   "display_name": "Python 3",
   "language": "python",
   "name": "python3"
  },
  "language_info": {
   "codemirror_mode": {
    "name": "ipython",
    "version": 2
   },
   "file_extension": ".py",
   "mimetype": "text/x-python",
   "name": "python",
   "nbconvert_exporter": "python",
   "pygments_lexer": "ipython2",
   "version": "2.7.6"
  }
 },
 "nbformat": 4,
 "nbformat_minor": 0
}
