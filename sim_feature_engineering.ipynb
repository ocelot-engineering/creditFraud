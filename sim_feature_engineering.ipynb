{
 "cells": [
  {
   "cell_type": "markdown",
   "source": [
    "# Feature engineering for the simulated dataset"
   ],
   "metadata": {
    "collapsed": false
   }
  },
  {
   "cell_type": "code",
   "execution_count": 1,
   "outputs": [],
   "source": [
    "import numpy as np\n",
    "import pandas as pd\n",
    "import random\n",
    "import seaborn as sns\n",
    "import matplotlib.pyplot as plt\n",
    "\n",
    "pd.options.display.float_format = \"{:.1f}\".format"
   ],
   "metadata": {
    "collapsed": false
   }
  },
  {
   "cell_type": "code",
   "execution_count": 2,
   "outputs": [],
   "source": [
    "from data.load_sim_data import load_all_sim_data\n",
    "transactions_df, customers_df, terminals_df = load_all_sim_data()"
   ],
   "metadata": {
    "collapsed": false
   }
  },
  {
   "cell_type": "code",
   "execution_count": 3,
   "outputs": [],
   "source": [
    "small_dataset = True\n",
    "START_DATE = \"2018-04-01\"\n",
    "END_DATE = \"2018-04-30\"\n",
    "transactions_df = transactions_df[transactions_df['TX_DATETIME'].between(START_DATE, END_DATE, inclusive='both')]"
   ],
   "metadata": {
    "collapsed": false
   }
  },
  {
   "cell_type": "code",
   "execution_count": 4,
   "outputs": [
    {
     "data": {
      "text/plain": "(278302, 10)"
     },
     "execution_count": 4,
     "metadata": {},
     "output_type": "execute_result"
    }
   ],
   "source": [
    "transactions_df.shape"
   ],
   "metadata": {
    "collapsed": false
   }
  },
  {
   "cell_type": "markdown",
   "source": [
    "## Baseline features\n",
    "The following features will be used to build the baseline model. With each model iteration more complex features can be added. But these baseline features can be deemed as the bare minimum."
   ],
   "metadata": {
    "collapsed": false
   }
  },
  {
   "cell_type": "markdown",
   "source": [
    "#### Weekend and weekday"
   ],
   "metadata": {
    "collapsed": false
   }
  },
  {
   "cell_type": "code",
   "execution_count": 5,
   "outputs": [],
   "source": [
    "def is_weekend(tx_datetime_series):\n",
    "    dow_is_weekend = tx_datetime_series.weekday() >= 5 # 0 Monday, 6 Sunday\n",
    "    return int(dow_is_weekend)"
   ],
   "metadata": {
    "collapsed": false
   }
  },
  {
   "cell_type": "code",
   "execution_count": 6,
   "outputs": [],
   "source": [
    "transactions_df['TX_ON_WEEKEND'] = transactions_df.TX_DATETIME.apply(is_weekend)"
   ],
   "metadata": {
    "collapsed": false
   }
  },
  {
   "cell_type": "code",
   "execution_count": 7,
   "outputs": [],
   "source": [
    "# quick checks\n",
    "# 1st April is a Sunday\n",
    "# 2nd April is a Monday\n",
    "# 14th April is a Saturday\n",
    "def check_weekend_flag(transactions_df, check_dates={'2018-04-01':1, '2018-04-02':0, '2018-04-14': 1}):\n",
    "    for check_date, expected_flag in check_dates.items():\n",
    "        flag_val = transactions_df[transactions_df['TX_DATE'] == check_date]['TX_ON_WEEKEND'].unique()\n",
    "        assert flag_val == expected_flag, \"Weekend flag not correct for: \" + str(check_date) + \". Expected \" + str(expected_flag) + \" but got \" + str(flag_val)\n",
    "    return None"
   ],
   "metadata": {
    "collapsed": false
   }
  },
  {
   "cell_type": "code",
   "execution_count": 8,
   "outputs": [
    {
     "data": {
      "text/plain": "            TX_ON_WEEKEND\nTX_DATE                  \n2018-04-01              1\n2018-04-02              0\n2018-04-03              0\n2018-04-04              0\n2018-04-05              0\n2018-04-06              0\n2018-04-07              1\n2018-04-08              1\n2018-04-09              0\n2018-04-10              0",
      "text/html": "<div>\n<style scoped>\n    .dataframe tbody tr th:only-of-type {\n        vertical-align: middle;\n    }\n\n    .dataframe tbody tr th {\n        vertical-align: top;\n    }\n\n    .dataframe thead th {\n        text-align: right;\n    }\n</style>\n<table border=\"1\" class=\"dataframe\">\n  <thead>\n    <tr style=\"text-align: right;\">\n      <th></th>\n      <th>TX_ON_WEEKEND</th>\n    </tr>\n    <tr>\n      <th>TX_DATE</th>\n      <th></th>\n    </tr>\n  </thead>\n  <tbody>\n    <tr>\n      <th>2018-04-01</th>\n      <td>1</td>\n    </tr>\n    <tr>\n      <th>2018-04-02</th>\n      <td>0</td>\n    </tr>\n    <tr>\n      <th>2018-04-03</th>\n      <td>0</td>\n    </tr>\n    <tr>\n      <th>2018-04-04</th>\n      <td>0</td>\n    </tr>\n    <tr>\n      <th>2018-04-05</th>\n      <td>0</td>\n    </tr>\n    <tr>\n      <th>2018-04-06</th>\n      <td>0</td>\n    </tr>\n    <tr>\n      <th>2018-04-07</th>\n      <td>1</td>\n    </tr>\n    <tr>\n      <th>2018-04-08</th>\n      <td>1</td>\n    </tr>\n    <tr>\n      <th>2018-04-09</th>\n      <td>0</td>\n    </tr>\n    <tr>\n      <th>2018-04-10</th>\n      <td>0</td>\n    </tr>\n  </tbody>\n</table>\n</div>"
     },
     "execution_count": 8,
     "metadata": {},
     "output_type": "execute_result"
    }
   ],
   "source": [
    "check_weekend_flag(transactions_df, check_dates={'2018-04-01':1, '2018-04-02':0, '2018-04-14': 1})\n",
    "transactions_df[['TX_DATE', 'TX_ON_WEEKEND']].groupby('TX_DATE').max('').head(10)"
   ],
   "metadata": {
    "collapsed": false
   }
  },
  {
   "cell_type": "markdown",
   "source": [
    "#### At night or day"
   ],
   "metadata": {
    "collapsed": false
   }
  },
  {
   "cell_type": "code",
   "execution_count": 9,
   "outputs": [],
   "source": [
    "def is_night(tx_datetime_series):\n",
    "    # between 12am and 6am we consider night\n",
    "    txn_at_night = tx_datetime_series.hour < 6\n",
    "    return int(txn_at_night)"
   ],
   "metadata": {
    "collapsed": false
   }
  },
  {
   "cell_type": "code",
   "execution_count": 10,
   "outputs": [],
   "source": [
    "transactions_df['TX_AT_NIGHT'] = transactions_df.TX_DATETIME.apply(is_night)"
   ],
   "metadata": {
    "collapsed": false
   }
  },
  {
   "cell_type": "code",
   "execution_count": 11,
   "outputs": [
    {
     "data": {
      "text/plain": "               TX_DATETIME  TX_ON_WEEKEND  TX_AT_NIGHT\n263800 2018-04-28 11:57:34              1            0\n221018 2018-04-24 02:31:49              0            1\n30264  2018-04-04 06:33:29              0            0",
      "text/html": "<div>\n<style scoped>\n    .dataframe tbody tr th:only-of-type {\n        vertical-align: middle;\n    }\n\n    .dataframe tbody tr th {\n        vertical-align: top;\n    }\n\n    .dataframe thead th {\n        text-align: right;\n    }\n</style>\n<table border=\"1\" class=\"dataframe\">\n  <thead>\n    <tr style=\"text-align: right;\">\n      <th></th>\n      <th>TX_DATETIME</th>\n      <th>TX_ON_WEEKEND</th>\n      <th>TX_AT_NIGHT</th>\n    </tr>\n  </thead>\n  <tbody>\n    <tr>\n      <th>263800</th>\n      <td>2018-04-28 11:57:34</td>\n      <td>1</td>\n      <td>0</td>\n    </tr>\n    <tr>\n      <th>221018</th>\n      <td>2018-04-24 02:31:49</td>\n      <td>0</td>\n      <td>1</td>\n    </tr>\n    <tr>\n      <th>30264</th>\n      <td>2018-04-04 06:33:29</td>\n      <td>0</td>\n      <td>0</td>\n    </tr>\n  </tbody>\n</table>\n</div>"
     },
     "execution_count": 11,
     "metadata": {},
     "output_type": "execute_result"
    }
   ],
   "source": [
    "# Quick checks\n",
    "transactions_df.sample(3, random_state=12)[['TX_DATETIME','TX_ON_WEEKEND', 'TX_AT_NIGHT']]"
   ],
   "metadata": {
    "collapsed": false
   }
  },
  {
   "cell_type": "markdown",
   "source": [
    "### Customer features\n",
    "These features will be RFM - Recency, Frequency and Monetary value. These types of features are also commonly used in retail customer analytics."
   ],
   "metadata": {
    "collapsed": false
   }
  },
  {
   "cell_type": "code",
   "execution_count": 12,
   "outputs": [
    {
     "data": {
      "text/plain": "       TRANSACTION_ID         TX_DATETIME  CUSTOMER_ID  TERMINAL_ID  \\\n1758             1758 2018-04-01 07:19:05            0         6076   \n8275             8275 2018-04-01 18:00:16            0          858   \n8640             8640 2018-04-01 19:02:02            0         6698   \n12169           12169 2018-04-02 08:51:06            0         6569   \n15764           15764 2018-04-02 14:05:38            0         7707   \n\n       TX_AMOUNT  TX_TIME_SECONDS  TX_TIME_DAYS  TX_FRAUD  TX_FRAUD_SCENARIO  \\\n1758       123.6            26345             0         0                  0   \n8275        77.3            64816             0         0                  0   \n8640        46.5            68522             0         0                  0   \n12169       54.7           118266             1         0                  0   \n15764       63.3           137138             1         0                  0   \n\n         TX_DATE  TX_ON_WEEKEND  TX_AT_NIGHT  \n1758  2018-04-01              1            0  \n8275  2018-04-01              1            0  \n8640  2018-04-01              1            0  \n12169 2018-04-02              0            0  \n15764 2018-04-02              0            0  ",
      "text/html": "<div>\n<style scoped>\n    .dataframe tbody tr th:only-of-type {\n        vertical-align: middle;\n    }\n\n    .dataframe tbody tr th {\n        vertical-align: top;\n    }\n\n    .dataframe thead th {\n        text-align: right;\n    }\n</style>\n<table border=\"1\" class=\"dataframe\">\n  <thead>\n    <tr style=\"text-align: right;\">\n      <th></th>\n      <th>TRANSACTION_ID</th>\n      <th>TX_DATETIME</th>\n      <th>CUSTOMER_ID</th>\n      <th>TERMINAL_ID</th>\n      <th>TX_AMOUNT</th>\n      <th>TX_TIME_SECONDS</th>\n      <th>TX_TIME_DAYS</th>\n      <th>TX_FRAUD</th>\n      <th>TX_FRAUD_SCENARIO</th>\n      <th>TX_DATE</th>\n      <th>TX_ON_WEEKEND</th>\n      <th>TX_AT_NIGHT</th>\n    </tr>\n  </thead>\n  <tbody>\n    <tr>\n      <th>1758</th>\n      <td>1758</td>\n      <td>2018-04-01 07:19:05</td>\n      <td>0</td>\n      <td>6076</td>\n      <td>123.6</td>\n      <td>26345</td>\n      <td>0</td>\n      <td>0</td>\n      <td>0</td>\n      <td>2018-04-01</td>\n      <td>1</td>\n      <td>0</td>\n    </tr>\n    <tr>\n      <th>8275</th>\n      <td>8275</td>\n      <td>2018-04-01 18:00:16</td>\n      <td>0</td>\n      <td>858</td>\n      <td>77.3</td>\n      <td>64816</td>\n      <td>0</td>\n      <td>0</td>\n      <td>0</td>\n      <td>2018-04-01</td>\n      <td>1</td>\n      <td>0</td>\n    </tr>\n    <tr>\n      <th>8640</th>\n      <td>8640</td>\n      <td>2018-04-01 19:02:02</td>\n      <td>0</td>\n      <td>6698</td>\n      <td>46.5</td>\n      <td>68522</td>\n      <td>0</td>\n      <td>0</td>\n      <td>0</td>\n      <td>2018-04-01</td>\n      <td>1</td>\n      <td>0</td>\n    </tr>\n    <tr>\n      <th>12169</th>\n      <td>12169</td>\n      <td>2018-04-02 08:51:06</td>\n      <td>0</td>\n      <td>6569</td>\n      <td>54.7</td>\n      <td>118266</td>\n      <td>1</td>\n      <td>0</td>\n      <td>0</td>\n      <td>2018-04-02</td>\n      <td>0</td>\n      <td>0</td>\n    </tr>\n    <tr>\n      <th>15764</th>\n      <td>15764</td>\n      <td>2018-04-02 14:05:38</td>\n      <td>0</td>\n      <td>7707</td>\n      <td>63.3</td>\n      <td>137138</td>\n      <td>1</td>\n      <td>0</td>\n      <td>0</td>\n      <td>2018-04-02</td>\n      <td>0</td>\n      <td>0</td>\n    </tr>\n  </tbody>\n</table>\n</div>"
     },
     "execution_count": 12,
     "metadata": {},
     "output_type": "execute_result"
    }
   ],
   "source": [
    "# Start by building for 1 customer\n",
    "customer_txns = transactions_df[transactions_df['CUSTOMER_ID'] == 0]\n",
    "customer_txns.head()"
   ],
   "metadata": {
    "collapsed": false
   }
  },
  {
   "cell_type": "code",
   "execution_count": 13,
   "outputs": [],
   "source": [
    "def generate_customer_rfm(customer_txns, window_sizes=(1, 7, 30)):\n",
    "    customer_txns = customer_txns.sort_values(\"TX_DATETIME\")\n",
    "    customer_txns.index = customer_txns.TX_DATETIME # allows us to use rolling functions\n",
    "\n",
    "    # Window features such as transaction sum amount, average amount and count\n",
    "    for window in window_sizes:\n",
    "        SUB_TX_AMOUNT = customer_txns['TX_AMOUNT'].rolling(str(window) + 'd').sum()\n",
    "        SUB_TX_COUNT = customer_txns['TX_AMOUNT'].rolling(str(window) + 'd').count()\n",
    "        SUB_TX_AVG_AMOUNT = SUB_TX_AMOUNT/SUB_TX_COUNT # note that average at start of the data is missing past days so would only have a few days of data.\n",
    "\n",
    "        customer_txns['CUSTOMER_ID_' + str(window) + '_DAY_WINDOW_SUM_AMOUNT'] = SUB_TX_AMOUNT\n",
    "        customer_txns['CUSTOMER_ID_' + str(window) + '_DAY_WINDOW_COUNT'] = SUB_TX_COUNT\n",
    "        customer_txns['CUSTOMER_ID_' + str(window) + '_DAY_WINDOW_AVG_AMOUNT'] = SUB_TX_AVG_AMOUNT\n",
    "\n",
    "    # Recency feature\n",
    "    customer_txns['CUSTOMER_ID_DAYS_SINCE_LAST_TXN'] = customer_txns['TX_DATETIME'].diff().dt.days.fillna(0).astype(int)\n",
    "\n",
    "    # drop index according\n",
    "    customer_txns.reset_index(drop=True, inplace=True)\n",
    "\n",
    "    return customer_txns"
   ],
   "metadata": {
    "collapsed": false
   }
  },
  {
   "cell_type": "code",
   "execution_count": 14,
   "outputs": [
    {
     "data": {
      "text/plain": "   TRANSACTION_ID         TX_DATETIME  CUSTOMER_ID  TERMINAL_ID  TX_AMOUNT  \\\n0            1758 2018-04-01 07:19:05            0         6076      123.6   \n1            8275 2018-04-01 18:00:16            0          858       77.3   \n2            8640 2018-04-01 19:02:02            0         6698       46.5   \n3           12169 2018-04-02 08:51:06            0         6569       54.7   \n4           15764 2018-04-02 14:05:38            0         7707       63.3   \n\n   TX_TIME_SECONDS  TX_TIME_DAYS  TX_FRAUD  TX_FRAUD_SCENARIO    TX_DATE  ...  \\\n0            26345             0         0                  0 2018-04-01  ...   \n1            64816             0         0                  0 2018-04-01  ...   \n2            68522             0         0                  0 2018-04-01  ...   \n3           118266             1         0                  0 2018-04-02  ...   \n4           137138             1         0                  0 2018-04-02  ...   \n\n   CUSTOMER_ID_1_DAY_WINDOW_SUM_AMOUNT  CUSTOMER_ID_1_DAY_WINDOW_COUNT  \\\n0                                123.6                             1.0   \n1                                200.9                             2.0   \n2                                247.4                             3.0   \n3                                178.6                             3.0   \n4                                241.9                             4.0   \n\n   CUSTOMER_ID_1_DAY_WINDOW_AVG_AMOUNT  CUSTOMER_ID_7_DAY_WINDOW_SUM_AMOUNT  \\\n0                                123.6                                123.6   \n1                                100.5                                200.9   \n2                                 82.5                                247.4   \n3                                 59.5                                302.2   \n4                                 60.5                                365.5   \n\n   CUSTOMER_ID_7_DAY_WINDOW_COUNT  CUSTOMER_ID_7_DAY_WINDOW_AVG_AMOUNT  \\\n0                             1.0                                123.6   \n1                             2.0                                100.5   \n2                             3.0                                 82.5   \n3                             4.0                                 75.5   \n4                             5.0                                 73.1   \n\n   CUSTOMER_ID_30_DAY_WINDOW_SUM_AMOUNT  CUSTOMER_ID_30_DAY_WINDOW_COUNT  \\\n0                                 123.6                              1.0   \n1                                 200.9                              2.0   \n2                                 247.4                              3.0   \n3                                 302.2                              4.0   \n4                                 365.5                              5.0   \n\n   CUSTOMER_ID_30_DAY_WINDOW_AVG_AMOUNT  CUSTOMER_ID_DAYS_SINCE_LAST_TXN  \n0                                 123.6                                0  \n1                                 100.5                                0  \n2                                  82.5                                0  \n3                                  75.5                                0  \n4                                  73.1                                0  \n\n[5 rows x 22 columns]",
      "text/html": "<div>\n<style scoped>\n    .dataframe tbody tr th:only-of-type {\n        vertical-align: middle;\n    }\n\n    .dataframe tbody tr th {\n        vertical-align: top;\n    }\n\n    .dataframe thead th {\n        text-align: right;\n    }\n</style>\n<table border=\"1\" class=\"dataframe\">\n  <thead>\n    <tr style=\"text-align: right;\">\n      <th></th>\n      <th>TRANSACTION_ID</th>\n      <th>TX_DATETIME</th>\n      <th>CUSTOMER_ID</th>\n      <th>TERMINAL_ID</th>\n      <th>TX_AMOUNT</th>\n      <th>TX_TIME_SECONDS</th>\n      <th>TX_TIME_DAYS</th>\n      <th>TX_FRAUD</th>\n      <th>TX_FRAUD_SCENARIO</th>\n      <th>TX_DATE</th>\n      <th>...</th>\n      <th>CUSTOMER_ID_1_DAY_WINDOW_SUM_AMOUNT</th>\n      <th>CUSTOMER_ID_1_DAY_WINDOW_COUNT</th>\n      <th>CUSTOMER_ID_1_DAY_WINDOW_AVG_AMOUNT</th>\n      <th>CUSTOMER_ID_7_DAY_WINDOW_SUM_AMOUNT</th>\n      <th>CUSTOMER_ID_7_DAY_WINDOW_COUNT</th>\n      <th>CUSTOMER_ID_7_DAY_WINDOW_AVG_AMOUNT</th>\n      <th>CUSTOMER_ID_30_DAY_WINDOW_SUM_AMOUNT</th>\n      <th>CUSTOMER_ID_30_DAY_WINDOW_COUNT</th>\n      <th>CUSTOMER_ID_30_DAY_WINDOW_AVG_AMOUNT</th>\n      <th>CUSTOMER_ID_DAYS_SINCE_LAST_TXN</th>\n    </tr>\n  </thead>\n  <tbody>\n    <tr>\n      <th>0</th>\n      <td>1758</td>\n      <td>2018-04-01 07:19:05</td>\n      <td>0</td>\n      <td>6076</td>\n      <td>123.6</td>\n      <td>26345</td>\n      <td>0</td>\n      <td>0</td>\n      <td>0</td>\n      <td>2018-04-01</td>\n      <td>...</td>\n      <td>123.6</td>\n      <td>1.0</td>\n      <td>123.6</td>\n      <td>123.6</td>\n      <td>1.0</td>\n      <td>123.6</td>\n      <td>123.6</td>\n      <td>1.0</td>\n      <td>123.6</td>\n      <td>0</td>\n    </tr>\n    <tr>\n      <th>1</th>\n      <td>8275</td>\n      <td>2018-04-01 18:00:16</td>\n      <td>0</td>\n      <td>858</td>\n      <td>77.3</td>\n      <td>64816</td>\n      <td>0</td>\n      <td>0</td>\n      <td>0</td>\n      <td>2018-04-01</td>\n      <td>...</td>\n      <td>200.9</td>\n      <td>2.0</td>\n      <td>100.5</td>\n      <td>200.9</td>\n      <td>2.0</td>\n      <td>100.5</td>\n      <td>200.9</td>\n      <td>2.0</td>\n      <td>100.5</td>\n      <td>0</td>\n    </tr>\n    <tr>\n      <th>2</th>\n      <td>8640</td>\n      <td>2018-04-01 19:02:02</td>\n      <td>0</td>\n      <td>6698</td>\n      <td>46.5</td>\n      <td>68522</td>\n      <td>0</td>\n      <td>0</td>\n      <td>0</td>\n      <td>2018-04-01</td>\n      <td>...</td>\n      <td>247.4</td>\n      <td>3.0</td>\n      <td>82.5</td>\n      <td>247.4</td>\n      <td>3.0</td>\n      <td>82.5</td>\n      <td>247.4</td>\n      <td>3.0</td>\n      <td>82.5</td>\n      <td>0</td>\n    </tr>\n    <tr>\n      <th>3</th>\n      <td>12169</td>\n      <td>2018-04-02 08:51:06</td>\n      <td>0</td>\n      <td>6569</td>\n      <td>54.7</td>\n      <td>118266</td>\n      <td>1</td>\n      <td>0</td>\n      <td>0</td>\n      <td>2018-04-02</td>\n      <td>...</td>\n      <td>178.6</td>\n      <td>3.0</td>\n      <td>59.5</td>\n      <td>302.2</td>\n      <td>4.0</td>\n      <td>75.5</td>\n      <td>302.2</td>\n      <td>4.0</td>\n      <td>75.5</td>\n      <td>0</td>\n    </tr>\n    <tr>\n      <th>4</th>\n      <td>15764</td>\n      <td>2018-04-02 14:05:38</td>\n      <td>0</td>\n      <td>7707</td>\n      <td>63.3</td>\n      <td>137138</td>\n      <td>1</td>\n      <td>0</td>\n      <td>0</td>\n      <td>2018-04-02</td>\n      <td>...</td>\n      <td>241.9</td>\n      <td>4.0</td>\n      <td>60.5</td>\n      <td>365.5</td>\n      <td>5.0</td>\n      <td>73.1</td>\n      <td>365.5</td>\n      <td>5.0</td>\n      <td>73.1</td>\n      <td>0</td>\n    </tr>\n  </tbody>\n</table>\n<p>5 rows × 22 columns</p>\n</div>"
     },
     "execution_count": 14,
     "metadata": {},
     "output_type": "execute_result"
    }
   ],
   "source": [
    "customer_txns_with_rfm = generate_customer_rfm(customer_txns)\n",
    "customer_txns_with_rfm.head()"
   ],
   "metadata": {
    "collapsed": false
   }
  },
  {
   "cell_type": "code",
   "execution_count": 15,
   "outputs": [],
   "source": [
    "transactions_df = transactions_df.groupby('CUSTOMER_ID').apply(generate_customer_rfm)"
   ],
   "metadata": {
    "collapsed": false
   }
  },
  {
   "cell_type": "code",
   "execution_count": 16,
   "outputs": [],
   "source": [
    "transactions_df = transactions_df.sort_values('TX_DATETIME').reset_index(drop=True)\n",
    "transactions_df.index = transactions_df['TRANSACTION_ID']"
   ],
   "metadata": {
    "collapsed": false
   }
  },
  {
   "cell_type": "code",
   "execution_count": 17,
   "outputs": [
    {
     "data": {
      "text/plain": "                TRANSACTION_ID         TX_DATETIME  CUSTOMER_ID  TERMINAL_ID  \\\nTRANSACTION_ID                                                                 \n0                            0 2018-04-01 00:00:31          596         3156   \n1                            1 2018-04-01 00:02:10         4961         3412   \n2                            2 2018-04-01 00:07:56            2         1365   \n3                            3 2018-04-01 00:09:29         4128         8737   \n4                            4 2018-04-01 00:10:34          927         9906   \n\n                TX_AMOUNT  TX_TIME_SECONDS  TX_TIME_DAYS  TX_FRAUD  \\\nTRANSACTION_ID                                                       \n0                    57.2               31             0         0   \n1                    81.5              130             0         0   \n2                   146.0              476             0         0   \n3                    64.5              569             0         0   \n4                    51.0              634             0         0   \n\n                TX_FRAUD_SCENARIO    TX_DATE  ...  \\\nTRANSACTION_ID                                ...   \n0                               0 2018-04-01  ...   \n1                               0 2018-04-01  ...   \n2                               0 2018-04-01  ...   \n3                               0 2018-04-01  ...   \n4                               0 2018-04-01  ...   \n\n                CUSTOMER_ID_1_DAY_WINDOW_SUM_AMOUNT  \\\nTRANSACTION_ID                                        \n0                                              57.2   \n1                                              81.5   \n2                                             146.0   \n3                                              64.5   \n4                                              51.0   \n\n                CUSTOMER_ID_1_DAY_WINDOW_COUNT  \\\nTRANSACTION_ID                                   \n0                                          1.0   \n1                                          1.0   \n2                                          1.0   \n3                                          1.0   \n4                                          1.0   \n\n                CUSTOMER_ID_1_DAY_WINDOW_AVG_AMOUNT  \\\nTRANSACTION_ID                                        \n0                                              57.2   \n1                                              81.5   \n2                                             146.0   \n3                                              64.5   \n4                                              51.0   \n\n                CUSTOMER_ID_7_DAY_WINDOW_SUM_AMOUNT  \\\nTRANSACTION_ID                                        \n0                                              57.2   \n1                                              81.5   \n2                                             146.0   \n3                                              64.5   \n4                                              51.0   \n\n                CUSTOMER_ID_7_DAY_WINDOW_COUNT  \\\nTRANSACTION_ID                                   \n0                                          1.0   \n1                                          1.0   \n2                                          1.0   \n3                                          1.0   \n4                                          1.0   \n\n                CUSTOMER_ID_7_DAY_WINDOW_AVG_AMOUNT  \\\nTRANSACTION_ID                                        \n0                                              57.2   \n1                                              81.5   \n2                                             146.0   \n3                                              64.5   \n4                                              51.0   \n\n                CUSTOMER_ID_30_DAY_WINDOW_SUM_AMOUNT  \\\nTRANSACTION_ID                                         \n0                                               57.2   \n1                                               81.5   \n2                                              146.0   \n3                                               64.5   \n4                                               51.0   \n\n                CUSTOMER_ID_30_DAY_WINDOW_COUNT  \\\nTRANSACTION_ID                                    \n0                                           1.0   \n1                                           1.0   \n2                                           1.0   \n3                                           1.0   \n4                                           1.0   \n\n                CUSTOMER_ID_30_DAY_WINDOW_AVG_AMOUNT  \\\nTRANSACTION_ID                                         \n0                                               57.2   \n1                                               81.5   \n2                                              146.0   \n3                                               64.5   \n4                                               51.0   \n\n                CUSTOMER_ID_DAYS_SINCE_LAST_TXN  \nTRANSACTION_ID                                   \n0                                             0  \n1                                             0  \n2                                             0  \n3                                             0  \n4                                             0  \n\n[5 rows x 22 columns]",
      "text/html": "<div>\n<style scoped>\n    .dataframe tbody tr th:only-of-type {\n        vertical-align: middle;\n    }\n\n    .dataframe tbody tr th {\n        vertical-align: top;\n    }\n\n    .dataframe thead th {\n        text-align: right;\n    }\n</style>\n<table border=\"1\" class=\"dataframe\">\n  <thead>\n    <tr style=\"text-align: right;\">\n      <th></th>\n      <th>TRANSACTION_ID</th>\n      <th>TX_DATETIME</th>\n      <th>CUSTOMER_ID</th>\n      <th>TERMINAL_ID</th>\n      <th>TX_AMOUNT</th>\n      <th>TX_TIME_SECONDS</th>\n      <th>TX_TIME_DAYS</th>\n      <th>TX_FRAUD</th>\n      <th>TX_FRAUD_SCENARIO</th>\n      <th>TX_DATE</th>\n      <th>...</th>\n      <th>CUSTOMER_ID_1_DAY_WINDOW_SUM_AMOUNT</th>\n      <th>CUSTOMER_ID_1_DAY_WINDOW_COUNT</th>\n      <th>CUSTOMER_ID_1_DAY_WINDOW_AVG_AMOUNT</th>\n      <th>CUSTOMER_ID_7_DAY_WINDOW_SUM_AMOUNT</th>\n      <th>CUSTOMER_ID_7_DAY_WINDOW_COUNT</th>\n      <th>CUSTOMER_ID_7_DAY_WINDOW_AVG_AMOUNT</th>\n      <th>CUSTOMER_ID_30_DAY_WINDOW_SUM_AMOUNT</th>\n      <th>CUSTOMER_ID_30_DAY_WINDOW_COUNT</th>\n      <th>CUSTOMER_ID_30_DAY_WINDOW_AVG_AMOUNT</th>\n      <th>CUSTOMER_ID_DAYS_SINCE_LAST_TXN</th>\n    </tr>\n    <tr>\n      <th>TRANSACTION_ID</th>\n      <th></th>\n      <th></th>\n      <th></th>\n      <th></th>\n      <th></th>\n      <th></th>\n      <th></th>\n      <th></th>\n      <th></th>\n      <th></th>\n      <th></th>\n      <th></th>\n      <th></th>\n      <th></th>\n      <th></th>\n      <th></th>\n      <th></th>\n      <th></th>\n      <th></th>\n      <th></th>\n      <th></th>\n    </tr>\n  </thead>\n  <tbody>\n    <tr>\n      <th>0</th>\n      <td>0</td>\n      <td>2018-04-01 00:00:31</td>\n      <td>596</td>\n      <td>3156</td>\n      <td>57.2</td>\n      <td>31</td>\n      <td>0</td>\n      <td>0</td>\n      <td>0</td>\n      <td>2018-04-01</td>\n      <td>...</td>\n      <td>57.2</td>\n      <td>1.0</td>\n      <td>57.2</td>\n      <td>57.2</td>\n      <td>1.0</td>\n      <td>57.2</td>\n      <td>57.2</td>\n      <td>1.0</td>\n      <td>57.2</td>\n      <td>0</td>\n    </tr>\n    <tr>\n      <th>1</th>\n      <td>1</td>\n      <td>2018-04-01 00:02:10</td>\n      <td>4961</td>\n      <td>3412</td>\n      <td>81.5</td>\n      <td>130</td>\n      <td>0</td>\n      <td>0</td>\n      <td>0</td>\n      <td>2018-04-01</td>\n      <td>...</td>\n      <td>81.5</td>\n      <td>1.0</td>\n      <td>81.5</td>\n      <td>81.5</td>\n      <td>1.0</td>\n      <td>81.5</td>\n      <td>81.5</td>\n      <td>1.0</td>\n      <td>81.5</td>\n      <td>0</td>\n    </tr>\n    <tr>\n      <th>2</th>\n      <td>2</td>\n      <td>2018-04-01 00:07:56</td>\n      <td>2</td>\n      <td>1365</td>\n      <td>146.0</td>\n      <td>476</td>\n      <td>0</td>\n      <td>0</td>\n      <td>0</td>\n      <td>2018-04-01</td>\n      <td>...</td>\n      <td>146.0</td>\n      <td>1.0</td>\n      <td>146.0</td>\n      <td>146.0</td>\n      <td>1.0</td>\n      <td>146.0</td>\n      <td>146.0</td>\n      <td>1.0</td>\n      <td>146.0</td>\n      <td>0</td>\n    </tr>\n    <tr>\n      <th>3</th>\n      <td>3</td>\n      <td>2018-04-01 00:09:29</td>\n      <td>4128</td>\n      <td>8737</td>\n      <td>64.5</td>\n      <td>569</td>\n      <td>0</td>\n      <td>0</td>\n      <td>0</td>\n      <td>2018-04-01</td>\n      <td>...</td>\n      <td>64.5</td>\n      <td>1.0</td>\n      <td>64.5</td>\n      <td>64.5</td>\n      <td>1.0</td>\n      <td>64.5</td>\n      <td>64.5</td>\n      <td>1.0</td>\n      <td>64.5</td>\n      <td>0</td>\n    </tr>\n    <tr>\n      <th>4</th>\n      <td>4</td>\n      <td>2018-04-01 00:10:34</td>\n      <td>927</td>\n      <td>9906</td>\n      <td>51.0</td>\n      <td>634</td>\n      <td>0</td>\n      <td>0</td>\n      <td>0</td>\n      <td>2018-04-01</td>\n      <td>...</td>\n      <td>51.0</td>\n      <td>1.0</td>\n      <td>51.0</td>\n      <td>51.0</td>\n      <td>1.0</td>\n      <td>51.0</td>\n      <td>51.0</td>\n      <td>1.0</td>\n      <td>51.0</td>\n      <td>0</td>\n    </tr>\n  </tbody>\n</table>\n<p>5 rows × 22 columns</p>\n</div>"
     },
     "execution_count": 17,
     "metadata": {},
     "output_type": "execute_result"
    }
   ],
   "source": [
    "transactions_df.head()"
   ],
   "metadata": {
    "collapsed": false
   }
  },
  {
   "cell_type": "code",
   "execution_count": 18,
   "outputs": [
    {
     "data": {
      "text/plain": "4544"
     },
     "execution_count": 18,
     "metadata": {},
     "output_type": "execute_result"
    }
   ],
   "source": [
    "# Quick check - using human eyes, and stopping short of recalculating the cols\n",
    "random_cust_id = transactions_df['CUSTOMER_ID'].sample(1, random_state=11).values[0]\n",
    "random_cust_id"
   ],
   "metadata": {
    "collapsed": false
   }
  },
  {
   "cell_type": "code",
   "execution_count": 19,
   "outputs": [
    {
     "data": {
      "text/plain": "                  TX_DATE  CUSTOMER_ID_1_DAY_WINDOW_COUNT  \\\nTRANSACTION_ID                                              \n4266           2018-04-01                             1.0   \n6823           2018-04-01                             2.0   \n10811          2018-04-02                             3.0   \n11920          2018-04-02                             4.0   \n15187          2018-04-02                             4.0   \n...                   ...                             ...   \n262052         2018-04-28                             6.0   \n263957         2018-04-28                             7.0   \n274536         2018-04-29                             1.0   \n274689         2018-04-29                             2.0   \n276267         2018-04-29                             3.0   \n\n                CUSTOMER_ID_1_DAY_WINDOW_SUM_AMOUNT  \\\nTRANSACTION_ID                                        \n4266                                           17.1   \n6823                                           23.8   \n10811                                          55.9   \n11920                                         101.4   \n15187                                         139.4   \n...                                             ...   \n262052                                        174.5   \n263957                                        209.7   \n274536                                         43.3   \n274689                                         74.2   \n276267                                        107.1   \n\n                CUSTOMER_ID_1_DAY_WINDOW_AVG_AMOUNT  \nTRANSACTION_ID                                       \n4266                                           17.1  \n6823                                           11.9  \n10811                                          18.6  \n11920                                          25.3  \n15187                                          34.9  \n...                                             ...  \n262052                                         29.1  \n263957                                         30.0  \n274536                                         43.3  \n274689                                         37.1  \n276267                                         35.7  \n\n[68 rows x 4 columns]",
      "text/html": "<div>\n<style scoped>\n    .dataframe tbody tr th:only-of-type {\n        vertical-align: middle;\n    }\n\n    .dataframe tbody tr th {\n        vertical-align: top;\n    }\n\n    .dataframe thead th {\n        text-align: right;\n    }\n</style>\n<table border=\"1\" class=\"dataframe\">\n  <thead>\n    <tr style=\"text-align: right;\">\n      <th></th>\n      <th>TX_DATE</th>\n      <th>CUSTOMER_ID_1_DAY_WINDOW_COUNT</th>\n      <th>CUSTOMER_ID_1_DAY_WINDOW_SUM_AMOUNT</th>\n      <th>CUSTOMER_ID_1_DAY_WINDOW_AVG_AMOUNT</th>\n    </tr>\n    <tr>\n      <th>TRANSACTION_ID</th>\n      <th></th>\n      <th></th>\n      <th></th>\n      <th></th>\n    </tr>\n  </thead>\n  <tbody>\n    <tr>\n      <th>4266</th>\n      <td>2018-04-01</td>\n      <td>1.0</td>\n      <td>17.1</td>\n      <td>17.1</td>\n    </tr>\n    <tr>\n      <th>6823</th>\n      <td>2018-04-01</td>\n      <td>2.0</td>\n      <td>23.8</td>\n      <td>11.9</td>\n    </tr>\n    <tr>\n      <th>10811</th>\n      <td>2018-04-02</td>\n      <td>3.0</td>\n      <td>55.9</td>\n      <td>18.6</td>\n    </tr>\n    <tr>\n      <th>11920</th>\n      <td>2018-04-02</td>\n      <td>4.0</td>\n      <td>101.4</td>\n      <td>25.3</td>\n    </tr>\n    <tr>\n      <th>15187</th>\n      <td>2018-04-02</td>\n      <td>4.0</td>\n      <td>139.4</td>\n      <td>34.9</td>\n    </tr>\n    <tr>\n      <th>...</th>\n      <td>...</td>\n      <td>...</td>\n      <td>...</td>\n      <td>...</td>\n    </tr>\n    <tr>\n      <th>262052</th>\n      <td>2018-04-28</td>\n      <td>6.0</td>\n      <td>174.5</td>\n      <td>29.1</td>\n    </tr>\n    <tr>\n      <th>263957</th>\n      <td>2018-04-28</td>\n      <td>7.0</td>\n      <td>209.7</td>\n      <td>30.0</td>\n    </tr>\n    <tr>\n      <th>274536</th>\n      <td>2018-04-29</td>\n      <td>1.0</td>\n      <td>43.3</td>\n      <td>43.3</td>\n    </tr>\n    <tr>\n      <th>274689</th>\n      <td>2018-04-29</td>\n      <td>2.0</td>\n      <td>74.2</td>\n      <td>37.1</td>\n    </tr>\n    <tr>\n      <th>276267</th>\n      <td>2018-04-29</td>\n      <td>3.0</td>\n      <td>107.1</td>\n      <td>35.7</td>\n    </tr>\n  </tbody>\n</table>\n<p>68 rows × 4 columns</p>\n</div>"
     },
     "execution_count": 19,
     "metadata": {},
     "output_type": "execute_result"
    }
   ],
   "source": [
    "transactions_df[transactions_df['CUSTOMER_ID'] == random_cust_id][['TX_DATE', 'CUSTOMER_ID_1_DAY_WINDOW_COUNT', 'CUSTOMER_ID_1_DAY_WINDOW_SUM_AMOUNT', 'CUSTOMER_ID_1_DAY_WINDOW_AVG_AMOUNT']]"
   ],
   "metadata": {
    "collapsed": false
   }
  },
  {
   "cell_type": "code",
   "execution_count": 20,
   "outputs": [
    {
     "data": {
      "text/plain": "                  TX_DATE  CUSTOMER_ID_7_DAY_WINDOW_COUNT  \\\nTRANSACTION_ID                                              \n4266           2018-04-01                             1.0   \n6823           2018-04-01                             2.0   \n10811          2018-04-02                             3.0   \n11920          2018-04-02                             4.0   \n15187          2018-04-02                             5.0   \n...                   ...                             ...   \n262052         2018-04-28                            19.0   \n263957         2018-04-28                            20.0   \n274536         2018-04-29                            18.0   \n274689         2018-04-29                            19.0   \n276267         2018-04-29                            19.0   \n\n                CUSTOMER_ID_7_DAY_WINDOW_SUM_AMOUNT  \\\nTRANSACTION_ID                                        \n4266                                           17.1   \n6823                                           23.8   \n10811                                          55.9   \n11920                                         101.4   \n15187                                         156.5   \n...                                             ...   \n262052                                        474.2   \n263957                                        509.3   \n274536                                        480.3   \n274689                                        511.2   \n276267                                        513.6   \n\n                CUSTOMER_ID_7_DAY_WINDOW_AVG_AMOUNT  \nTRANSACTION_ID                                       \n4266                                           17.1  \n6823                                           11.9  \n10811                                          18.6  \n11920                                          25.3  \n15187                                          31.3  \n...                                             ...  \n262052                                         25.0  \n263957                                         25.5  \n274536                                         26.7  \n274689                                         26.9  \n276267                                         27.0  \n\n[68 rows x 4 columns]",
      "text/html": "<div>\n<style scoped>\n    .dataframe tbody tr th:only-of-type {\n        vertical-align: middle;\n    }\n\n    .dataframe tbody tr th {\n        vertical-align: top;\n    }\n\n    .dataframe thead th {\n        text-align: right;\n    }\n</style>\n<table border=\"1\" class=\"dataframe\">\n  <thead>\n    <tr style=\"text-align: right;\">\n      <th></th>\n      <th>TX_DATE</th>\n      <th>CUSTOMER_ID_7_DAY_WINDOW_COUNT</th>\n      <th>CUSTOMER_ID_7_DAY_WINDOW_SUM_AMOUNT</th>\n      <th>CUSTOMER_ID_7_DAY_WINDOW_AVG_AMOUNT</th>\n    </tr>\n    <tr>\n      <th>TRANSACTION_ID</th>\n      <th></th>\n      <th></th>\n      <th></th>\n      <th></th>\n    </tr>\n  </thead>\n  <tbody>\n    <tr>\n      <th>4266</th>\n      <td>2018-04-01</td>\n      <td>1.0</td>\n      <td>17.1</td>\n      <td>17.1</td>\n    </tr>\n    <tr>\n      <th>6823</th>\n      <td>2018-04-01</td>\n      <td>2.0</td>\n      <td>23.8</td>\n      <td>11.9</td>\n    </tr>\n    <tr>\n      <th>10811</th>\n      <td>2018-04-02</td>\n      <td>3.0</td>\n      <td>55.9</td>\n      <td>18.6</td>\n    </tr>\n    <tr>\n      <th>11920</th>\n      <td>2018-04-02</td>\n      <td>4.0</td>\n      <td>101.4</td>\n      <td>25.3</td>\n    </tr>\n    <tr>\n      <th>15187</th>\n      <td>2018-04-02</td>\n      <td>5.0</td>\n      <td>156.5</td>\n      <td>31.3</td>\n    </tr>\n    <tr>\n      <th>...</th>\n      <td>...</td>\n      <td>...</td>\n      <td>...</td>\n      <td>...</td>\n    </tr>\n    <tr>\n      <th>262052</th>\n      <td>2018-04-28</td>\n      <td>19.0</td>\n      <td>474.2</td>\n      <td>25.0</td>\n    </tr>\n    <tr>\n      <th>263957</th>\n      <td>2018-04-28</td>\n      <td>20.0</td>\n      <td>509.3</td>\n      <td>25.5</td>\n    </tr>\n    <tr>\n      <th>274536</th>\n      <td>2018-04-29</td>\n      <td>18.0</td>\n      <td>480.3</td>\n      <td>26.7</td>\n    </tr>\n    <tr>\n      <th>274689</th>\n      <td>2018-04-29</td>\n      <td>19.0</td>\n      <td>511.2</td>\n      <td>26.9</td>\n    </tr>\n    <tr>\n      <th>276267</th>\n      <td>2018-04-29</td>\n      <td>19.0</td>\n      <td>513.6</td>\n      <td>27.0</td>\n    </tr>\n  </tbody>\n</table>\n<p>68 rows × 4 columns</p>\n</div>"
     },
     "execution_count": 20,
     "metadata": {},
     "output_type": "execute_result"
    }
   ],
   "source": [
    "transactions_df[transactions_df['CUSTOMER_ID'] == random_cust_id][['TX_DATE', 'CUSTOMER_ID_7_DAY_WINDOW_COUNT', 'CUSTOMER_ID_7_DAY_WINDOW_SUM_AMOUNT', 'CUSTOMER_ID_7_DAY_WINDOW_AVG_AMOUNT']]"
   ],
   "metadata": {
    "collapsed": false
   }
  },
  {
   "cell_type": "code",
   "execution_count": 21,
   "outputs": [
    {
     "data": {
      "text/plain": "                  TX_DATE  CUSTOMER_ID_30_DAY_WINDOW_COUNT  \\\nTRANSACTION_ID                                               \n4266           2018-04-01                              1.0   \n6823           2018-04-01                              2.0   \n10811          2018-04-02                              3.0   \n11920          2018-04-02                              4.0   \n15187          2018-04-02                              5.0   \n...                   ...                              ...   \n262052         2018-04-28                             64.0   \n263957         2018-04-28                             65.0   \n274536         2018-04-29                             66.0   \n274689         2018-04-29                             67.0   \n276267         2018-04-29                             68.0   \n\n                CUSTOMER_ID_30_DAY_WINDOW_SUM_AMOUNT  \\\nTRANSACTION_ID                                         \n4266                                            17.1   \n6823                                            23.8   \n10811                                           55.9   \n11920                                          101.4   \n15187                                          156.5   \n...                                              ...   \n262052                                        1846.6   \n263957                                        1881.8   \n274536                                        1925.1   \n274689                                        1956.0   \n276267                                        1988.9   \n\n                CUSTOMER_ID_30_DAY_WINDOW_AVG_AMOUNT  \nTRANSACTION_ID                                        \n4266                                            17.1  \n6823                                            11.9  \n10811                                           18.6  \n11920                                           25.3  \n15187                                           31.3  \n...                                              ...  \n262052                                          28.9  \n263957                                          29.0  \n274536                                          29.2  \n274689                                          29.2  \n276267                                          29.2  \n\n[68 rows x 4 columns]",
      "text/html": "<div>\n<style scoped>\n    .dataframe tbody tr th:only-of-type {\n        vertical-align: middle;\n    }\n\n    .dataframe tbody tr th {\n        vertical-align: top;\n    }\n\n    .dataframe thead th {\n        text-align: right;\n    }\n</style>\n<table border=\"1\" class=\"dataframe\">\n  <thead>\n    <tr style=\"text-align: right;\">\n      <th></th>\n      <th>TX_DATE</th>\n      <th>CUSTOMER_ID_30_DAY_WINDOW_COUNT</th>\n      <th>CUSTOMER_ID_30_DAY_WINDOW_SUM_AMOUNT</th>\n      <th>CUSTOMER_ID_30_DAY_WINDOW_AVG_AMOUNT</th>\n    </tr>\n    <tr>\n      <th>TRANSACTION_ID</th>\n      <th></th>\n      <th></th>\n      <th></th>\n      <th></th>\n    </tr>\n  </thead>\n  <tbody>\n    <tr>\n      <th>4266</th>\n      <td>2018-04-01</td>\n      <td>1.0</td>\n      <td>17.1</td>\n      <td>17.1</td>\n    </tr>\n    <tr>\n      <th>6823</th>\n      <td>2018-04-01</td>\n      <td>2.0</td>\n      <td>23.8</td>\n      <td>11.9</td>\n    </tr>\n    <tr>\n      <th>10811</th>\n      <td>2018-04-02</td>\n      <td>3.0</td>\n      <td>55.9</td>\n      <td>18.6</td>\n    </tr>\n    <tr>\n      <th>11920</th>\n      <td>2018-04-02</td>\n      <td>4.0</td>\n      <td>101.4</td>\n      <td>25.3</td>\n    </tr>\n    <tr>\n      <th>15187</th>\n      <td>2018-04-02</td>\n      <td>5.0</td>\n      <td>156.5</td>\n      <td>31.3</td>\n    </tr>\n    <tr>\n      <th>...</th>\n      <td>...</td>\n      <td>...</td>\n      <td>...</td>\n      <td>...</td>\n    </tr>\n    <tr>\n      <th>262052</th>\n      <td>2018-04-28</td>\n      <td>64.0</td>\n      <td>1846.6</td>\n      <td>28.9</td>\n    </tr>\n    <tr>\n      <th>263957</th>\n      <td>2018-04-28</td>\n      <td>65.0</td>\n      <td>1881.8</td>\n      <td>29.0</td>\n    </tr>\n    <tr>\n      <th>274536</th>\n      <td>2018-04-29</td>\n      <td>66.0</td>\n      <td>1925.1</td>\n      <td>29.2</td>\n    </tr>\n    <tr>\n      <th>274689</th>\n      <td>2018-04-29</td>\n      <td>67.0</td>\n      <td>1956.0</td>\n      <td>29.2</td>\n    </tr>\n    <tr>\n      <th>276267</th>\n      <td>2018-04-29</td>\n      <td>68.0</td>\n      <td>1988.9</td>\n      <td>29.2</td>\n    </tr>\n  </tbody>\n</table>\n<p>68 rows × 4 columns</p>\n</div>"
     },
     "execution_count": 21,
     "metadata": {},
     "output_type": "execute_result"
    }
   ],
   "source": [
    "transactions_df[transactions_df['CUSTOMER_ID'] == random_cust_id][['TX_DATE', 'CUSTOMER_ID_30_DAY_WINDOW_COUNT', 'CUSTOMER_ID_30_DAY_WINDOW_SUM_AMOUNT', 'CUSTOMER_ID_30_DAY_WINDOW_AVG_AMOUNT']]"
   ],
   "metadata": {
    "collapsed": false
   }
  },
  {
   "cell_type": "code",
   "execution_count": 22,
   "outputs": [
    {
     "data": {
      "text/plain": "                       TX_DATETIME  CUSTOMER_ID_DAYS_SINCE_LAST_TXN\nTRANSACTION_ID                                                     \n4266           2018-04-01 11:20:10                                0\n6823           2018-04-01 15:08:35                                0\n10811          2018-04-02 06:14:58                                0\n11920          2018-04-02 08:25:25                                0\n15187          2018-04-02 13:15:34                                0\n...                            ...                              ...\n262052         2018-04-28 09:26:26                                0\n263957         2018-04-28 12:11:53                                0\n274536         2018-04-29 13:26:27                                1\n274689         2018-04-29 13:40:50                                0\n276267         2018-04-29 16:11:44                                0\n\n[68 rows x 2 columns]",
      "text/html": "<div>\n<style scoped>\n    .dataframe tbody tr th:only-of-type {\n        vertical-align: middle;\n    }\n\n    .dataframe tbody tr th {\n        vertical-align: top;\n    }\n\n    .dataframe thead th {\n        text-align: right;\n    }\n</style>\n<table border=\"1\" class=\"dataframe\">\n  <thead>\n    <tr style=\"text-align: right;\">\n      <th></th>\n      <th>TX_DATETIME</th>\n      <th>CUSTOMER_ID_DAYS_SINCE_LAST_TXN</th>\n    </tr>\n    <tr>\n      <th>TRANSACTION_ID</th>\n      <th></th>\n      <th></th>\n    </tr>\n  </thead>\n  <tbody>\n    <tr>\n      <th>4266</th>\n      <td>2018-04-01 11:20:10</td>\n      <td>0</td>\n    </tr>\n    <tr>\n      <th>6823</th>\n      <td>2018-04-01 15:08:35</td>\n      <td>0</td>\n    </tr>\n    <tr>\n      <th>10811</th>\n      <td>2018-04-02 06:14:58</td>\n      <td>0</td>\n    </tr>\n    <tr>\n      <th>11920</th>\n      <td>2018-04-02 08:25:25</td>\n      <td>0</td>\n    </tr>\n    <tr>\n      <th>15187</th>\n      <td>2018-04-02 13:15:34</td>\n      <td>0</td>\n    </tr>\n    <tr>\n      <th>...</th>\n      <td>...</td>\n      <td>...</td>\n    </tr>\n    <tr>\n      <th>262052</th>\n      <td>2018-04-28 09:26:26</td>\n      <td>0</td>\n    </tr>\n    <tr>\n      <th>263957</th>\n      <td>2018-04-28 12:11:53</td>\n      <td>0</td>\n    </tr>\n    <tr>\n      <th>274536</th>\n      <td>2018-04-29 13:26:27</td>\n      <td>1</td>\n    </tr>\n    <tr>\n      <th>274689</th>\n      <td>2018-04-29 13:40:50</td>\n      <td>0</td>\n    </tr>\n    <tr>\n      <th>276267</th>\n      <td>2018-04-29 16:11:44</td>\n      <td>0</td>\n    </tr>\n  </tbody>\n</table>\n<p>68 rows × 2 columns</p>\n</div>"
     },
     "execution_count": 22,
     "metadata": {},
     "output_type": "execute_result"
    }
   ],
   "source": [
    "transactions_df[transactions_df['CUSTOMER_ID'] == random_cust_id][['TX_DATETIME', 'CUSTOMER_ID_DAYS_SINCE_LAST_TXN']]"
   ],
   "metadata": {
    "collapsed": false
   }
  },
  {
   "cell_type": "markdown",
   "source": [
    "### Terminal features\n",
    "\n",
    "Determine a risk score for each terminal.\n",
    "\n",
    "We will include a delay period in this since the `TX_FRAUD` flag will likely not be known immediately. This will usually change once a customer has reported fraud for example.\n",
    "Therefore, we will set a delay period of 1w assuming that fraud will be reported within a week.\n",
    "\n",
    "`Risk = num of fraud txns / num of total txns, for a given period`."
   ],
   "metadata": {
    "collapsed": false
   }
  },
  {
   "cell_type": "code",
   "execution_count": 23,
   "outputs": [
    {
     "data": {
      "text/plain": "                TRANSACTION_ID         TX_DATETIME  CUSTOMER_ID  TERMINAL_ID  \\\nTRANSACTION_ID                                                                 \n0                            0 2018-04-01 00:00:31          596         3156   \n1                            1 2018-04-01 00:02:10         4961         3412   \n2                            2 2018-04-01 00:07:56            2         1365   \n3                            3 2018-04-01 00:09:29         4128         8737   \n4                            4 2018-04-01 00:10:34          927         9906   \n\n                TX_AMOUNT  TX_TIME_SECONDS  TX_TIME_DAYS  TX_FRAUD  \\\nTRANSACTION_ID                                                       \n0                    57.2               31             0         0   \n1                    81.5              130             0         0   \n2                   146.0              476             0         0   \n3                    64.5              569             0         0   \n4                    51.0              634             0         0   \n\n                TX_FRAUD_SCENARIO    TX_DATE  ...  \\\nTRANSACTION_ID                                ...   \n0                               0 2018-04-01  ...   \n1                               0 2018-04-01  ...   \n2                               0 2018-04-01  ...   \n3                               0 2018-04-01  ...   \n4                               0 2018-04-01  ...   \n\n                CUSTOMER_ID_1_DAY_WINDOW_SUM_AMOUNT  \\\nTRANSACTION_ID                                        \n0                                              57.2   \n1                                              81.5   \n2                                             146.0   \n3                                              64.5   \n4                                              51.0   \n\n                CUSTOMER_ID_1_DAY_WINDOW_COUNT  \\\nTRANSACTION_ID                                   \n0                                          1.0   \n1                                          1.0   \n2                                          1.0   \n3                                          1.0   \n4                                          1.0   \n\n                CUSTOMER_ID_1_DAY_WINDOW_AVG_AMOUNT  \\\nTRANSACTION_ID                                        \n0                                              57.2   \n1                                              81.5   \n2                                             146.0   \n3                                              64.5   \n4                                              51.0   \n\n                CUSTOMER_ID_7_DAY_WINDOW_SUM_AMOUNT  \\\nTRANSACTION_ID                                        \n0                                              57.2   \n1                                              81.5   \n2                                             146.0   \n3                                              64.5   \n4                                              51.0   \n\n                CUSTOMER_ID_7_DAY_WINDOW_COUNT  \\\nTRANSACTION_ID                                   \n0                                          1.0   \n1                                          1.0   \n2                                          1.0   \n3                                          1.0   \n4                                          1.0   \n\n                CUSTOMER_ID_7_DAY_WINDOW_AVG_AMOUNT  \\\nTRANSACTION_ID                                        \n0                                              57.2   \n1                                              81.5   \n2                                             146.0   \n3                                              64.5   \n4                                              51.0   \n\n                CUSTOMER_ID_30_DAY_WINDOW_SUM_AMOUNT  \\\nTRANSACTION_ID                                         \n0                                               57.2   \n1                                               81.5   \n2                                              146.0   \n3                                               64.5   \n4                                               51.0   \n\n                CUSTOMER_ID_30_DAY_WINDOW_COUNT  \\\nTRANSACTION_ID                                    \n0                                           1.0   \n1                                           1.0   \n2                                           1.0   \n3                                           1.0   \n4                                           1.0   \n\n                CUSTOMER_ID_30_DAY_WINDOW_AVG_AMOUNT  \\\nTRANSACTION_ID                                         \n0                                               57.2   \n1                                               81.5   \n2                                              146.0   \n3                                               64.5   \n4                                               51.0   \n\n                CUSTOMER_ID_DAYS_SINCE_LAST_TXN  \nTRANSACTION_ID                                   \n0                                             0  \n1                                             0  \n2                                             0  \n3                                             0  \n4                                             0  \n\n[5 rows x 22 columns]",
      "text/html": "<div>\n<style scoped>\n    .dataframe tbody tr th:only-of-type {\n        vertical-align: middle;\n    }\n\n    .dataframe tbody tr th {\n        vertical-align: top;\n    }\n\n    .dataframe thead th {\n        text-align: right;\n    }\n</style>\n<table border=\"1\" class=\"dataframe\">\n  <thead>\n    <tr style=\"text-align: right;\">\n      <th></th>\n      <th>TRANSACTION_ID</th>\n      <th>TX_DATETIME</th>\n      <th>CUSTOMER_ID</th>\n      <th>TERMINAL_ID</th>\n      <th>TX_AMOUNT</th>\n      <th>TX_TIME_SECONDS</th>\n      <th>TX_TIME_DAYS</th>\n      <th>TX_FRAUD</th>\n      <th>TX_FRAUD_SCENARIO</th>\n      <th>TX_DATE</th>\n      <th>...</th>\n      <th>CUSTOMER_ID_1_DAY_WINDOW_SUM_AMOUNT</th>\n      <th>CUSTOMER_ID_1_DAY_WINDOW_COUNT</th>\n      <th>CUSTOMER_ID_1_DAY_WINDOW_AVG_AMOUNT</th>\n      <th>CUSTOMER_ID_7_DAY_WINDOW_SUM_AMOUNT</th>\n      <th>CUSTOMER_ID_7_DAY_WINDOW_COUNT</th>\n      <th>CUSTOMER_ID_7_DAY_WINDOW_AVG_AMOUNT</th>\n      <th>CUSTOMER_ID_30_DAY_WINDOW_SUM_AMOUNT</th>\n      <th>CUSTOMER_ID_30_DAY_WINDOW_COUNT</th>\n      <th>CUSTOMER_ID_30_DAY_WINDOW_AVG_AMOUNT</th>\n      <th>CUSTOMER_ID_DAYS_SINCE_LAST_TXN</th>\n    </tr>\n    <tr>\n      <th>TRANSACTION_ID</th>\n      <th></th>\n      <th></th>\n      <th></th>\n      <th></th>\n      <th></th>\n      <th></th>\n      <th></th>\n      <th></th>\n      <th></th>\n      <th></th>\n      <th></th>\n      <th></th>\n      <th></th>\n      <th></th>\n      <th></th>\n      <th></th>\n      <th></th>\n      <th></th>\n      <th></th>\n      <th></th>\n      <th></th>\n    </tr>\n  </thead>\n  <tbody>\n    <tr>\n      <th>0</th>\n      <td>0</td>\n      <td>2018-04-01 00:00:31</td>\n      <td>596</td>\n      <td>3156</td>\n      <td>57.2</td>\n      <td>31</td>\n      <td>0</td>\n      <td>0</td>\n      <td>0</td>\n      <td>2018-04-01</td>\n      <td>...</td>\n      <td>57.2</td>\n      <td>1.0</td>\n      <td>57.2</td>\n      <td>57.2</td>\n      <td>1.0</td>\n      <td>57.2</td>\n      <td>57.2</td>\n      <td>1.0</td>\n      <td>57.2</td>\n      <td>0</td>\n    </tr>\n    <tr>\n      <th>1</th>\n      <td>1</td>\n      <td>2018-04-01 00:02:10</td>\n      <td>4961</td>\n      <td>3412</td>\n      <td>81.5</td>\n      <td>130</td>\n      <td>0</td>\n      <td>0</td>\n      <td>0</td>\n      <td>2018-04-01</td>\n      <td>...</td>\n      <td>81.5</td>\n      <td>1.0</td>\n      <td>81.5</td>\n      <td>81.5</td>\n      <td>1.0</td>\n      <td>81.5</td>\n      <td>81.5</td>\n      <td>1.0</td>\n      <td>81.5</td>\n      <td>0</td>\n    </tr>\n    <tr>\n      <th>2</th>\n      <td>2</td>\n      <td>2018-04-01 00:07:56</td>\n      <td>2</td>\n      <td>1365</td>\n      <td>146.0</td>\n      <td>476</td>\n      <td>0</td>\n      <td>0</td>\n      <td>0</td>\n      <td>2018-04-01</td>\n      <td>...</td>\n      <td>146.0</td>\n      <td>1.0</td>\n      <td>146.0</td>\n      <td>146.0</td>\n      <td>1.0</td>\n      <td>146.0</td>\n      <td>146.0</td>\n      <td>1.0</td>\n      <td>146.0</td>\n      <td>0</td>\n    </tr>\n    <tr>\n      <th>3</th>\n      <td>3</td>\n      <td>2018-04-01 00:09:29</td>\n      <td>4128</td>\n      <td>8737</td>\n      <td>64.5</td>\n      <td>569</td>\n      <td>0</td>\n      <td>0</td>\n      <td>0</td>\n      <td>2018-04-01</td>\n      <td>...</td>\n      <td>64.5</td>\n      <td>1.0</td>\n      <td>64.5</td>\n      <td>64.5</td>\n      <td>1.0</td>\n      <td>64.5</td>\n      <td>64.5</td>\n      <td>1.0</td>\n      <td>64.5</td>\n      <td>0</td>\n    </tr>\n    <tr>\n      <th>4</th>\n      <td>4</td>\n      <td>2018-04-01 00:10:34</td>\n      <td>927</td>\n      <td>9906</td>\n      <td>51.0</td>\n      <td>634</td>\n      <td>0</td>\n      <td>0</td>\n      <td>0</td>\n      <td>2018-04-01</td>\n      <td>...</td>\n      <td>51.0</td>\n      <td>1.0</td>\n      <td>51.0</td>\n      <td>51.0</td>\n      <td>1.0</td>\n      <td>51.0</td>\n      <td>51.0</td>\n      <td>1.0</td>\n      <td>51.0</td>\n      <td>0</td>\n    </tr>\n  </tbody>\n</table>\n<p>5 rows × 22 columns</p>\n</div>"
     },
     "execution_count": 23,
     "metadata": {},
     "output_type": "execute_result"
    }
   ],
   "source": [
    "transactions_df.head()"
   ],
   "metadata": {
    "collapsed": false
   }
  },
  {
   "cell_type": "code",
   "execution_count": 24,
   "outputs": [],
   "source": [
    "def generate_terminal_risk(terminal_txns, time_delay=7, window_sizes=(1, 7, 30)):\n",
    "\n",
    "    terminal_txns.index = terminal_txns['TX_DATETIME']\n",
    "    DELAY_FRAUD_TXN_COUNT = terminal_txns['TX_FRAUD'].rolling(str(time_delay) + 'd').sum('TX_FRAUD')\n",
    "    DELAY_ALL_TXN_COUNT = terminal_txns['TX_FRAUD'].rolling(str(time_delay) + 'd').sum('count')\n",
    "\n",
    "    for window in window_sizes:\n",
    "        FRAUD_TXN_COUNT_NODELAY = terminal_txns['TX_FRAUD'].rolling(str(time_delay + window) + 'd').sum('TX_FRAUD')\n",
    "        ALL_TXN_COUNT_NODELAY = terminal_txns['TX_FRAUD'].rolling(str(time_delay + window) + 'd').count()\n",
    "\n",
    "        FRAUD_TXN_COUNT = FRAUD_TXN_COUNT_NODELAY - DELAY_FRAUD_TXN_COUNT\n",
    "        ALL_TXN_COUNT = ALL_TXN_COUNT_NODELAY - DELAY_ALL_TXN_COUNT\n",
    "\n",
    "        RISK_PERC = FRAUD_TXN_COUNT / ALL_TXN_COUNT\n",
    "\n",
    "        terminal_txns['TERMINAL_ID_' + 'FRAUD_RISK_' + str(window) + '_DAY_WINDOW'] = RISK_PERC\n",
    "        terminal_txns['TERMINAL_ID_' + 'FRAUD_TXN_COUNT_' + str(window) + '_DAY_WINDOW'] = FRAUD_TXN_COUNT\n",
    "        terminal_txns['TERMINAL_ID_' + 'TXN_COUNT_' + str(window) + '_DAY_WINDOW'] = ALL_TXN_COUNT\n",
    "\n",
    "    terminal_txns.fillna(0, inplace=True)\n",
    "    terminal_txns.reset_index(drop=True, inplace=True)\n",
    "\n",
    "    return terminal_txns"
   ],
   "metadata": {
    "collapsed": false
   }
  },
  {
   "cell_type": "code",
   "execution_count": 25,
   "outputs": [
    {
     "data": {
      "text/plain": "    TRANSACTION_ID         TX_DATETIME  CUSTOMER_ID  TERMINAL_ID  TX_AMOUNT  \\\n0             9579 2018-04-02 01:00:01         3440            0       16.1   \n1            12806 2018-04-02 09:49:55         3302            0       67.8   \n2            24184 2018-04-03 12:14:41         3790            0       26.8   \n3            46284 2018-04-05 16:47:41         1125            0       40.5   \n4            58807 2018-04-07 06:05:21         1125            0       48.4   \n5            61225 2018-04-07 10:18:42         4029            0       34.2   \n6            64116 2018-04-07 14:37:49         3790            0       51.4   \n7            82373 2018-04-09 13:36:59         3554            0      111.1   \n8            88261 2018-04-10 07:53:35         3780            0       32.9   \n9            89762 2018-04-10 10:19:15          562            0      175.6   \n10          111279 2018-04-12 13:32:55         3790            0       51.4   \n11          114608 2018-04-12 20:57:28         3440            0       32.9   \n12          130395 2018-04-14 13:16:28          562            0       75.1   \n13          134804 2018-04-15 03:43:29         1408            0       67.5   \n14          139146 2018-04-15 12:10:31         3319            0       76.5   \n15          157893 2018-04-17 11:46:07         2762            0       53.0   \n16          185015 2018-04-20 09:21:00         4193            0       91.2   \n17          207284 2018-04-22 13:37:11          842            0        5.7   \n18          217945 2018-04-23 14:58:55          789            0       40.9   \n19          244193 2018-04-26 11:16:21         1922            0       38.0   \n20          251245 2018-04-27 07:13:27         1246            0       63.0   \n21          260821 2018-04-28 07:05:32         3302            0       28.2   \n22          271589 2018-04-29 09:11:30         3790            0       19.3   \n\n    TX_TIME_SECONDS  TX_TIME_DAYS  TX_FRAUD  TX_FRAUD_SCENARIO    TX_DATE  \\\n0             90001             1         0                  0 2018-04-02   \n1            121795             1         0                  0 2018-04-02   \n2            216881             2         0                  0 2018-04-03   \n3            406061             4         0                  0 2018-04-05   \n4            540321             6         0                  0 2018-04-07   \n5            555522             6         0                  0 2018-04-07   \n6            571069             6         0                  0 2018-04-07   \n7            740219             8         0                  0 2018-04-09   \n8            806015             9         0                  0 2018-04-10   \n9            814755             9         0                  0 2018-04-10   \n10           999175            11         0                  0 2018-04-12   \n11          1025848            11         0                  0 2018-04-12   \n12          1170988            13         0                  0 2018-04-14   \n13          1223009            14         0                  0 2018-04-15   \n14          1253431            14         0                  0 2018-04-15   \n15          1424767            16         0                  0 2018-04-17   \n16          1675260            19         0                  0 2018-04-20   \n17          1863431            21         0                  0 2018-04-22   \n18          1954735            22         0                  0 2018-04-23   \n19          2200581            25         0                  0 2018-04-26   \n20          2272407            26         0                  0 2018-04-27   \n21          2358332            27         0                  0 2018-04-28   \n22          2452290            28         0                  0 2018-04-29   \n\n    ...  CUSTOMER_ID_DAYS_SINCE_LAST_TXN  TERMINAL_ID_FRAUD_RISK_1_DAY_WINDOW  \\\n0   ...                                0                                  0.0   \n1   ...                                0                                  0.0   \n2   ...                                0                                  0.0   \n3   ...                                0                                  0.0   \n4   ...                                0                                  0.0   \n5   ...                                0                                  0.0   \n6   ...                                0                                  0.0   \n7   ...                                0                                  0.0   \n8   ...                                0                                  0.0   \n9   ...                                1                                  0.0   \n10  ...                                0                                  0.0   \n11  ...                                0                                  0.0   \n12  ...                                0                                  0.0   \n13  ...                                0                                  0.0   \n14  ...                                1                                  0.0   \n15  ...                                0                                  0.0   \n16  ...                                0                                  0.0   \n17  ...                                0                                  0.0   \n18  ...                                0                                  0.0   \n19  ...                                1                                  0.0   \n20  ...                                0                                  0.0   \n21  ...                                0                                  0.0   \n22  ...                                0                                  0.0   \n\n    TERMINAL_ID_FRAUD_TXN_COUNT_1_DAY_WINDOW  \\\n0                                        0.0   \n1                                        0.0   \n2                                        0.0   \n3                                        0.0   \n4                                        0.0   \n5                                        0.0   \n6                                        0.0   \n7                                        0.0   \n8                                        0.0   \n9                                        0.0   \n10                                       0.0   \n11                                       0.0   \n12                                       0.0   \n13                                       0.0   \n14                                       0.0   \n15                                       0.0   \n16                                       0.0   \n17                                       0.0   \n18                                       0.0   \n19                                       0.0   \n20                                       0.0   \n21                                       0.0   \n22                                       0.0   \n\n    TERMINAL_ID_TXN_COUNT_1_DAY_WINDOW  TERMINAL_ID_FRAUD_RISK_7_DAY_WINDOW  \\\n0                                  1.0                                  0.0   \n1                                  2.0                                  0.0   \n2                                  3.0                                  0.0   \n3                                  4.0                                  0.0   \n4                                  5.0                                  0.0   \n5                                  6.0                                  0.0   \n6                                  7.0                                  0.0   \n7                                  8.0                                  0.0   \n8                                  8.0                                  0.0   \n9                                  8.0                                  0.0   \n10                                 8.0                                  0.0   \n11                                 9.0                                  0.0   \n12                                 9.0                                  0.0   \n13                                10.0                                  0.0   \n14                                 9.0                                  0.0   \n15                                 9.0                                  0.0   \n16                                 7.0                                  0.0   \n17                                 5.0                                  0.0   \n18                                 4.0                                  0.0   \n19                                 4.0                                  0.0   \n20                                 5.0                                  0.0   \n21                                 6.0                                  0.0   \n22                                 6.0                                  0.0   \n\n    TERMINAL_ID_FRAUD_TXN_COUNT_7_DAY_WINDOW  \\\n0                                        0.0   \n1                                        0.0   \n2                                        0.0   \n3                                        0.0   \n4                                        0.0   \n5                                        0.0   \n6                                        0.0   \n7                                        0.0   \n8                                        0.0   \n9                                        0.0   \n10                                       0.0   \n11                                       0.0   \n12                                       0.0   \n13                                       0.0   \n14                                       0.0   \n15                                       0.0   \n16                                       0.0   \n17                                       0.0   \n18                                       0.0   \n19                                       0.0   \n20                                       0.0   \n21                                       0.0   \n22                                       0.0   \n\n    TERMINAL_ID_TXN_COUNT_7_DAY_WINDOW  TERMINAL_ID_FRAUD_RISK_30_DAY_WINDOW  \\\n0                                  1.0                                   0.0   \n1                                  2.0                                   0.0   \n2                                  3.0                                   0.0   \n3                                  4.0                                   0.0   \n4                                  5.0                                   0.0   \n5                                  6.0                                   0.0   \n6                                  7.0                                   0.0   \n7                                  8.0                                   0.0   \n8                                  9.0                                   0.0   \n9                                 10.0                                   0.0   \n10                                11.0                                   0.0   \n11                                12.0                                   0.0   \n12                                13.0                                   0.0   \n13                                14.0                                   0.0   \n14                                15.0                                   0.0   \n15                                14.0                                   0.0   \n16                                13.0                                   0.0   \n17                                11.0                                   0.0   \n18                                11.0                                   0.0   \n19                                10.0                                   0.0   \n20                                 9.0                                   0.0   \n21                                10.0                                   0.0   \n22                                 9.0                                   0.0   \n\n    TERMINAL_ID_FRAUD_TXN_COUNT_30_DAY_WINDOW  \\\n0                                         0.0   \n1                                         0.0   \n2                                         0.0   \n3                                         0.0   \n4                                         0.0   \n5                                         0.0   \n6                                         0.0   \n7                                         0.0   \n8                                         0.0   \n9                                         0.0   \n10                                        0.0   \n11                                        0.0   \n12                                        0.0   \n13                                        0.0   \n14                                        0.0   \n15                                        0.0   \n16                                        0.0   \n17                                        0.0   \n18                                        0.0   \n19                                        0.0   \n20                                        0.0   \n21                                        0.0   \n22                                        0.0   \n\n    TERMINAL_ID_TXN_COUNT_30_DAY_WINDOW  \n0                                   1.0  \n1                                   2.0  \n2                                   3.0  \n3                                   4.0  \n4                                   5.0  \n5                                   6.0  \n6                                   7.0  \n7                                   8.0  \n8                                   9.0  \n9                                  10.0  \n10                                 11.0  \n11                                 12.0  \n12                                 13.0  \n13                                 14.0  \n14                                 15.0  \n15                                 16.0  \n16                                 17.0  \n17                                 18.0  \n18                                 19.0  \n19                                 20.0  \n20                                 21.0  \n21                                 22.0  \n22                                 23.0  \n\n[23 rows x 31 columns]",
      "text/html": "<div>\n<style scoped>\n    .dataframe tbody tr th:only-of-type {\n        vertical-align: middle;\n    }\n\n    .dataframe tbody tr th {\n        vertical-align: top;\n    }\n\n    .dataframe thead th {\n        text-align: right;\n    }\n</style>\n<table border=\"1\" class=\"dataframe\">\n  <thead>\n    <tr style=\"text-align: right;\">\n      <th></th>\n      <th>TRANSACTION_ID</th>\n      <th>TX_DATETIME</th>\n      <th>CUSTOMER_ID</th>\n      <th>TERMINAL_ID</th>\n      <th>TX_AMOUNT</th>\n      <th>TX_TIME_SECONDS</th>\n      <th>TX_TIME_DAYS</th>\n      <th>TX_FRAUD</th>\n      <th>TX_FRAUD_SCENARIO</th>\n      <th>TX_DATE</th>\n      <th>...</th>\n      <th>CUSTOMER_ID_DAYS_SINCE_LAST_TXN</th>\n      <th>TERMINAL_ID_FRAUD_RISK_1_DAY_WINDOW</th>\n      <th>TERMINAL_ID_FRAUD_TXN_COUNT_1_DAY_WINDOW</th>\n      <th>TERMINAL_ID_TXN_COUNT_1_DAY_WINDOW</th>\n      <th>TERMINAL_ID_FRAUD_RISK_7_DAY_WINDOW</th>\n      <th>TERMINAL_ID_FRAUD_TXN_COUNT_7_DAY_WINDOW</th>\n      <th>TERMINAL_ID_TXN_COUNT_7_DAY_WINDOW</th>\n      <th>TERMINAL_ID_FRAUD_RISK_30_DAY_WINDOW</th>\n      <th>TERMINAL_ID_FRAUD_TXN_COUNT_30_DAY_WINDOW</th>\n      <th>TERMINAL_ID_TXN_COUNT_30_DAY_WINDOW</th>\n    </tr>\n  </thead>\n  <tbody>\n    <tr>\n      <th>0</th>\n      <td>9579</td>\n      <td>2018-04-02 01:00:01</td>\n      <td>3440</td>\n      <td>0</td>\n      <td>16.1</td>\n      <td>90001</td>\n      <td>1</td>\n      <td>0</td>\n      <td>0</td>\n      <td>2018-04-02</td>\n      <td>...</td>\n      <td>0</td>\n      <td>0.0</td>\n      <td>0.0</td>\n      <td>1.0</td>\n      <td>0.0</td>\n      <td>0.0</td>\n      <td>1.0</td>\n      <td>0.0</td>\n      <td>0.0</td>\n      <td>1.0</td>\n    </tr>\n    <tr>\n      <th>1</th>\n      <td>12806</td>\n      <td>2018-04-02 09:49:55</td>\n      <td>3302</td>\n      <td>0</td>\n      <td>67.8</td>\n      <td>121795</td>\n      <td>1</td>\n      <td>0</td>\n      <td>0</td>\n      <td>2018-04-02</td>\n      <td>...</td>\n      <td>0</td>\n      <td>0.0</td>\n      <td>0.0</td>\n      <td>2.0</td>\n      <td>0.0</td>\n      <td>0.0</td>\n      <td>2.0</td>\n      <td>0.0</td>\n      <td>0.0</td>\n      <td>2.0</td>\n    </tr>\n    <tr>\n      <th>2</th>\n      <td>24184</td>\n      <td>2018-04-03 12:14:41</td>\n      <td>3790</td>\n      <td>0</td>\n      <td>26.8</td>\n      <td>216881</td>\n      <td>2</td>\n      <td>0</td>\n      <td>0</td>\n      <td>2018-04-03</td>\n      <td>...</td>\n      <td>0</td>\n      <td>0.0</td>\n      <td>0.0</td>\n      <td>3.0</td>\n      <td>0.0</td>\n      <td>0.0</td>\n      <td>3.0</td>\n      <td>0.0</td>\n      <td>0.0</td>\n      <td>3.0</td>\n    </tr>\n    <tr>\n      <th>3</th>\n      <td>46284</td>\n      <td>2018-04-05 16:47:41</td>\n      <td>1125</td>\n      <td>0</td>\n      <td>40.5</td>\n      <td>406061</td>\n      <td>4</td>\n      <td>0</td>\n      <td>0</td>\n      <td>2018-04-05</td>\n      <td>...</td>\n      <td>0</td>\n      <td>0.0</td>\n      <td>0.0</td>\n      <td>4.0</td>\n      <td>0.0</td>\n      <td>0.0</td>\n      <td>4.0</td>\n      <td>0.0</td>\n      <td>0.0</td>\n      <td>4.0</td>\n    </tr>\n    <tr>\n      <th>4</th>\n      <td>58807</td>\n      <td>2018-04-07 06:05:21</td>\n      <td>1125</td>\n      <td>0</td>\n      <td>48.4</td>\n      <td>540321</td>\n      <td>6</td>\n      <td>0</td>\n      <td>0</td>\n      <td>2018-04-07</td>\n      <td>...</td>\n      <td>0</td>\n      <td>0.0</td>\n      <td>0.0</td>\n      <td>5.0</td>\n      <td>0.0</td>\n      <td>0.0</td>\n      <td>5.0</td>\n      <td>0.0</td>\n      <td>0.0</td>\n      <td>5.0</td>\n    </tr>\n    <tr>\n      <th>5</th>\n      <td>61225</td>\n      <td>2018-04-07 10:18:42</td>\n      <td>4029</td>\n      <td>0</td>\n      <td>34.2</td>\n      <td>555522</td>\n      <td>6</td>\n      <td>0</td>\n      <td>0</td>\n      <td>2018-04-07</td>\n      <td>...</td>\n      <td>0</td>\n      <td>0.0</td>\n      <td>0.0</td>\n      <td>6.0</td>\n      <td>0.0</td>\n      <td>0.0</td>\n      <td>6.0</td>\n      <td>0.0</td>\n      <td>0.0</td>\n      <td>6.0</td>\n    </tr>\n    <tr>\n      <th>6</th>\n      <td>64116</td>\n      <td>2018-04-07 14:37:49</td>\n      <td>3790</td>\n      <td>0</td>\n      <td>51.4</td>\n      <td>571069</td>\n      <td>6</td>\n      <td>0</td>\n      <td>0</td>\n      <td>2018-04-07</td>\n      <td>...</td>\n      <td>0</td>\n      <td>0.0</td>\n      <td>0.0</td>\n      <td>7.0</td>\n      <td>0.0</td>\n      <td>0.0</td>\n      <td>7.0</td>\n      <td>0.0</td>\n      <td>0.0</td>\n      <td>7.0</td>\n    </tr>\n    <tr>\n      <th>7</th>\n      <td>82373</td>\n      <td>2018-04-09 13:36:59</td>\n      <td>3554</td>\n      <td>0</td>\n      <td>111.1</td>\n      <td>740219</td>\n      <td>8</td>\n      <td>0</td>\n      <td>0</td>\n      <td>2018-04-09</td>\n      <td>...</td>\n      <td>0</td>\n      <td>0.0</td>\n      <td>0.0</td>\n      <td>8.0</td>\n      <td>0.0</td>\n      <td>0.0</td>\n      <td>8.0</td>\n      <td>0.0</td>\n      <td>0.0</td>\n      <td>8.0</td>\n    </tr>\n    <tr>\n      <th>8</th>\n      <td>88261</td>\n      <td>2018-04-10 07:53:35</td>\n      <td>3780</td>\n      <td>0</td>\n      <td>32.9</td>\n      <td>806015</td>\n      <td>9</td>\n      <td>0</td>\n      <td>0</td>\n      <td>2018-04-10</td>\n      <td>...</td>\n      <td>0</td>\n      <td>0.0</td>\n      <td>0.0</td>\n      <td>8.0</td>\n      <td>0.0</td>\n      <td>0.0</td>\n      <td>9.0</td>\n      <td>0.0</td>\n      <td>0.0</td>\n      <td>9.0</td>\n    </tr>\n    <tr>\n      <th>9</th>\n      <td>89762</td>\n      <td>2018-04-10 10:19:15</td>\n      <td>562</td>\n      <td>0</td>\n      <td>175.6</td>\n      <td>814755</td>\n      <td>9</td>\n      <td>0</td>\n      <td>0</td>\n      <td>2018-04-10</td>\n      <td>...</td>\n      <td>1</td>\n      <td>0.0</td>\n      <td>0.0</td>\n      <td>8.0</td>\n      <td>0.0</td>\n      <td>0.0</td>\n      <td>10.0</td>\n      <td>0.0</td>\n      <td>0.0</td>\n      <td>10.0</td>\n    </tr>\n    <tr>\n      <th>10</th>\n      <td>111279</td>\n      <td>2018-04-12 13:32:55</td>\n      <td>3790</td>\n      <td>0</td>\n      <td>51.4</td>\n      <td>999175</td>\n      <td>11</td>\n      <td>0</td>\n      <td>0</td>\n      <td>2018-04-12</td>\n      <td>...</td>\n      <td>0</td>\n      <td>0.0</td>\n      <td>0.0</td>\n      <td>8.0</td>\n      <td>0.0</td>\n      <td>0.0</td>\n      <td>11.0</td>\n      <td>0.0</td>\n      <td>0.0</td>\n      <td>11.0</td>\n    </tr>\n    <tr>\n      <th>11</th>\n      <td>114608</td>\n      <td>2018-04-12 20:57:28</td>\n      <td>3440</td>\n      <td>0</td>\n      <td>32.9</td>\n      <td>1025848</td>\n      <td>11</td>\n      <td>0</td>\n      <td>0</td>\n      <td>2018-04-12</td>\n      <td>...</td>\n      <td>0</td>\n      <td>0.0</td>\n      <td>0.0</td>\n      <td>9.0</td>\n      <td>0.0</td>\n      <td>0.0</td>\n      <td>12.0</td>\n      <td>0.0</td>\n      <td>0.0</td>\n      <td>12.0</td>\n    </tr>\n    <tr>\n      <th>12</th>\n      <td>130395</td>\n      <td>2018-04-14 13:16:28</td>\n      <td>562</td>\n      <td>0</td>\n      <td>75.1</td>\n      <td>1170988</td>\n      <td>13</td>\n      <td>0</td>\n      <td>0</td>\n      <td>2018-04-14</td>\n      <td>...</td>\n      <td>0</td>\n      <td>0.0</td>\n      <td>0.0</td>\n      <td>9.0</td>\n      <td>0.0</td>\n      <td>0.0</td>\n      <td>13.0</td>\n      <td>0.0</td>\n      <td>0.0</td>\n      <td>13.0</td>\n    </tr>\n    <tr>\n      <th>13</th>\n      <td>134804</td>\n      <td>2018-04-15 03:43:29</td>\n      <td>1408</td>\n      <td>0</td>\n      <td>67.5</td>\n      <td>1223009</td>\n      <td>14</td>\n      <td>0</td>\n      <td>0</td>\n      <td>2018-04-15</td>\n      <td>...</td>\n      <td>0</td>\n      <td>0.0</td>\n      <td>0.0</td>\n      <td>10.0</td>\n      <td>0.0</td>\n      <td>0.0</td>\n      <td>14.0</td>\n      <td>0.0</td>\n      <td>0.0</td>\n      <td>14.0</td>\n    </tr>\n    <tr>\n      <th>14</th>\n      <td>139146</td>\n      <td>2018-04-15 12:10:31</td>\n      <td>3319</td>\n      <td>0</td>\n      <td>76.5</td>\n      <td>1253431</td>\n      <td>14</td>\n      <td>0</td>\n      <td>0</td>\n      <td>2018-04-15</td>\n      <td>...</td>\n      <td>1</td>\n      <td>0.0</td>\n      <td>0.0</td>\n      <td>9.0</td>\n      <td>0.0</td>\n      <td>0.0</td>\n      <td>15.0</td>\n      <td>0.0</td>\n      <td>0.0</td>\n      <td>15.0</td>\n    </tr>\n    <tr>\n      <th>15</th>\n      <td>157893</td>\n      <td>2018-04-17 11:46:07</td>\n      <td>2762</td>\n      <td>0</td>\n      <td>53.0</td>\n      <td>1424767</td>\n      <td>16</td>\n      <td>0</td>\n      <td>0</td>\n      <td>2018-04-17</td>\n      <td>...</td>\n      <td>0</td>\n      <td>0.0</td>\n      <td>0.0</td>\n      <td>9.0</td>\n      <td>0.0</td>\n      <td>0.0</td>\n      <td>14.0</td>\n      <td>0.0</td>\n      <td>0.0</td>\n      <td>16.0</td>\n    </tr>\n    <tr>\n      <th>16</th>\n      <td>185015</td>\n      <td>2018-04-20 09:21:00</td>\n      <td>4193</td>\n      <td>0</td>\n      <td>91.2</td>\n      <td>1675260</td>\n      <td>19</td>\n      <td>0</td>\n      <td>0</td>\n      <td>2018-04-20</td>\n      <td>...</td>\n      <td>0</td>\n      <td>0.0</td>\n      <td>0.0</td>\n      <td>7.0</td>\n      <td>0.0</td>\n      <td>0.0</td>\n      <td>13.0</td>\n      <td>0.0</td>\n      <td>0.0</td>\n      <td>17.0</td>\n    </tr>\n    <tr>\n      <th>17</th>\n      <td>207284</td>\n      <td>2018-04-22 13:37:11</td>\n      <td>842</td>\n      <td>0</td>\n      <td>5.7</td>\n      <td>1863431</td>\n      <td>21</td>\n      <td>0</td>\n      <td>0</td>\n      <td>2018-04-22</td>\n      <td>...</td>\n      <td>0</td>\n      <td>0.0</td>\n      <td>0.0</td>\n      <td>5.0</td>\n      <td>0.0</td>\n      <td>0.0</td>\n      <td>11.0</td>\n      <td>0.0</td>\n      <td>0.0</td>\n      <td>18.0</td>\n    </tr>\n    <tr>\n      <th>18</th>\n      <td>217945</td>\n      <td>2018-04-23 14:58:55</td>\n      <td>789</td>\n      <td>0</td>\n      <td>40.9</td>\n      <td>1954735</td>\n      <td>22</td>\n      <td>0</td>\n      <td>0</td>\n      <td>2018-04-23</td>\n      <td>...</td>\n      <td>0</td>\n      <td>0.0</td>\n      <td>0.0</td>\n      <td>4.0</td>\n      <td>0.0</td>\n      <td>0.0</td>\n      <td>11.0</td>\n      <td>0.0</td>\n      <td>0.0</td>\n      <td>19.0</td>\n    </tr>\n    <tr>\n      <th>19</th>\n      <td>244193</td>\n      <td>2018-04-26 11:16:21</td>\n      <td>1922</td>\n      <td>0</td>\n      <td>38.0</td>\n      <td>2200581</td>\n      <td>25</td>\n      <td>0</td>\n      <td>0</td>\n      <td>2018-04-26</td>\n      <td>...</td>\n      <td>1</td>\n      <td>0.0</td>\n      <td>0.0</td>\n      <td>4.0</td>\n      <td>0.0</td>\n      <td>0.0</td>\n      <td>10.0</td>\n      <td>0.0</td>\n      <td>0.0</td>\n      <td>20.0</td>\n    </tr>\n    <tr>\n      <th>20</th>\n      <td>251245</td>\n      <td>2018-04-27 07:13:27</td>\n      <td>1246</td>\n      <td>0</td>\n      <td>63.0</td>\n      <td>2272407</td>\n      <td>26</td>\n      <td>0</td>\n      <td>0</td>\n      <td>2018-04-27</td>\n      <td>...</td>\n      <td>0</td>\n      <td>0.0</td>\n      <td>0.0</td>\n      <td>5.0</td>\n      <td>0.0</td>\n      <td>0.0</td>\n      <td>9.0</td>\n      <td>0.0</td>\n      <td>0.0</td>\n      <td>21.0</td>\n    </tr>\n    <tr>\n      <th>21</th>\n      <td>260821</td>\n      <td>2018-04-28 07:05:32</td>\n      <td>3302</td>\n      <td>0</td>\n      <td>28.2</td>\n      <td>2358332</td>\n      <td>27</td>\n      <td>0</td>\n      <td>0</td>\n      <td>2018-04-28</td>\n      <td>...</td>\n      <td>0</td>\n      <td>0.0</td>\n      <td>0.0</td>\n      <td>6.0</td>\n      <td>0.0</td>\n      <td>0.0</td>\n      <td>10.0</td>\n      <td>0.0</td>\n      <td>0.0</td>\n      <td>22.0</td>\n    </tr>\n    <tr>\n      <th>22</th>\n      <td>271589</td>\n      <td>2018-04-29 09:11:30</td>\n      <td>3790</td>\n      <td>0</td>\n      <td>19.3</td>\n      <td>2452290</td>\n      <td>28</td>\n      <td>0</td>\n      <td>0</td>\n      <td>2018-04-29</td>\n      <td>...</td>\n      <td>0</td>\n      <td>0.0</td>\n      <td>0.0</td>\n      <td>6.0</td>\n      <td>0.0</td>\n      <td>0.0</td>\n      <td>9.0</td>\n      <td>0.0</td>\n      <td>0.0</td>\n      <td>23.0</td>\n    </tr>\n  </tbody>\n</table>\n<p>23 rows × 31 columns</p>\n</div>"
     },
     "execution_count": 25,
     "metadata": {},
     "output_type": "execute_result"
    }
   ],
   "source": [
    "terminal_txns = transactions_df[transactions_df['TERMINAL_ID'] == 0].copy()\n",
    "generate_terminal_risk(terminal_txns)"
   ],
   "metadata": {
    "collapsed": false
   }
  },
  {
   "cell_type": "code",
   "execution_count": 26,
   "outputs": [],
   "source": [
    "transactions_df = transactions_df.groupby('TERMINAL_ID').apply(generate_terminal_risk)"
   ],
   "metadata": {
    "collapsed": false
   }
  },
  {
   "cell_type": "code",
   "execution_count": 27,
   "outputs": [],
   "source": [
    "transactions_df = transactions_df.sort_values('TX_DATETIME').reset_index(drop=True)\n",
    "transactions_df.index = transactions_df['TRANSACTION_ID']"
   ],
   "metadata": {
    "collapsed": false
   }
  },
  {
   "cell_type": "code",
   "execution_count": 28,
   "outputs": [
    {
     "data": {
      "text/plain": "TRANSACTION_ID                                             96159\nTX_DATETIME                                  2018-04-11 03:02:54\nCUSTOMER_ID                                                 3493\nTERMINAL_ID                                                  898\nTX_AMOUNT                                                   25.0\nTX_TIME_SECONDS                                           874974\nTX_TIME_DAYS                                                  10\nTX_FRAUD                                                       1\nTX_FRAUD_SCENARIO                                              2\nTX_DATE                                      2018-04-11 00:00:00\nTX_ON_WEEKEND                                                  0\nTX_AT_NIGHT                                                    1\nCUSTOMER_ID_1_DAY_WINDOW_SUM_AMOUNT                         53.0\nCUSTOMER_ID_1_DAY_WINDOW_COUNT                               4.0\nCUSTOMER_ID_1_DAY_WINDOW_AVG_AMOUNT                         13.3\nCUSTOMER_ID_7_DAY_WINDOW_SUM_AMOUNT                        415.2\nCUSTOMER_ID_7_DAY_WINDOW_COUNT                              23.0\nCUSTOMER_ID_7_DAY_WINDOW_AVG_AMOUNT                         18.1\nCUSTOMER_ID_30_DAY_WINDOW_SUM_AMOUNT                       662.6\nCUSTOMER_ID_30_DAY_WINDOW_COUNT                             37.0\nCUSTOMER_ID_30_DAY_WINDOW_AVG_AMOUNT                        17.9\nCUSTOMER_ID_DAYS_SINCE_LAST_TXN                                0\nTERMINAL_ID_FRAUD_RISK_1_DAY_WINDOW                          0.0\nTERMINAL_ID_FRAUD_TXN_COUNT_1_DAY_WINDOW                     0.0\nTERMINAL_ID_TXN_COUNT_1_DAY_WINDOW                           0.0\nTERMINAL_ID_FRAUD_RISK_7_DAY_WINDOW                          1.0\nTERMINAL_ID_FRAUD_TXN_COUNT_7_DAY_WINDOW                     1.0\nTERMINAL_ID_TXN_COUNT_7_DAY_WINDOW                           1.0\nTERMINAL_ID_FRAUD_RISK_30_DAY_WINDOW                         1.0\nTERMINAL_ID_FRAUD_TXN_COUNT_30_DAY_WINDOW                    1.0\nTERMINAL_ID_TXN_COUNT_30_DAY_WINDOW                          1.0\nName: 96159, dtype: object"
     },
     "execution_count": 28,
     "metadata": {},
     "output_type": "execute_result"
    }
   ],
   "source": [
    "transactions_df.iloc[transactions_df['TERMINAL_ID_FRAUD_RISK_30_DAY_WINDOW'].idxmax()]"
   ],
   "metadata": {
    "collapsed": false
   }
  },
  {
   "cell_type": "code",
   "execution_count": 29,
   "outputs": [
    {
     "data": {
      "text/plain": "6374"
     },
     "execution_count": 29,
     "metadata": {},
     "output_type": "execute_result"
    }
   ],
   "source": [
    "# Quick check - using human eyes, and stopping short of recalculating the cols\n",
    "random_terminal_id = transactions_df[transactions_df['TERMINAL_ID_FRAUD_RISK_30_DAY_WINDOW'] > 0]['TERMINAL_ID'].sample(1, random_state=11).values[0]\n",
    "random_terminal_id"
   ],
   "metadata": {
    "collapsed": false
   }
  },
  {
   "cell_type": "code",
   "execution_count": 30,
   "outputs": [
    {
     "data": {
      "text/plain": "                TRANSACTION_ID         TX_DATETIME  CUSTOMER_ID  TERMINAL_ID  \\\nTRANSACTION_ID                                                                 \n37467                    37467 2018-04-04 19:00:35          398         6374   \n\n                TX_AMOUNT  TX_TIME_SECONDS  TX_TIME_DAYS  TX_FRAUD  \\\nTRANSACTION_ID                                                       \n37467               103.0           327635             3         1   \n\n                TX_FRAUD_SCENARIO    TX_DATE  ...  \\\nTRANSACTION_ID                                ...   \n37467                           3 2018-04-04  ...   \n\n                CUSTOMER_ID_DAYS_SINCE_LAST_TXN  \\\nTRANSACTION_ID                                    \n37467                                         0   \n\n                TERMINAL_ID_FRAUD_RISK_1_DAY_WINDOW  \\\nTRANSACTION_ID                                        \n37467                                           0.0   \n\n                TERMINAL_ID_FRAUD_TXN_COUNT_1_DAY_WINDOW  \\\nTRANSACTION_ID                                             \n37467                                                0.0   \n\n                TERMINAL_ID_TXN_COUNT_1_DAY_WINDOW  \\\nTRANSACTION_ID                                       \n37467                                          3.0   \n\n                TERMINAL_ID_FRAUD_RISK_7_DAY_WINDOW  \\\nTRANSACTION_ID                                        \n37467                                           0.0   \n\n                TERMINAL_ID_FRAUD_TXN_COUNT_7_DAY_WINDOW  \\\nTRANSACTION_ID                                             \n37467                                                0.0   \n\n                TERMINAL_ID_TXN_COUNT_7_DAY_WINDOW  \\\nTRANSACTION_ID                                       \n37467                                          3.0   \n\n                TERMINAL_ID_FRAUD_RISK_30_DAY_WINDOW  \\\nTRANSACTION_ID                                         \n37467                                            0.0   \n\n                TERMINAL_ID_FRAUD_TXN_COUNT_30_DAY_WINDOW  \\\nTRANSACTION_ID                                              \n37467                                                 0.0   \n\n                TERMINAL_ID_TXN_COUNT_30_DAY_WINDOW  \nTRANSACTION_ID                                       \n37467                                           3.0  \n\n[1 rows x 31 columns]",
      "text/html": "<div>\n<style scoped>\n    .dataframe tbody tr th:only-of-type {\n        vertical-align: middle;\n    }\n\n    .dataframe tbody tr th {\n        vertical-align: top;\n    }\n\n    .dataframe thead th {\n        text-align: right;\n    }\n</style>\n<table border=\"1\" class=\"dataframe\">\n  <thead>\n    <tr style=\"text-align: right;\">\n      <th></th>\n      <th>TRANSACTION_ID</th>\n      <th>TX_DATETIME</th>\n      <th>CUSTOMER_ID</th>\n      <th>TERMINAL_ID</th>\n      <th>TX_AMOUNT</th>\n      <th>TX_TIME_SECONDS</th>\n      <th>TX_TIME_DAYS</th>\n      <th>TX_FRAUD</th>\n      <th>TX_FRAUD_SCENARIO</th>\n      <th>TX_DATE</th>\n      <th>...</th>\n      <th>CUSTOMER_ID_DAYS_SINCE_LAST_TXN</th>\n      <th>TERMINAL_ID_FRAUD_RISK_1_DAY_WINDOW</th>\n      <th>TERMINAL_ID_FRAUD_TXN_COUNT_1_DAY_WINDOW</th>\n      <th>TERMINAL_ID_TXN_COUNT_1_DAY_WINDOW</th>\n      <th>TERMINAL_ID_FRAUD_RISK_7_DAY_WINDOW</th>\n      <th>TERMINAL_ID_FRAUD_TXN_COUNT_7_DAY_WINDOW</th>\n      <th>TERMINAL_ID_TXN_COUNT_7_DAY_WINDOW</th>\n      <th>TERMINAL_ID_FRAUD_RISK_30_DAY_WINDOW</th>\n      <th>TERMINAL_ID_FRAUD_TXN_COUNT_30_DAY_WINDOW</th>\n      <th>TERMINAL_ID_TXN_COUNT_30_DAY_WINDOW</th>\n    </tr>\n    <tr>\n      <th>TRANSACTION_ID</th>\n      <th></th>\n      <th></th>\n      <th></th>\n      <th></th>\n      <th></th>\n      <th></th>\n      <th></th>\n      <th></th>\n      <th></th>\n      <th></th>\n      <th></th>\n      <th></th>\n      <th></th>\n      <th></th>\n      <th></th>\n      <th></th>\n      <th></th>\n      <th></th>\n      <th></th>\n      <th></th>\n      <th></th>\n    </tr>\n  </thead>\n  <tbody>\n    <tr>\n      <th>37467</th>\n      <td>37467</td>\n      <td>2018-04-04 19:00:35</td>\n      <td>398</td>\n      <td>6374</td>\n      <td>103.0</td>\n      <td>327635</td>\n      <td>3</td>\n      <td>1</td>\n      <td>3</td>\n      <td>2018-04-04</td>\n      <td>...</td>\n      <td>0</td>\n      <td>0.0</td>\n      <td>0.0</td>\n      <td>3.0</td>\n      <td>0.0</td>\n      <td>0.0</td>\n      <td>3.0</td>\n      <td>0.0</td>\n      <td>0.0</td>\n      <td>3.0</td>\n    </tr>\n  </tbody>\n</table>\n<p>1 rows × 31 columns</p>\n</div>"
     },
     "execution_count": 30,
     "metadata": {},
     "output_type": "execute_result"
    }
   ],
   "source": [
    "transactions_df[(transactions_df['TERMINAL_ID'] == random_terminal_id) & (transactions_df['TX_FRAUD'] == 1)]\n",
    "# 4th April had a fraud txn of $103"
   ],
   "metadata": {
    "collapsed": false
   }
  },
  {
   "cell_type": "code",
   "execution_count": 31,
   "outputs": [
    {
     "data": {
      "text/plain": "                       TX_DATETIME  TERMINAL_ID_FRAUD_TXN_COUNT_1_DAY_WINDOW  \\\nTRANSACTION_ID                                                                 \n2957           2018-04-01 09:26:24                                       0.0   \n9465           2018-04-01 23:35:20                                       0.0   \n23359          2018-04-03 11:06:33                                       0.0   \n37467          2018-04-04 19:00:35                                       0.0   \n47145          2018-04-05 19:01:45                                       0.0   \n57675          2018-04-07 01:36:00                                       0.0   \n58414          2018-04-07 05:04:22                                       0.0   \n59839          2018-04-07 08:05:51                                       0.0   \n60905          2018-04-07 09:49:22                                       0.0   \n88447          2018-04-10 08:14:17                                       0.0   \n99277          2018-04-11 10:00:51                                       0.0   \n116660         2018-04-13 06:59:44                                       0.0   \n164584         2018-04-18 07:03:59                                       0.0   \n177988         2018-04-19 13:00:28                                       0.0   \n187511         2018-04-20 13:03:17                                       0.0   \n187969         2018-04-20 13:41:38                                       0.0   \n197116         2018-04-21 13:01:56                                       0.0   \n203057         2018-04-22 07:12:06                                       0.0   \n218202         2018-04-23 15:24:11                                       0.0   \n221334         2018-04-24 04:05:35                                       0.0   \n236026         2018-04-25 13:19:39                                       0.0   \n237056         2018-04-25 14:55:31                                       0.0   \n253021         2018-04-27 10:13:23                                       0.0   \n\n                TERMINAL_ID_TXN_COUNT_1_DAY_WINDOW  \\\nTRANSACTION_ID                                       \n2957                                           1.0   \n9465                                           2.0   \n23359                                          3.0   \n37467                                          3.0   \n47145                                          4.0   \n57675                                          5.0   \n58414                                          6.0   \n59839                                          7.0   \n60905                                          8.0   \n88447                                          7.0   \n99277                                          8.0   \n116660                                         8.0   \n164584                                         4.0   \n177988                                         3.0   \n187511                                         4.0   \n187969                                         5.0   \n197116                                         5.0   \n203057                                         6.0   \n218202                                         7.0   \n221334                                         8.0   \n236026                                         9.0   \n237056                                        10.0   \n253021                                        10.0   \n\n                TERMINAL_ID_FRAUD_RISK_1_DAY_WINDOW  \nTRANSACTION_ID                                       \n2957                                            0.0  \n9465                                            0.0  \n23359                                           0.0  \n37467                                           0.0  \n47145                                           0.0  \n57675                                           0.0  \n58414                                           0.0  \n59839                                           0.0  \n60905                                           0.0  \n88447                                           0.0  \n99277                                           0.0  \n116660                                          0.0  \n164584                                          0.0  \n177988                                          0.0  \n187511                                          0.0  \n187969                                          0.0  \n197116                                          0.0  \n203057                                          0.0  \n218202                                          0.0  \n221334                                          0.0  \n236026                                          0.0  \n237056                                          0.0  \n253021                                          0.0  ",
      "text/html": "<div>\n<style scoped>\n    .dataframe tbody tr th:only-of-type {\n        vertical-align: middle;\n    }\n\n    .dataframe tbody tr th {\n        vertical-align: top;\n    }\n\n    .dataframe thead th {\n        text-align: right;\n    }\n</style>\n<table border=\"1\" class=\"dataframe\">\n  <thead>\n    <tr style=\"text-align: right;\">\n      <th></th>\n      <th>TX_DATETIME</th>\n      <th>TERMINAL_ID_FRAUD_TXN_COUNT_1_DAY_WINDOW</th>\n      <th>TERMINAL_ID_TXN_COUNT_1_DAY_WINDOW</th>\n      <th>TERMINAL_ID_FRAUD_RISK_1_DAY_WINDOW</th>\n    </tr>\n    <tr>\n      <th>TRANSACTION_ID</th>\n      <th></th>\n      <th></th>\n      <th></th>\n      <th></th>\n    </tr>\n  </thead>\n  <tbody>\n    <tr>\n      <th>2957</th>\n      <td>2018-04-01 09:26:24</td>\n      <td>0.0</td>\n      <td>1.0</td>\n      <td>0.0</td>\n    </tr>\n    <tr>\n      <th>9465</th>\n      <td>2018-04-01 23:35:20</td>\n      <td>0.0</td>\n      <td>2.0</td>\n      <td>0.0</td>\n    </tr>\n    <tr>\n      <th>23359</th>\n      <td>2018-04-03 11:06:33</td>\n      <td>0.0</td>\n      <td>3.0</td>\n      <td>0.0</td>\n    </tr>\n    <tr>\n      <th>37467</th>\n      <td>2018-04-04 19:00:35</td>\n      <td>0.0</td>\n      <td>3.0</td>\n      <td>0.0</td>\n    </tr>\n    <tr>\n      <th>47145</th>\n      <td>2018-04-05 19:01:45</td>\n      <td>0.0</td>\n      <td>4.0</td>\n      <td>0.0</td>\n    </tr>\n    <tr>\n      <th>57675</th>\n      <td>2018-04-07 01:36:00</td>\n      <td>0.0</td>\n      <td>5.0</td>\n      <td>0.0</td>\n    </tr>\n    <tr>\n      <th>58414</th>\n      <td>2018-04-07 05:04:22</td>\n      <td>0.0</td>\n      <td>6.0</td>\n      <td>0.0</td>\n    </tr>\n    <tr>\n      <th>59839</th>\n      <td>2018-04-07 08:05:51</td>\n      <td>0.0</td>\n      <td>7.0</td>\n      <td>0.0</td>\n    </tr>\n    <tr>\n      <th>60905</th>\n      <td>2018-04-07 09:49:22</td>\n      <td>0.0</td>\n      <td>8.0</td>\n      <td>0.0</td>\n    </tr>\n    <tr>\n      <th>88447</th>\n      <td>2018-04-10 08:14:17</td>\n      <td>0.0</td>\n      <td>7.0</td>\n      <td>0.0</td>\n    </tr>\n    <tr>\n      <th>99277</th>\n      <td>2018-04-11 10:00:51</td>\n      <td>0.0</td>\n      <td>8.0</td>\n      <td>0.0</td>\n    </tr>\n    <tr>\n      <th>116660</th>\n      <td>2018-04-13 06:59:44</td>\n      <td>0.0</td>\n      <td>8.0</td>\n      <td>0.0</td>\n    </tr>\n    <tr>\n      <th>164584</th>\n      <td>2018-04-18 07:03:59</td>\n      <td>0.0</td>\n      <td>4.0</td>\n      <td>0.0</td>\n    </tr>\n    <tr>\n      <th>177988</th>\n      <td>2018-04-19 13:00:28</td>\n      <td>0.0</td>\n      <td>3.0</td>\n      <td>0.0</td>\n    </tr>\n    <tr>\n      <th>187511</th>\n      <td>2018-04-20 13:03:17</td>\n      <td>0.0</td>\n      <td>4.0</td>\n      <td>0.0</td>\n    </tr>\n    <tr>\n      <th>187969</th>\n      <td>2018-04-20 13:41:38</td>\n      <td>0.0</td>\n      <td>5.0</td>\n      <td>0.0</td>\n    </tr>\n    <tr>\n      <th>197116</th>\n      <td>2018-04-21 13:01:56</td>\n      <td>0.0</td>\n      <td>5.0</td>\n      <td>0.0</td>\n    </tr>\n    <tr>\n      <th>203057</th>\n      <td>2018-04-22 07:12:06</td>\n      <td>0.0</td>\n      <td>6.0</td>\n      <td>0.0</td>\n    </tr>\n    <tr>\n      <th>218202</th>\n      <td>2018-04-23 15:24:11</td>\n      <td>0.0</td>\n      <td>7.0</td>\n      <td>0.0</td>\n    </tr>\n    <tr>\n      <th>221334</th>\n      <td>2018-04-24 04:05:35</td>\n      <td>0.0</td>\n      <td>8.0</td>\n      <td>0.0</td>\n    </tr>\n    <tr>\n      <th>236026</th>\n      <td>2018-04-25 13:19:39</td>\n      <td>0.0</td>\n      <td>9.0</td>\n      <td>0.0</td>\n    </tr>\n    <tr>\n      <th>237056</th>\n      <td>2018-04-25 14:55:31</td>\n      <td>0.0</td>\n      <td>10.0</td>\n      <td>0.0</td>\n    </tr>\n    <tr>\n      <th>253021</th>\n      <td>2018-04-27 10:13:23</td>\n      <td>0.0</td>\n      <td>10.0</td>\n      <td>0.0</td>\n    </tr>\n  </tbody>\n</table>\n</div>"
     },
     "execution_count": 31,
     "metadata": {},
     "output_type": "execute_result"
    }
   ],
   "source": [
    "transactions_df[transactions_df['TERMINAL_ID'] == random_terminal_id][['TX_DATETIME', 'TERMINAL_ID_FRAUD_TXN_COUNT_1_DAY_WINDOW', 'TERMINAL_ID_TXN_COUNT_1_DAY_WINDOW', 'TERMINAL_ID_FRAUD_RISK_1_DAY_WINDOW']]"
   ],
   "metadata": {
    "collapsed": false
   }
  },
  {
   "cell_type": "code",
   "execution_count": 32,
   "outputs": [
    {
     "data": {
      "text/plain": "                       TX_DATETIME  TERMINAL_ID_FRAUD_TXN_COUNT_7_DAY_WINDOW  \\\nTRANSACTION_ID                                                                 \n2957           2018-04-01 09:26:24                                       0.0   \n9465           2018-04-01 23:35:20                                       0.0   \n23359          2018-04-03 11:06:33                                       0.0   \n37467          2018-04-04 19:00:35                                       0.0   \n47145          2018-04-05 19:01:45                                       0.0   \n57675          2018-04-07 01:36:00                                       0.0   \n58414          2018-04-07 05:04:22                                       0.0   \n59839          2018-04-07 08:05:51                                       0.0   \n60905          2018-04-07 09:49:22                                       0.0   \n88447          2018-04-10 08:14:17                                       0.0   \n99277          2018-04-11 10:00:51                                       0.0   \n116660         2018-04-13 06:59:44                                       1.0   \n164584         2018-04-18 07:03:59                                       1.0   \n177988         2018-04-19 13:00:28                                       0.0   \n187511         2018-04-20 13:03:17                                       0.0   \n187969         2018-04-20 13:41:38                                       0.0   \n197116         2018-04-21 13:01:56                                       0.0   \n203057         2018-04-22 07:12:06                                       0.0   \n218202         2018-04-23 15:24:11                                       0.0   \n221334         2018-04-24 04:05:35                                       0.0   \n236026         2018-04-25 13:19:39                                       0.0   \n237056         2018-04-25 14:55:31                                       0.0   \n253021         2018-04-27 10:13:23                                       0.0   \n\n                TERMINAL_ID_TXN_COUNT_7_DAY_WINDOW  \\\nTRANSACTION_ID                                       \n2957                                           1.0   \n9465                                           2.0   \n23359                                          3.0   \n37467                                          3.0   \n47145                                          4.0   \n57675                                          5.0   \n58414                                          6.0   \n59839                                          7.0   \n60905                                          8.0   \n88447                                          9.0   \n99277                                         10.0   \n116660                                        12.0   \n164584                                        10.0   \n177988                                        10.0   \n187511                                        10.0   \n187969                                        11.0   \n197116                                         8.0   \n203057                                         9.0   \n218202                                        10.0   \n221334                                        11.0   \n236026                                        10.0   \n237056                                        11.0   \n253021                                        11.0   \n\n                TERMINAL_ID_FRAUD_RISK_7_DAY_WINDOW  \nTRANSACTION_ID                                       \n2957                                            0.0  \n9465                                            0.0  \n23359                                           0.0  \n37467                                           0.0  \n47145                                           0.0  \n57675                                           0.0  \n58414                                           0.0  \n59839                                           0.0  \n60905                                           0.0  \n88447                                           0.0  \n99277                                           0.0  \n116660                                          0.1  \n164584                                          0.1  \n177988                                          0.0  \n187511                                          0.0  \n187969                                          0.0  \n197116                                          0.0  \n203057                                          0.0  \n218202                                          0.0  \n221334                                          0.0  \n236026                                          0.0  \n237056                                          0.0  \n253021                                          0.0  ",
      "text/html": "<div>\n<style scoped>\n    .dataframe tbody tr th:only-of-type {\n        vertical-align: middle;\n    }\n\n    .dataframe tbody tr th {\n        vertical-align: top;\n    }\n\n    .dataframe thead th {\n        text-align: right;\n    }\n</style>\n<table border=\"1\" class=\"dataframe\">\n  <thead>\n    <tr style=\"text-align: right;\">\n      <th></th>\n      <th>TX_DATETIME</th>\n      <th>TERMINAL_ID_FRAUD_TXN_COUNT_7_DAY_WINDOW</th>\n      <th>TERMINAL_ID_TXN_COUNT_7_DAY_WINDOW</th>\n      <th>TERMINAL_ID_FRAUD_RISK_7_DAY_WINDOW</th>\n    </tr>\n    <tr>\n      <th>TRANSACTION_ID</th>\n      <th></th>\n      <th></th>\n      <th></th>\n      <th></th>\n    </tr>\n  </thead>\n  <tbody>\n    <tr>\n      <th>2957</th>\n      <td>2018-04-01 09:26:24</td>\n      <td>0.0</td>\n      <td>1.0</td>\n      <td>0.0</td>\n    </tr>\n    <tr>\n      <th>9465</th>\n      <td>2018-04-01 23:35:20</td>\n      <td>0.0</td>\n      <td>2.0</td>\n      <td>0.0</td>\n    </tr>\n    <tr>\n      <th>23359</th>\n      <td>2018-04-03 11:06:33</td>\n      <td>0.0</td>\n      <td>3.0</td>\n      <td>0.0</td>\n    </tr>\n    <tr>\n      <th>37467</th>\n      <td>2018-04-04 19:00:35</td>\n      <td>0.0</td>\n      <td>3.0</td>\n      <td>0.0</td>\n    </tr>\n    <tr>\n      <th>47145</th>\n      <td>2018-04-05 19:01:45</td>\n      <td>0.0</td>\n      <td>4.0</td>\n      <td>0.0</td>\n    </tr>\n    <tr>\n      <th>57675</th>\n      <td>2018-04-07 01:36:00</td>\n      <td>0.0</td>\n      <td>5.0</td>\n      <td>0.0</td>\n    </tr>\n    <tr>\n      <th>58414</th>\n      <td>2018-04-07 05:04:22</td>\n      <td>0.0</td>\n      <td>6.0</td>\n      <td>0.0</td>\n    </tr>\n    <tr>\n      <th>59839</th>\n      <td>2018-04-07 08:05:51</td>\n      <td>0.0</td>\n      <td>7.0</td>\n      <td>0.0</td>\n    </tr>\n    <tr>\n      <th>60905</th>\n      <td>2018-04-07 09:49:22</td>\n      <td>0.0</td>\n      <td>8.0</td>\n      <td>0.0</td>\n    </tr>\n    <tr>\n      <th>88447</th>\n      <td>2018-04-10 08:14:17</td>\n      <td>0.0</td>\n      <td>9.0</td>\n      <td>0.0</td>\n    </tr>\n    <tr>\n      <th>99277</th>\n      <td>2018-04-11 10:00:51</td>\n      <td>0.0</td>\n      <td>10.0</td>\n      <td>0.0</td>\n    </tr>\n    <tr>\n      <th>116660</th>\n      <td>2018-04-13 06:59:44</td>\n      <td>1.0</td>\n      <td>12.0</td>\n      <td>0.1</td>\n    </tr>\n    <tr>\n      <th>164584</th>\n      <td>2018-04-18 07:03:59</td>\n      <td>1.0</td>\n      <td>10.0</td>\n      <td>0.1</td>\n    </tr>\n    <tr>\n      <th>177988</th>\n      <td>2018-04-19 13:00:28</td>\n      <td>0.0</td>\n      <td>10.0</td>\n      <td>0.0</td>\n    </tr>\n    <tr>\n      <th>187511</th>\n      <td>2018-04-20 13:03:17</td>\n      <td>0.0</td>\n      <td>10.0</td>\n      <td>0.0</td>\n    </tr>\n    <tr>\n      <th>187969</th>\n      <td>2018-04-20 13:41:38</td>\n      <td>0.0</td>\n      <td>11.0</td>\n      <td>0.0</td>\n    </tr>\n    <tr>\n      <th>197116</th>\n      <td>2018-04-21 13:01:56</td>\n      <td>0.0</td>\n      <td>8.0</td>\n      <td>0.0</td>\n    </tr>\n    <tr>\n      <th>203057</th>\n      <td>2018-04-22 07:12:06</td>\n      <td>0.0</td>\n      <td>9.0</td>\n      <td>0.0</td>\n    </tr>\n    <tr>\n      <th>218202</th>\n      <td>2018-04-23 15:24:11</td>\n      <td>0.0</td>\n      <td>10.0</td>\n      <td>0.0</td>\n    </tr>\n    <tr>\n      <th>221334</th>\n      <td>2018-04-24 04:05:35</td>\n      <td>0.0</td>\n      <td>11.0</td>\n      <td>0.0</td>\n    </tr>\n    <tr>\n      <th>236026</th>\n      <td>2018-04-25 13:19:39</td>\n      <td>0.0</td>\n      <td>10.0</td>\n      <td>0.0</td>\n    </tr>\n    <tr>\n      <th>237056</th>\n      <td>2018-04-25 14:55:31</td>\n      <td>0.0</td>\n      <td>11.0</td>\n      <td>0.0</td>\n    </tr>\n    <tr>\n      <th>253021</th>\n      <td>2018-04-27 10:13:23</td>\n      <td>0.0</td>\n      <td>11.0</td>\n      <td>0.0</td>\n    </tr>\n  </tbody>\n</table>\n</div>"
     },
     "execution_count": 32,
     "metadata": {},
     "output_type": "execute_result"
    }
   ],
   "source": [
    "transactions_df[transactions_df['TERMINAL_ID'] == random_terminal_id][['TX_DATETIME', 'TERMINAL_ID_FRAUD_TXN_COUNT_7_DAY_WINDOW', 'TERMINAL_ID_TXN_COUNT_7_DAY_WINDOW', 'TERMINAL_ID_FRAUD_RISK_7_DAY_WINDOW']]"
   ],
   "metadata": {
    "collapsed": false
   }
  },
  {
   "cell_type": "code",
   "execution_count": 33,
   "outputs": [
    {
     "data": {
      "text/plain": "                       TX_DATETIME  TERMINAL_ID_FRAUD_TXN_COUNT_30_DAY_WINDOW  \\\nTRANSACTION_ID                                                                  \n2957           2018-04-01 09:26:24                                        0.0   \n9465           2018-04-01 23:35:20                                        0.0   \n23359          2018-04-03 11:06:33                                        0.0   \n37467          2018-04-04 19:00:35                                        0.0   \n47145          2018-04-05 19:01:45                                        0.0   \n57675          2018-04-07 01:36:00                                        0.0   \n58414          2018-04-07 05:04:22                                        0.0   \n59839          2018-04-07 08:05:51                                        0.0   \n60905          2018-04-07 09:49:22                                        0.0   \n88447          2018-04-10 08:14:17                                        0.0   \n99277          2018-04-11 10:00:51                                        0.0   \n116660         2018-04-13 06:59:44                                        1.0   \n164584         2018-04-18 07:03:59                                        1.0   \n177988         2018-04-19 13:00:28                                        1.0   \n187511         2018-04-20 13:03:17                                        1.0   \n187969         2018-04-20 13:41:38                                        1.0   \n197116         2018-04-21 13:01:56                                        1.0   \n203057         2018-04-22 07:12:06                                        1.0   \n218202         2018-04-23 15:24:11                                        1.0   \n221334         2018-04-24 04:05:35                                        1.0   \n236026         2018-04-25 13:19:39                                        1.0   \n237056         2018-04-25 14:55:31                                        1.0   \n253021         2018-04-27 10:13:23                                        1.0   \n\n                TERMINAL_ID_TXN_COUNT_30_DAY_WINDOW  \\\nTRANSACTION_ID                                        \n2957                                            1.0   \n9465                                            2.0   \n23359                                           3.0   \n37467                                           3.0   \n47145                                           4.0   \n57675                                           5.0   \n58414                                           6.0   \n59839                                           7.0   \n60905                                           8.0   \n88447                                           9.0   \n99277                                          10.0   \n116660                                         12.0   \n164584                                         13.0   \n177988                                         14.0   \n187511                                         15.0   \n187969                                         16.0   \n197116                                         17.0   \n203057                                         18.0   \n218202                                         19.0   \n221334                                         20.0   \n236026                                         21.0   \n237056                                         22.0   \n253021                                         23.0   \n\n                TERMINAL_ID_FRAUD_RISK_30_DAY_WINDOW  \nTRANSACTION_ID                                        \n2957                                             0.0  \n9465                                             0.0  \n23359                                            0.0  \n37467                                            0.0  \n47145                                            0.0  \n57675                                            0.0  \n58414                                            0.0  \n59839                                            0.0  \n60905                                            0.0  \n88447                                            0.0  \n99277                                            0.0  \n116660                                           0.1  \n164584                                           0.1  \n177988                                           0.1  \n187511                                           0.1  \n187969                                           0.1  \n197116                                           0.1  \n203057                                           0.1  \n218202                                           0.1  \n221334                                           0.1  \n236026                                           0.0  \n237056                                           0.0  \n253021                                           0.0  ",
      "text/html": "<div>\n<style scoped>\n    .dataframe tbody tr th:only-of-type {\n        vertical-align: middle;\n    }\n\n    .dataframe tbody tr th {\n        vertical-align: top;\n    }\n\n    .dataframe thead th {\n        text-align: right;\n    }\n</style>\n<table border=\"1\" class=\"dataframe\">\n  <thead>\n    <tr style=\"text-align: right;\">\n      <th></th>\n      <th>TX_DATETIME</th>\n      <th>TERMINAL_ID_FRAUD_TXN_COUNT_30_DAY_WINDOW</th>\n      <th>TERMINAL_ID_TXN_COUNT_30_DAY_WINDOW</th>\n      <th>TERMINAL_ID_FRAUD_RISK_30_DAY_WINDOW</th>\n    </tr>\n    <tr>\n      <th>TRANSACTION_ID</th>\n      <th></th>\n      <th></th>\n      <th></th>\n      <th></th>\n    </tr>\n  </thead>\n  <tbody>\n    <tr>\n      <th>2957</th>\n      <td>2018-04-01 09:26:24</td>\n      <td>0.0</td>\n      <td>1.0</td>\n      <td>0.0</td>\n    </tr>\n    <tr>\n      <th>9465</th>\n      <td>2018-04-01 23:35:20</td>\n      <td>0.0</td>\n      <td>2.0</td>\n      <td>0.0</td>\n    </tr>\n    <tr>\n      <th>23359</th>\n      <td>2018-04-03 11:06:33</td>\n      <td>0.0</td>\n      <td>3.0</td>\n      <td>0.0</td>\n    </tr>\n    <tr>\n      <th>37467</th>\n      <td>2018-04-04 19:00:35</td>\n      <td>0.0</td>\n      <td>3.0</td>\n      <td>0.0</td>\n    </tr>\n    <tr>\n      <th>47145</th>\n      <td>2018-04-05 19:01:45</td>\n      <td>0.0</td>\n      <td>4.0</td>\n      <td>0.0</td>\n    </tr>\n    <tr>\n      <th>57675</th>\n      <td>2018-04-07 01:36:00</td>\n      <td>0.0</td>\n      <td>5.0</td>\n      <td>0.0</td>\n    </tr>\n    <tr>\n      <th>58414</th>\n      <td>2018-04-07 05:04:22</td>\n      <td>0.0</td>\n      <td>6.0</td>\n      <td>0.0</td>\n    </tr>\n    <tr>\n      <th>59839</th>\n      <td>2018-04-07 08:05:51</td>\n      <td>0.0</td>\n      <td>7.0</td>\n      <td>0.0</td>\n    </tr>\n    <tr>\n      <th>60905</th>\n      <td>2018-04-07 09:49:22</td>\n      <td>0.0</td>\n      <td>8.0</td>\n      <td>0.0</td>\n    </tr>\n    <tr>\n      <th>88447</th>\n      <td>2018-04-10 08:14:17</td>\n      <td>0.0</td>\n      <td>9.0</td>\n      <td>0.0</td>\n    </tr>\n    <tr>\n      <th>99277</th>\n      <td>2018-04-11 10:00:51</td>\n      <td>0.0</td>\n      <td>10.0</td>\n      <td>0.0</td>\n    </tr>\n    <tr>\n      <th>116660</th>\n      <td>2018-04-13 06:59:44</td>\n      <td>1.0</td>\n      <td>12.0</td>\n      <td>0.1</td>\n    </tr>\n    <tr>\n      <th>164584</th>\n      <td>2018-04-18 07:03:59</td>\n      <td>1.0</td>\n      <td>13.0</td>\n      <td>0.1</td>\n    </tr>\n    <tr>\n      <th>177988</th>\n      <td>2018-04-19 13:00:28</td>\n      <td>1.0</td>\n      <td>14.0</td>\n      <td>0.1</td>\n    </tr>\n    <tr>\n      <th>187511</th>\n      <td>2018-04-20 13:03:17</td>\n      <td>1.0</td>\n      <td>15.0</td>\n      <td>0.1</td>\n    </tr>\n    <tr>\n      <th>187969</th>\n      <td>2018-04-20 13:41:38</td>\n      <td>1.0</td>\n      <td>16.0</td>\n      <td>0.1</td>\n    </tr>\n    <tr>\n      <th>197116</th>\n      <td>2018-04-21 13:01:56</td>\n      <td>1.0</td>\n      <td>17.0</td>\n      <td>0.1</td>\n    </tr>\n    <tr>\n      <th>203057</th>\n      <td>2018-04-22 07:12:06</td>\n      <td>1.0</td>\n      <td>18.0</td>\n      <td>0.1</td>\n    </tr>\n    <tr>\n      <th>218202</th>\n      <td>2018-04-23 15:24:11</td>\n      <td>1.0</td>\n      <td>19.0</td>\n      <td>0.1</td>\n    </tr>\n    <tr>\n      <th>221334</th>\n      <td>2018-04-24 04:05:35</td>\n      <td>1.0</td>\n      <td>20.0</td>\n      <td>0.1</td>\n    </tr>\n    <tr>\n      <th>236026</th>\n      <td>2018-04-25 13:19:39</td>\n      <td>1.0</td>\n      <td>21.0</td>\n      <td>0.0</td>\n    </tr>\n    <tr>\n      <th>237056</th>\n      <td>2018-04-25 14:55:31</td>\n      <td>1.0</td>\n      <td>22.0</td>\n      <td>0.0</td>\n    </tr>\n    <tr>\n      <th>253021</th>\n      <td>2018-04-27 10:13:23</td>\n      <td>1.0</td>\n      <td>23.0</td>\n      <td>0.0</td>\n    </tr>\n  </tbody>\n</table>\n</div>"
     },
     "execution_count": 33,
     "metadata": {},
     "output_type": "execute_result"
    }
   ],
   "source": [
    "transactions_df[transactions_df['TERMINAL_ID'] == random_terminal_id][['TX_DATETIME', 'TERMINAL_ID_FRAUD_TXN_COUNT_30_DAY_WINDOW', 'TERMINAL_ID_TXN_COUNT_30_DAY_WINDOW', 'TERMINAL_ID_FRAUD_RISK_30_DAY_WINDOW']]"
   ],
   "metadata": {
    "collapsed": false
   }
  }
 ],
 "metadata": {
  "kernelspec": {
   "display_name": "Python 3",
   "language": "python",
   "name": "python3"
  },
  "language_info": {
   "codemirror_mode": {
    "name": "ipython",
    "version": 2
   },
   "file_extension": ".py",
   "mimetype": "text/x-python",
   "name": "python",
   "nbconvert_exporter": "python",
   "pygments_lexer": "ipython2",
   "version": "2.7.6"
  }
 },
 "nbformat": 4,
 "nbformat_minor": 0
}
