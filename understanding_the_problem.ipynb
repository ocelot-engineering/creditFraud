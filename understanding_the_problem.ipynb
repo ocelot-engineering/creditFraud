{
 "cells": [
  {
   "cell_type": "markdown",
   "source": [
    "# Credit Card Fraud Detection (CCFD)\n",
    "\n",
    "The following notebook was created to research the problem of credit card fraud before looking into the dataset provided.\n",
    "\n",
    "Open source dataset: <https://www.kaggle.com/datasets/mlg-ulb/creditcardfraud>\n",
    "Great resources:\n",
    "- [Fraud Detection Handbook](https://fraud-detection-handbook.github.io/fraud-detection-handbook/)\n",
    "- [Credit card fraud detection using machine\n",
    "learning: A survey](https://arxiv.org/pdf/2010.06479.pdf)\n"
   ],
   "metadata": {
    "collapsed": false
   }
  },
  {
   "cell_type": "markdown",
   "source": [
    "## Background\n",
    "According to the Common Library Research briefing released in 2022, criminals stole `£1.2b` from individuals in 2019 through banking and fraud scams, many of whom do not get their money back\n",
    "\n",
    "Fraud and genuine spending patterns change over time, meaning ML models constantly need to be updated to flag fraudulent spending.\n",
    "\n",
    "Transaction scenarios:\n",
    "   - **CP - Card-present**\n",
    "        -  e.g. ATM, POS\n",
    "   - **CNP - Card-not-present**\n",
    "        - e.g. internet, phone, mail\n",
    "\n",
    "Currently, fraudsters are more likely to exploit the deficiency of CNP. This is because of the physicality needed with CP payments, as well as, well established fraud defense with CP. Chip in a card is one way the card companies defend against this. This is also known as chip-and-pin or **EMV** technology *(Europay Mastercard and Visa, i.e. chip-embedded cards)*.\n",
    "\n",
    "\n",
    "CP fraud:\n",
    "- Lost or stolen\n",
    "    - usually characterised by spending a lot in a short period of time before the card is cancelled.\n",
    "- Counterfeit card\n",
    "    - usually produced by a skimming device, where a counterfeit card is produced. Can wait a long time before using this card since the owner is generally not aware.\n",
    "- Card not received\n",
    "    - card is intercepted in the mail, or fraudster has bank account login details and orders card to a different address. Owner is usually not aware this has happened so fraudsters may not spend rapidly at first.\n",
    "\n",
    "CNP fraud:\n",
    "- Fraudsters usually steal information then sell it on the dark web. Therefore those that steal the data and those that conduct the payment fraud are usually different groups\n",
    "- Data breach\n",
    "    - Company is hacked and leaks credit card and personal info\n",
    "- Phishing\n",
    "    - email or sms message tricks a user into providing personal or credit card information."
   ],
   "metadata": {
    "collapsed": false
   }
  },
  {
   "cell_type": "markdown",
   "source": [
    "## Fraud detection systems\n",
    "\n",
    "Generally consist of 5 layers of control:\n",
    "<br>\n",
    "<img src=\"resources/fraud_system.png\">\n",
    "<br>\n",
    "1. Terminal\n",
    "- Checks pin, sufficient balance, active account, etc.\n",
    "- Executed very quickly (milliseconds).\n",
    "2. Transaction blocking rules\n",
    "- `if-else` statements that are very precise with their blocking.\n",
    "- Usually blocked due to visiting a known fraudulent website or similar.\n",
    "- Does not check the customers historical transactions to make a decision.\n",
    "3. Rules based detection\n",
    "- Rules based scoring built by experts. Score is usually a percentage, if past a threshold then send to investigator.\n",
    "- E.g. \"if previous transaction was in different continent 1hr ago then flag\".\n",
    "- Only flags known patterns and takes a lot of effort to maintain.\n",
    "4. Machine Learning based detection\n",
    "- An ML model that gives a percentage score of likelihood that transaction is fraudulent.\n",
    "- Simplest model is a logistic regression.\n",
    "- Will be regularly retrained to avoid model staleness.\n",
    "5. Investigation (by human)\n",
    "- A human investigator will deep dive into the customers behaviour and potentially speak to a customer to determine if the transaction(s) were fraudulent\n",
    "- Can also send a message to a customer to check, but this can erode a customers trust if it occurs too often.\n"
   ],
   "metadata": {
    "collapsed": false
   }
  },
  {
   "cell_type": "markdown",
   "source": [
    "### Machine learning in CCFD\n",
    "\n",
    "Common data used in CCFD problems\n",
    "- Account: account ID, card limit, card expiry, date account was opened, etc.\n",
    "- Transactions: transaction time, amount, terminal, country, etc.\n",
    "- Customer: customer type (from segmentation model), etc.\n",
    "\n",
    "Outputs of an CCFD model can be:\n",
    "- Binary label of fraud or not.\n",
    "- Probability of fraud or not.\n",
    "- A risk real numbered risk score.\n",
    "\n",
    "Common ML methods for CCFD are: Random forests, LSTM DL, SVMs, Logistic regression, boosted decision forest.\n",
    "\n",
    "Challenges with CCFD problems\n",
    "- Class imbalance\n",
    "    - usually require techniques to handle this such as downsampling and loss weighting.\n",
    "- Concept drift\n",
    "    - genuine spending patterns and fraudulent patterns change over time, so models need to be robust to this change.\n",
    "- Near real time requirements\n",
    "    - ML CCFD problems have a huge volume of data to process, so they need to scale very well and be available in close to real time. Dealys in identifying fraud can cost huge amounts of money.\n",
    "- Lack of public datasets\n",
    "    - Due to the confidential nature of fraud detection, there are very few public datasets made available that researchers can use.\n",
    "    - There is a famous credit fraud dataset made available on Kaggle, but this has undergone PCA dimensionality reduction on all the features which effectively takes away the ability for a human to analyse the data given all the features are obfuscated.\n",
    "    - Simulators can be used instead to create synthetic data.\n"
   ],
   "metadata": {
    "collapsed": false
   }
  }
 ],
 "metadata": {
  "kernelspec": {
   "display_name": "Python 3",
   "language": "python",
   "name": "python3"
  },
  "language_info": {
   "codemirror_mode": {
    "name": "ipython",
    "version": 2
   },
   "file_extension": ".py",
   "mimetype": "text/x-python",
   "name": "python",
   "nbconvert_exporter": "python",
   "pygments_lexer": "ipython2",
   "version": "2.7.6"
  }
 },
 "nbformat": 4,
 "nbformat_minor": 0
}
