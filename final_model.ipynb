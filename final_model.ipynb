{
 "cells": [
  {
   "cell_type": "markdown",
   "source": [
    "# Final model build and evaluation\n",
    "\n",
    "At this point the model class has been chosen and there is a good idea of what sort of hyperparameters should be used. Plus there is an understanding of how to address the imbalanced to improve the model performance.\n",
    "\n",
    "This notebook is for production of the final model. Given this is a small project, there will not be further work done to deploy to speed up training or scoring. But in reality, there is a lot more work required once the model is produced, such as:\n",
    "\n",
    "- deep model validation to ensure the outputs are correct\n",
    "- confirmation no laws or business rules are being broken with data usage, etc\n",
    "- determine model retraining schedule\n",
    "- determine threshold where model improvement is required\n",
    "- setup production monitoring if not already in place\n",
    "- deploy to production\n",
    "- etc"
   ],
   "metadata": {
    "collapsed": false
   }
  },
  {
   "cell_type": "markdown",
   "source": [
    "## Addressing imbalanced dataset"
   ],
   "metadata": {
    "collapsed": false
   }
  },
  {
   "cell_type": "markdown",
   "source": [
    "## Fine-tuning of hyperparameters"
   ],
   "metadata": {
    "collapsed": false
   }
  },
  {
   "cell_type": "markdown",
   "source": [
    "## Final evaluation"
   ],
   "metadata": {
    "collapsed": false
   }
  },
  {
   "cell_type": "markdown",
   "source": [
    "## Save model"
   ],
   "metadata": {
    "collapsed": false
   }
  },
  {
   "cell_type": "markdown",
   "source": [
    "# Learnings\n",
    "\n",
    "- Challenges in this project\n",
    "- Deployment suggestions\n",
    "- Other learnings"
   ],
   "metadata": {
    "collapsed": false
   }
  },
  {
   "cell_type": "code",
   "execution_count": null,
   "outputs": [],
   "source": [],
   "metadata": {
    "collapsed": false
   }
  }
 ],
 "metadata": {
  "kernelspec": {
   "display_name": "Python 3",
   "language": "python",
   "name": "python3"
  },
  "language_info": {
   "codemirror_mode": {
    "name": "ipython",
    "version": 2
   },
   "file_extension": ".py",
   "mimetype": "text/x-python",
   "name": "python",
   "nbconvert_exporter": "python",
   "pygments_lexer": "ipython2",
   "version": "2.7.6"
  }
 },
 "nbformat": 4,
 "nbformat_minor": 0
}
